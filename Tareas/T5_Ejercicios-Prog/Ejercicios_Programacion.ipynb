{
 "cells": [
  {
   "cell_type": "markdown",
   "metadata": {},
   "source": [
    "# Universidad Nacional Autónoma de México\n",
    "## Facultad de Ciencias\n",
    "### Computación 8093\n",
    "\n",
    "___\n",
    "\n",
    "#### Rodrigo Segura Moreno\n",
    "____"
   ]
  },
  {
   "cell_type": "markdown",
   "metadata": {},
   "source": [
    "**1.a** Calcular el promedio de dos números *a* y *b* introducidos por el usuario.\n",
    "\n",
    "$$ \\frac{a+b}{2} $$"
   ]
  },
  {
   "cell_type": "code",
   "execution_count": 1,
   "metadata": {},
   "outputs": [
    {
     "name": "stdout",
     "output_type": "stream",
     "text": [
      "Las siguientes celdas calculan el promedio de cualesquiera dos números reales a y b \n",
      "\n"
     ]
    }
   ],
   "source": [
    "print(\"Las siguientes celdas calculan el promedio de cualesquiera dos números reales a y b \\n\")"
   ]
  },
  {
   "cell_type": "code",
   "execution_count": 2,
   "metadata": {},
   "outputs": [
    {
     "name": "stdin",
     "output_type": "stream",
     "text": [
      "Introduzca un valor de 'a':  3.4\n",
      "Introduzca un valor de 'b':  -0.17\n"
     ]
    }
   ],
   "source": [
    "var_a = input(\"Introduzca un valor de 'a': \") # Usuario introduce valor de 'a'\n",
    "var_b = input(\"Introduzca un valor de 'b': \") # Usuario introduce valor de 'b'"
   ]
  },
  {
   "cell_type": "code",
   "execution_count": 3,
   "metadata": {},
   "outputs": [],
   "source": [
    "# Esta función verifica que 'n' sea real y en caso de serlo, convierte el valor a float.\n",
    "def real(numero1):\n",
    "    # Probamos que 'n' se pueda volver un float\n",
    "    try:\n",
    "        n = float(numero1)\n",
    "    # Si 'n' no se pudo convertir a float, ocurre esto\n",
    "    except:\n",
    "        print(\"\\nParece ser que no introdujiste un número natural. Por favor corra las celdas de nuevo.\")\n",
    "    # Si 'n' se puede convertir a float, ocurre esto\n",
    "    else:\n",
    "        print(\"El valor introducido '\" + str(numero1) + \"', es válido.\")\n",
    "        print(\"Por favor, continue.\")\n",
    "    # Si 'n' se convirtió a float, devolvemos el nuevo valor de 'n'\n",
    "    return n"
   ]
  },
  {
   "cell_type": "code",
   "execution_count": 4,
   "metadata": {},
   "outputs": [
    {
     "name": "stdout",
     "output_type": "stream",
     "text": [
      "El valor introducido '3.4', es válido.\n",
      "Por favor, continue.\n"
     ]
    }
   ],
   "source": [
    "# Checamos que 'a' sea real y lo convertimos\n",
    "a = real(var_a)"
   ]
  },
  {
   "cell_type": "code",
   "execution_count": 5,
   "metadata": {},
   "outputs": [
    {
     "name": "stdout",
     "output_type": "stream",
     "text": [
      "El valor introducido '-0.17', es válido.\n",
      "Por favor, continue.\n"
     ]
    }
   ],
   "source": [
    "# Checamos que 'b' sea real y lo convertimos\n",
    "b = real(var_b)"
   ]
  },
  {
   "cell_type": "code",
   "execution_count": 6,
   "metadata": {},
   "outputs": [],
   "source": [
    "p = (a+b)/2 # Promedio de 'a' y 'b'"
   ]
  },
  {
   "cell_type": "code",
   "execution_count": 7,
   "metadata": {},
   "outputs": [
    {
     "name": "stdout",
     "output_type": "stream",
     "text": [
      "El promedio de 3.4 y de -0.17 es 1.615\n"
     ]
    }
   ],
   "source": [
    "print(\"El promedio de \" + str(a) + \" y de \" + str(b) + \" es \" + str(p))"
   ]
  },
  {
   "cell_type": "markdown",
   "metadata": {},
   "source": [
    "___\n",
    "**1.b** La suma desde 0 hasta un número *n* introducido por el usuario.\n",
    "\n",
    "$$\\sum_{i=0}^{n}i$$"
   ]
  },
  {
   "cell_type": "code",
   "execution_count": 8,
   "metadata": {},
   "outputs": [
    {
     "name": "stdout",
     "output_type": "stream",
     "text": [
      "Las siguientes celdas calculan la suma de desde 0 hasta 'n', donde 'n' es un número natural.\n",
      "\n"
     ]
    }
   ],
   "source": [
    "print(\"Las siguientes celdas calculan la suma de desde 0 hasta 'n', donde 'n' es un número natural.\\n\")"
   ]
  },
  {
   "cell_type": "code",
   "execution_count": 9,
   "metadata": {},
   "outputs": [
    {
     "name": "stdin",
     "output_type": "stream",
     "text": [
      "Introduce un valor de 'n': 100\n"
     ]
    }
   ],
   "source": [
    "n = input(\"Introduce un valor de 'n':\") # Usuario introduce valor de 'n'"
   ]
  },
  {
   "cell_type": "code",
   "execution_count": 10,
   "metadata": {},
   "outputs": [],
   "source": [
    "# Esta función verifica que 'n' sea natural y en caso de serlo, convierte el valor a int.\n",
    "def natural(numero):\n",
    "    # Probamos que 'n' se pueda convertir a int\n",
    "    try:\n",
    "        n = int(numero)\n",
    "    # Si 'n' no se pudo convertir a int, ocurre esto\n",
    "    except:\n",
    "        print(\"\\nParece ser que no introdujiste un número natural. Por favor corra las celdas de nuevo.\")\n",
    "    # Si 'n' se pudo convertir a int, ocurre esto\n",
    "    else:\n",
    "        print(\"El valor induccido '\" + str(numero) + \"', es válido.\")\n",
    "        print(\"Por favor, continue.\")\n",
    "    # Si 'n' se convirtió a int, devolvemos el nuevo valor de 'n'\n",
    "    return n"
   ]
  },
  {
   "cell_type": "code",
   "execution_count": 11,
   "metadata": {},
   "outputs": [
    {
     "name": "stdout",
     "output_type": "stream",
     "text": [
      "El valor induccido '100', es válido.\n",
      "Por favor, continue.\n"
     ]
    }
   ],
   "source": [
    "# Checamos que 'n' sea natural y lo convertimos a int\n",
    "n = natural(n)"
   ]
  },
  {
   "cell_type": "code",
   "execution_count": 12,
   "metadata": {},
   "outputs": [],
   "source": [
    "# El valor inicial de la suma es 0\n",
    "suma = 0"
   ]
  },
  {
   "cell_type": "code",
   "execution_count": 13,
   "metadata": {},
   "outputs": [],
   "source": [
    "# Iteramos cada natural desde 0 hasta n\n",
    "for i in range(n+1):\n",
    "    # Se declara el nuevo valor de 'suma' como el valor anterior de 'suma' más el el valor de 'n'\n",
    "    suma += i"
   ]
  },
  {
   "cell_type": "code",
   "execution_count": 14,
   "metadata": {},
   "outputs": [
    {
     "name": "stdout",
     "output_type": "stream",
     "text": [
      "La suma desde 0 hasta 100 es igual a 5050\n"
     ]
    }
   ],
   "source": [
    "print(\"La suma desde 0 hasta \" + str(n) + \" es igual a \" + str(suma))"
   ]
  },
  {
   "cell_type": "markdown",
   "metadata": {},
   "source": [
    "___\n",
    "**1.c** Calcular el factorial de un número introducido por el usuario.\n",
    "\n",
    "$$ n! $$"
   ]
  },
  {
   "cell_type": "code",
   "execution_count": 15,
   "metadata": {},
   "outputs": [
    {
     "name": "stdout",
     "output_type": "stream",
     "text": [
      "Las siguientes celdas calculan el factorial de un número natural 'n' introducido por el usuario.\n",
      "\n"
     ]
    }
   ],
   "source": [
    "print(\"Las siguientes celdas calculan el factorial de un número natural 'n' introducido por el usuario.\\n\")"
   ]
  },
  {
   "cell_type": "code",
   "execution_count": 16,
   "metadata": {},
   "outputs": [
    {
     "name": "stdin",
     "output_type": "stream",
     "text": [
      "Introduce un valor de 'n': 7\n"
     ]
    }
   ],
   "source": [
    "n = input(\"Introduce un valor de 'n':\") # Usuario introduce valor de 'n'"
   ]
  },
  {
   "cell_type": "code",
   "execution_count": 17,
   "metadata": {},
   "outputs": [
    {
     "name": "stdout",
     "output_type": "stream",
     "text": [
      "El valor induccido '7', es válido.\n",
      "Por favor, continue.\n"
     ]
    }
   ],
   "source": [
    "# Revisamos que 'n' sea natural y lo convertimos\n",
    "n = natural(n)"
   ]
  },
  {
   "cell_type": "code",
   "execution_count": 18,
   "metadata": {},
   "outputs": [],
   "source": [
    "# Función factorial\n",
    "def factorial(numero):\n",
    "    fact = 1\n",
    "    # Iteramos desde 1 hasta 'numero'\n",
    "    for i in range(1,int(numero)+1):\n",
    "        # Se declara el nuevo valor de 'fact' como el valor anterior de 'fact' por el valor de 'numero'\n",
    "        fact *= i\n",
    "    return fact"
   ]
  },
  {
   "cell_type": "code",
   "execution_count": 19,
   "metadata": {},
   "outputs": [],
   "source": [
    "# Calculamos el factorial de 'n'\n",
    "nf = factorial(n)"
   ]
  },
  {
   "cell_type": "code",
   "execution_count": 20,
   "metadata": {},
   "outputs": [
    {
     "name": "stdout",
     "output_type": "stream",
     "text": [
      "El valor de 7! es 5040\n"
     ]
    }
   ],
   "source": [
    "print(\"El valor de \" + str(n) + \"! es \" + str(nf))"
   ]
  },
  {
   "cell_type": "markdown",
   "metadata": {},
   "source": [
    "___\n",
    "**1.d** Calcular la potencia de un numero *a* (introducido por el usuario) a la potencia *b*\n",
    "(también introducida por el usuario).\n",
    "\n",
    "$$ a^{b} $$"
   ]
  },
  {
   "cell_type": "code",
   "execution_count": 21,
   "metadata": {},
   "outputs": [
    {
     "name": "stdout",
     "output_type": "stream",
     "text": [
      "Las siguientes celdas calculan la potencia de un número real 'a' a la potencia 'b'.\n",
      "\n"
     ]
    }
   ],
   "source": [
    "print(\"Las siguientes celdas calculan la potencia de un número real 'a' a la potencia 'b'.\\n\")"
   ]
  },
  {
   "cell_type": "code",
   "execution_count": 22,
   "metadata": {},
   "outputs": [
    {
     "name": "stdin",
     "output_type": "stream",
     "text": [
      "Introduce un valor de 'a': 19\n",
      "Introduce un valor de 'b': -0.67\n"
     ]
    }
   ],
   "source": [
    "a = input(\"Introduce un valor de 'a':\")\n",
    "b = input(\"Introduce un valor de 'b':\")"
   ]
  },
  {
   "cell_type": "code",
   "execution_count": 23,
   "metadata": {},
   "outputs": [
    {
     "name": "stdout",
     "output_type": "stream",
     "text": [
      "El valor introducido '19', es válido.\n",
      "Por favor, continue.\n"
     ]
    }
   ],
   "source": [
    "# Se revisa que 'a' sea real y es convertido a float\n",
    "a = real(a)"
   ]
  },
  {
   "cell_type": "code",
   "execution_count": 24,
   "metadata": {},
   "outputs": [
    {
     "name": "stdout",
     "output_type": "stream",
     "text": [
      "El valor introducido '-0.67', es válido.\n",
      "Por favor, continue.\n"
     ]
    }
   ],
   "source": [
    "# Se revisa que 'a' sea real y es convertido a float\n",
    "b = real(b)"
   ]
  },
  {
   "cell_type": "code",
   "execution_count": 25,
   "metadata": {},
   "outputs": [],
   "source": [
    "# Calculamos 'a' elevado a la 'b'\n",
    "e = a**b"
   ]
  },
  {
   "cell_type": "code",
   "execution_count": 26,
   "metadata": {},
   "outputs": [
    {
     "name": "stdout",
     "output_type": "stream",
     "text": [
      "El valor de 19.0^-0.67 es 0.13907052282770851\n"
     ]
    }
   ],
   "source": [
    "print(\"El valor de \" + str(a) + \"^\" + str(b) + \" es \" + str(e))"
   ]
  },
  {
   "cell_type": "markdown",
   "metadata": {},
   "source": [
    "___\n",
    "**2.** Calcular la combinatoria de n, en r. Apóyate en la siguiente expresión.\n",
    "\n",
    "\n",
    "$$ C_{n}^{r} = \\binom{n}{r} = \\frac{n!}{(n-r)!r!} $$\n",
    "\n",
    "Define para hacerlo una función factorial (usa en el inciso c, de la pregunta anterior). La idea es pedirle al usuario los valores de $n$ y $r$."
   ]
  },
  {
   "cell_type": "code",
   "execution_count": 27,
   "metadata": {},
   "outputs": [
    {
     "name": "stdout",
     "output_type": "stream",
     "text": [
      "Esta celda calcula la combinatoria número natural 'n' en un número natural 'r'.\n",
      "\n"
     ]
    }
   ],
   "source": [
    "print(\"Esta celda calcula la combinatoria número natural 'n' en un número natural 'r'.\\n\")"
   ]
  },
  {
   "cell_type": "code",
   "execution_count": 28,
   "metadata": {},
   "outputs": [
    {
     "name": "stdin",
     "output_type": "stream",
     "text": [
      "Introduce un valor de 'n': 13\n",
      "Introduce un valor de 'r' 7\n"
     ]
    }
   ],
   "source": [
    "n = input(\"Introduce un valor de 'n':\")\n",
    "r = input(\"Introduce un valor de 'r'\")"
   ]
  },
  {
   "cell_type": "code",
   "execution_count": 29,
   "metadata": {},
   "outputs": [
    {
     "name": "stdout",
     "output_type": "stream",
     "text": [
      "El valor induccido '13', es válido.\n",
      "Por favor, continue.\n"
     ]
    }
   ],
   "source": [
    "# Se revisa que 'n' sea natural y se convierte a int\n",
    "n = natural(n)"
   ]
  },
  {
   "cell_type": "code",
   "execution_count": 30,
   "metadata": {},
   "outputs": [
    {
     "name": "stdout",
     "output_type": "stream",
     "text": [
      "El valor induccido '7', es válido.\n",
      "Por favor, continue.\n"
     ]
    }
   ],
   "source": [
    "# Se revisa que 'r' sea natural y se convierte a int\n",
    "r = natural(r)"
   ]
  },
  {
   "cell_type": "code",
   "execution_count": 31,
   "metadata": {},
   "outputs": [],
   "source": [
    "# Calculamos la combinatoria de 'n' en 'r' haciendo uso de la función factorial que creamos previamente\n",
    "comb = factorial(n)/(factorial(n-r)*factorial(r))"
   ]
  },
  {
   "cell_type": "code",
   "execution_count": 32,
   "metadata": {},
   "outputs": [
    {
     "name": "stdout",
     "output_type": "stream",
     "text": [
      "El valor de 13C7 es 1716.0\n"
     ]
    }
   ],
   "source": [
    "print(\"El valor de \" + str(n) + \"C\" + str(r) + \" es \" + str(comb))"
   ]
  },
  {
   "cell_type": "markdown",
   "metadata": {},
   "source": [
    "___\n",
    "**3.** Siguiendo la siguiente serie\n",
    "\n",
    "$$ \\sum_{n=0}^{\\infty} \\frac{(-1)^n}{2n+1} = \\frac{\\pi}{4} $$\n",
    "\n",
    "Escribe un programa que calcule diferentes aproximaciones de π para diferentes valores."
   ]
  },
  {
   "cell_type": "code",
   "execution_count": 33,
   "metadata": {},
   "outputs": [
    {
     "name": "stdin",
     "output_type": "stream",
     "text": [
      "Introduzca un valor de 'n' con el que se calculará la aproximación: 2020\n"
     ]
    }
   ],
   "source": [
    "n = input(\"Introduzca un valor de 'n' con el que se calculará la aproximación:\")"
   ]
  },
  {
   "cell_type": "code",
   "execution_count": 34,
   "metadata": {},
   "outputs": [
    {
     "name": "stdout",
     "output_type": "stream",
     "text": [
      "El valor induccido '2020', es válido.\n",
      "Por favor, continue.\n"
     ]
    }
   ],
   "source": [
    "n = natural(n)"
   ]
  },
  {
   "cell_type": "code",
   "execution_count": 35,
   "metadata": {},
   "outputs": [],
   "source": [
    "suma = 0"
   ]
  },
  {
   "cell_type": "code",
   "execution_count": 36,
   "metadata": {},
   "outputs": [],
   "source": [
    "for i in range(0,n+1):\n",
    "    num = (-1)**i # numerador\n",
    "    den = (2*i)+1 # denominador\n",
    "    suma += num/den # valor de la suma"
   ]
  },
  {
   "cell_type": "code",
   "execution_count": 37,
   "metadata": {},
   "outputs": [
    {
     "name": "stdout",
     "output_type": "stream",
     "text": [
      "La aproximación de 'pi' para n=2020 es 3.1420874581117073\n"
     ]
    }
   ],
   "source": [
    "print(\"La aproximación de 'pi' para n=\" + str(n) + \" es \" + str(4*suma))"
   ]
  },
  {
   "cell_type": "markdown",
   "metadata": {},
   "source": [
    "___\n",
    "**4.** Siguiendo la siguiente serie\n",
    "\n",
    "$$ \\sum_{n=0}^{\\infty} \\frac{1}{n!} = e $$\n",
    "\n",
    "Escribe un programa que calcule\n",
    "diferentes aproximaciones de $ e $ para diferentes valores. Apóyate *en tu función factorial definida en la pregunta 2.*\n",
    "\n",
    "<center>NOTA: Ojo! Cuando dividas entre números grandes (CONVIERTE EL </center>\n",
    "<center>RESULTADO A FLOAT, PUES SI NO PODRIAS TENER UN ERROR).</center>"
   ]
  },
  {
   "cell_type": "code",
   "execution_count": 38,
   "metadata": {},
   "outputs": [
    {
     "name": "stdout",
     "output_type": "stream",
     "text": [
      "Las siguientes celdas calculan una aproximación para el valor de 'e'.\n",
      "\n"
     ]
    }
   ],
   "source": [
    "print(\"Las siguientes celdas calculan una aproximación para el valor de 'e'.\\n\")"
   ]
  },
  {
   "cell_type": "code",
   "execution_count": 39,
   "metadata": {},
   "outputs": [
    {
     "name": "stdin",
     "output_type": "stream",
     "text": [
      "Introduce un valor de un número 'n' natural con el que se calculará la aproximación: 2021\n"
     ]
    }
   ],
   "source": [
    "n = input(\"Introduce un valor de un número 'n' natural con el que se calculará la aproximación:\")"
   ]
  },
  {
   "cell_type": "code",
   "execution_count": 40,
   "metadata": {},
   "outputs": [
    {
     "name": "stdout",
     "output_type": "stream",
     "text": [
      "El valor induccido '2021', es válido.\n",
      "Por favor, continue.\n"
     ]
    }
   ],
   "source": [
    "n = natural(n)"
   ]
  },
  {
   "cell_type": "code",
   "execution_count": 41,
   "metadata": {},
   "outputs": [],
   "source": [
    "suma = 0\n",
    "den=1\n",
    "for i in range(0,n):\n",
    "    fact = factorial(i)\n",
    "    suma += 1/fact"
   ]
  },
  {
   "cell_type": "code",
   "execution_count": 42,
   "metadata": {},
   "outputs": [
    {
     "name": "stdout",
     "output_type": "stream",
     "text": [
      "La aproximación de 'e' para n=2021 es 2.7182818284590455\n"
     ]
    }
   ],
   "source": [
    "print(\"La aproximación de 'e' para n=\" + str(n) + \" es \" + str(suma))"
   ]
  },
  {
   "cell_type": "markdown",
   "metadata": {},
   "source": [
    "___\n",
    "**5.** Calcular las raíces de un polinomio cuadrático. El usuario debe proporcionar los coeficientes de la ecuación de 2° orden. El programa debe considerar los casos de *i)* raíces reales, *ii)* raíz doble y *iii)* raíces complejas.\n",
    "\n",
    "*Nota:* la ecuación de segundo orden es de la forma $ ax²+bx+c=0 $\n"
   ]
  },
  {
   "cell_type": "code",
   "execution_count": 43,
   "metadata": {},
   "outputs": [
    {
     "name": "stdout",
     "output_type": "stream",
     "text": [
      "Las siguientes celdas calculan las raíces de una ecuación de segundo grado.\n"
     ]
    }
   ],
   "source": [
    "print(\"Las siguientes celdas calculan las raíces de una ecuación de segundo grado.\")"
   ]
  },
  {
   "cell_type": "code",
   "execution_count": 44,
   "metadata": {},
   "outputs": [
    {
     "name": "stdin",
     "output_type": "stream",
     "text": [
      "\n",
      "Introduzca un valor de 'a':  -2\n"
     ]
    },
    {
     "name": "stdout",
     "output_type": "stream",
     "text": [
      "El valor introducido '-2', es válido.\n",
      "Por favor, continue.\n"
     ]
    }
   ],
   "source": [
    "a = real(input(\"\\nIntroduzca un valor de 'a': \"))"
   ]
  },
  {
   "cell_type": "code",
   "execution_count": 45,
   "metadata": {},
   "outputs": [
    {
     "name": "stdin",
     "output_type": "stream",
     "text": [
      "\n",
      "Introduzca un valor de 'b':  -1\n"
     ]
    },
    {
     "name": "stdout",
     "output_type": "stream",
     "text": [
      "El valor introducido '-1', es válido.\n",
      "Por favor, continue.\n"
     ]
    }
   ],
   "source": [
    "b = real(input(\"\\nIntroduzca un valor de 'b': \"))"
   ]
  },
  {
   "cell_type": "code",
   "execution_count": 46,
   "metadata": {},
   "outputs": [
    {
     "name": "stdin",
     "output_type": "stream",
     "text": [
      "\n",
      "Introduzca un valor de 'c':  3\n"
     ]
    },
    {
     "name": "stdout",
     "output_type": "stream",
     "text": [
      "El valor introducido '3', es válido.\n",
      "Por favor, continue.\n"
     ]
    }
   ],
   "source": [
    "c = real(input(\"\\nIntroduzca un valor de 'c': \"))"
   ]
  },
  {
   "cell_type": "code",
   "execution_count": 47,
   "metadata": {},
   "outputs": [],
   "source": [
    "# Soluciones a la ecuación\n",
    "x_1 = (-b+(b**2-4*a*c)**(1/2))/(2*a) # Primera solución\n",
    "x_2 = (-b-(b**2-4*a*c)**(1/2))/(2*a) # Segunda solución"
   ]
  },
  {
   "cell_type": "code",
   "execution_count": 48,
   "metadata": {},
   "outputs": [],
   "source": [
    "val_x1 = \"x_1 = \" + str(x_1)\n",
    "val_x2 = \"x_2 = \" + str(x_2)"
   ]
  },
  {
   "cell_type": "code",
   "execution_count": 49,
   "metadata": {},
   "outputs": [],
   "source": [
    "tipo = \"\\nLas soluciones a la ecuación \" + str(a) + \"x²+\" + str(b) + \"x+\" + str(c) + \" son \""
   ]
  },
  {
   "cell_type": "code",
   "execution_count": 50,
   "metadata": {},
   "outputs": [
    {
     "name": "stdout",
     "output_type": "stream",
     "text": [
      "\n",
      "Las soluciones a la ecuación -2.0x²+-1.0x+3.0 son reales.\n",
      "x_1 = -1.5\n",
      "x_2 = 1.0\n"
     ]
    }
   ],
   "source": [
    "if b**2-4*a*c > 0:\n",
    "    print(tipo + \"reales.\")\n",
    "    print(val_x1)\n",
    "    print(val_x2)\n",
    "elif b**2-4*a*c == 0:\n",
    "    print(tipo + \"iguales.\")\n",
    "    print(val_x1)\n",
    "    print(val_x2)\n",
    "else:\n",
    "    print(tipo + \"complejas.\" )\n",
    "    print(val_x1)\n",
    "    print(val_x2)"
   ]
  },
  {
   "cell_type": "markdown",
   "metadata": {},
   "source": [
    "___\n",
    "**6.** Escribe un programa que calcule el producto cruz de dos vectores en $ \\mathbb{R}^3 $. El usuario debe insertar las entradas de los vectores."
   ]
  },
  {
   "cell_type": "code",
   "execution_count": 51,
   "metadata": {},
   "outputs": [
    {
     "name": "stdout",
     "output_type": "stream",
     "text": [
      "Las siguientes celdas calculan el producto cruz de dos vectores en R³.\n"
     ]
    }
   ],
   "source": [
    "print(\"Las siguientes celdas calculan el producto cruz de dos vectores en R³.\")"
   ]
  },
  {
   "cell_type": "code",
   "execution_count": 52,
   "metadata": {},
   "outputs": [],
   "source": [
    "# Esta función genera 'n' vectores de dimensiones iguales\n",
    "# no_vect: Número de vectores que queremos\n",
    "# no_entr: Número de entradas de los vectores\n",
    "def generador_vectores(no_vect,no_entr):\n",
    "    vectores = []\n",
    "    for i in range(int(no_vect)): # Iteramos según cuantos vectores se quieran\n",
    "        print(\"---Vector \" + str(i+1) + \" ---\") # Nos dice cuál en cual vector estamos\n",
    "        vector = []\n",
    "        for k in range(int(no_entr)): # Iteramos según cuantas entradas se hayan elegido\n",
    "            n = input(\"Entrada \" + str(k+1) + \": \") # Usuario introduce las entradas\n",
    "            vector.append(n) # Agregamos cada entrada a un vector\n",
    "        vectores.append(vector) # Agragamos cada vector a una lista de vectores\n",
    "    return vectores"
   ]
  },
  {
   "cell_type": "code",
   "execution_count": 53,
   "metadata": {},
   "outputs": [
    {
     "name": "stdout",
     "output_type": "stream",
     "text": [
      "---Vector 1 ---\n"
     ]
    },
    {
     "name": "stdin",
     "output_type": "stream",
     "text": [
      "Entrada 1:  -1.7\n",
      "Entrada 2:  3\n",
      "Entrada 3:  0.5\n"
     ]
    },
    {
     "name": "stdout",
     "output_type": "stream",
     "text": [
      "---Vector 2 ---\n"
     ]
    },
    {
     "name": "stdin",
     "output_type": "stream",
     "text": [
      "Entrada 1:  2\n",
      "Entrada 2:  0\n",
      "Entrada 3:  -0.5\n"
     ]
    }
   ],
   "source": [
    "vectores = generador_vectores(2,3)"
   ]
  },
  {
   "cell_type": "code",
   "execution_count": 54,
   "metadata": {},
   "outputs": [
    {
     "data": {
      "text/plain": [
       "[['-1.7', '3', '0.5'], ['2', '0', '-0.5']]"
      ]
     },
     "execution_count": 54,
     "metadata": {},
     "output_type": "execute_result"
    }
   ],
   "source": [
    "# Así se ve la lista de vectores resultante\n",
    "vectores"
   ]
  },
  {
   "cell_type": "code",
   "execution_count": 55,
   "metadata": {},
   "outputs": [],
   "source": [
    "# Convierte las entradas de un vector de la forma ['1', '2', '3'] de 'str' a 'float'\n",
    "def convertir_vector(lista):\n",
    "    vector = []\n",
    "    for i in range(len(lista)):\n",
    "        entrada = real((lista[i])) # Se revisa que cada entrada sea real y se convierte a 'float'\n",
    "        vector.append(entrada) # Se agrega la entrada tipo 'float' al vector\n",
    "    return vector"
   ]
  },
  {
   "cell_type": "code",
   "execution_count": 56,
   "metadata": {},
   "outputs": [],
   "source": [
    "# Convierte una lista de vectores de la forma\n",
    "# Lista que entra: a = ['1', '2', '3', '4', '5']\n",
    "# str que entra: a = '1,2,3,4,5'\n",
    "def separar_vector(vector_inicial):\n",
    "    vector = []\n",
    "    # Si nos dan una lista...\n",
    "    if type(vector_inicial) == list:\n",
    "        vector = convertir_vector(vector_inicial)\n",
    "        return vector\n",
    "    # Si nos dan un str...\n",
    "    elif type(vector_inicial) == str:\n",
    "        vec_temp = vector_inicial.split(',') # genera una lista\n",
    "        vector = convertir_vector(vec_temp)\n",
    "        return vector\n",
    "    else:\n",
    "        print(\"El vector que estás introduciendo es inválido.\")"
   ]
  },
  {
   "cell_type": "code",
   "execution_count": 57,
   "metadata": {},
   "outputs": [],
   "source": [
    "# Lista que entra: a = [['1', '2', '3', '4', '5'], ['1', '2', '3', '4', '5']]\n",
    "# str que entra: a = '1,2,3,4,5:6,7,8,9,10'\n",
    "def separar_matriz(matriz_inicial):\n",
    "    # Si tenemos una lista...\n",
    "    if type(matriz_inicial) == list:\n",
    "        matriz = [separar_vector(matriz_inicial[i]) for i in range(len(matriz_inicial))]\n",
    "        return matriz\n",
    "    # Si tenemos un str...\n",
    "    elif type(matriz_inicial) == str:\n",
    "        vectores_temp = matriz_inicial.split(':') # Genera una lista\n",
    "        matriz = [separar_vector(vectores_temp[i]) for i in range(len(vectores_temp))]\n",
    "        return matriz\n",
    "    else:\n",
    "        print(\"El string o lista de vectores que está introduciendo es inválido.\")"
   ]
  },
  {
   "cell_type": "code",
   "execution_count": 58,
   "metadata": {},
   "outputs": [
    {
     "name": "stdout",
     "output_type": "stream",
     "text": [
      "El valor introducido '-1.7', es válido.\n",
      "Por favor, continue.\n",
      "El valor introducido '3', es válido.\n",
      "Por favor, continue.\n",
      "El valor introducido '0.5', es válido.\n",
      "Por favor, continue.\n",
      "El valor introducido '2', es válido.\n",
      "Por favor, continue.\n",
      "El valor introducido '0', es válido.\n",
      "Por favor, continue.\n",
      "El valor introducido '-0.5', es válido.\n",
      "Por favor, continue.\n"
     ]
    }
   ],
   "source": [
    "vectores = separar_matriz(vectores)"
   ]
  },
  {
   "cell_type": "code",
   "execution_count": 59,
   "metadata": {},
   "outputs": [
    {
     "data": {
      "text/plain": [
       "[[-1.7, 3.0, 0.5], [2.0, 0.0, -0.5]]"
      ]
     },
     "execution_count": 59,
     "metadata": {},
     "output_type": "execute_result"
    }
   ],
   "source": [
    "vectores"
   ]
  },
  {
   "cell_type": "code",
   "execution_count": 60,
   "metadata": {},
   "outputs": [],
   "source": [
    "i = vectores[0][1]*vectores[1][2]-vectores[0][2]*vectores[1][1]\n",
    "j = vectores[0][2]*vectores[1][0]-vectores[0][0]*vectores[1][2]\n",
    "k = vectores[0][0]*vectores[1][1]-vectores[0][1]*vectores[1][0]"
   ]
  },
  {
   "cell_type": "code",
   "execution_count": 61,
   "metadata": {},
   "outputs": [],
   "source": [
    "vec_pd = [i,j,k]"
   ]
  },
  {
   "cell_type": "code",
   "execution_count": 62,
   "metadata": {},
   "outputs": [
    {
     "name": "stdout",
     "output_type": "stream",
     "text": [
      "\n",
      "El producto cruz de los vectores es\n",
      "[-1.5, 0.15000000000000002, -6.0]\n"
     ]
    }
   ],
   "source": [
    "print(\"\\nEl producto cruz de los vectores es\")\n",
    "print(vec_pd)"
   ]
  },
  {
   "cell_type": "markdown",
   "metadata": {},
   "source": [
    "___\n",
    "**7.a** Escribe un programa que sume dos vectores en $\\mathbb{R}^{3}$, el usuario debe insertar las entradas de los vectores."
   ]
  },
  {
   "cell_type": "code",
   "execution_count": 63,
   "metadata": {},
   "outputs": [
    {
     "name": "stdout",
     "output_type": "stream",
     "text": [
      "Esta celda calcula la suma de dos vectores en R³.\n",
      "Por favor, introduzca los valores de las entradas para cada vector.\n",
      "\n"
     ]
    }
   ],
   "source": [
    "print(\"Esta celda calcula la suma de dos vectores en R³.\")\n",
    "print(\"Por favor, introduzca los valores de las entradas para cada vector.\\n\")"
   ]
  },
  {
   "cell_type": "code",
   "execution_count": 64,
   "metadata": {},
   "outputs": [
    {
     "name": "stdout",
     "output_type": "stream",
     "text": [
      "---Vector 1 ---\n"
     ]
    },
    {
     "name": "stdin",
     "output_type": "stream",
     "text": [
      "Entrada 1:  9.1\n",
      "Entrada 2:  -5\n",
      "Entrada 3:  7\n"
     ]
    },
    {
     "name": "stdout",
     "output_type": "stream",
     "text": [
      "---Vector 2 ---\n"
     ]
    },
    {
     "name": "stdin",
     "output_type": "stream",
     "text": [
      "Entrada 1:  0\n",
      "Entrada 2:  0\n",
      "Entrada 3:  2\n"
     ]
    },
    {
     "data": {
      "text/plain": [
       "[['9.1', '-5', '7'], ['0', '0', '2']]"
      ]
     },
     "execution_count": 64,
     "metadata": {},
     "output_type": "execute_result"
    }
   ],
   "source": [
    "vectores = generador_vectores(2,3)\n",
    "vectores"
   ]
  },
  {
   "cell_type": "code",
   "execution_count": 65,
   "metadata": {},
   "outputs": [
    {
     "name": "stdout",
     "output_type": "stream",
     "text": [
      "El valor introducido '9.1', es válido.\n",
      "Por favor, continue.\n",
      "El valor introducido '-5', es válido.\n",
      "Por favor, continue.\n",
      "El valor introducido '7', es válido.\n",
      "Por favor, continue.\n",
      "El valor introducido '0', es válido.\n",
      "Por favor, continue.\n",
      "El valor introducido '0', es válido.\n",
      "Por favor, continue.\n",
      "El valor introducido '2', es válido.\n",
      "Por favor, continue.\n"
     ]
    },
    {
     "data": {
      "text/plain": [
       "[[9.1, -5.0, 7.0], [0.0, 0.0, 2.0]]"
      ]
     },
     "execution_count": 65,
     "metadata": {},
     "output_type": "execute_result"
    }
   ],
   "source": [
    "# Revisamos que las entradas sean reales\n",
    "vectores = separar_matriz(vectores)\n",
    "vectores"
   ]
  },
  {
   "cell_type": "code",
   "execution_count": 66,
   "metadata": {},
   "outputs": [],
   "source": [
    "vec_suma = [vectores[0][0]+vectores[1][0],vectores[0][1]+vectores[1][1],vectores[0][2]+vectores[1][2]]"
   ]
  },
  {
   "cell_type": "code",
   "execution_count": 67,
   "metadata": {},
   "outputs": [
    {
     "name": "stdout",
     "output_type": "stream",
     "text": [
      "La suma de los vectores es:\n"
     ]
    },
    {
     "data": {
      "text/plain": [
       "[9.1, -5.0, 9.0]"
      ]
     },
     "execution_count": 67,
     "metadata": {},
     "output_type": "execute_result"
    }
   ],
   "source": [
    "print(\"La suma de los vectores es:\")\n",
    "vec_suma"
   ]
  },
  {
   "cell_type": "markdown",
   "metadata": {},
   "source": [
    "___\n",
    "**7.b** Escribe un programa que sume dos vectores en $\\mathbb{R}^{n}$ las entradas de los vectores deben leerse de un archivo de datos. (Recuerda que esto solo tiene sentido si los vectores a sumar son de la misma dimensión)."
   ]
  },
  {
   "cell_type": "markdown",
   "metadata": {},
   "source": [
    "   - Cada entrada debe ser un número real.\n",
    "   - Las entradas deben estar separadas por comas (,)\n",
    "   - Los vectores se separan con punto y coma (;)\n",
    "   - Los vectores deben tener el mismo número de entradas"
   ]
  },
  {
   "cell_type": "code",
   "execution_count": 68,
   "metadata": {},
   "outputs": [],
   "source": [
    "# Lectura de archivo\n",
    "def leer_archivo(documento):\n",
    "    txt_archivo = ''\n",
    "    with open(documento) as archivo_temp: # Leemos el archivo\n",
    "        for renglon in archivo_temp: # Se itera por cada renglon\n",
    "            a = renglon.strip() # Se separa cada renglón\n",
    "            txt_archivo += a # Se añade cada renglón a un solo str\n",
    "    return txt_archivo"
   ]
  },
  {
   "cell_type": "code",
   "execution_count": 69,
   "metadata": {},
   "outputs": [
    {
     "data": {
      "text/plain": [
       "'1,2,-3,4:2,-3,4,5'"
      ]
     },
     "execution_count": 69,
     "metadata": {},
     "output_type": "execute_result"
    }
   ],
   "source": [
    "archivo = 'vectores_7b.txt'\n",
    "txt_archivo = leer_archivo(archivo)\n",
    "txt_archivo"
   ]
  },
  {
   "cell_type": "code",
   "execution_count": 70,
   "metadata": {},
   "outputs": [
    {
     "name": "stdout",
     "output_type": "stream",
     "text": [
      "El valor introducido '1', es válido.\n",
      "Por favor, continue.\n",
      "El valor introducido '2', es válido.\n",
      "Por favor, continue.\n",
      "El valor introducido '-3', es válido.\n",
      "Por favor, continue.\n",
      "El valor introducido '4', es válido.\n",
      "Por favor, continue.\n",
      "El valor introducido '2', es válido.\n",
      "Por favor, continue.\n",
      "El valor introducido '-3', es válido.\n",
      "Por favor, continue.\n",
      "El valor introducido '4', es válido.\n",
      "Por favor, continue.\n",
      "El valor introducido '5', es válido.\n",
      "Por favor, continue.\n"
     ]
    },
    {
     "data": {
      "text/plain": [
       "[[1.0, 2.0, -3.0, 4.0], [2.0, -3.0, 4.0, 5.0]]"
      ]
     },
     "execution_count": 70,
     "metadata": {},
     "output_type": "execute_result"
    }
   ],
   "source": [
    "vectores = separar_matriz(txt_archivo)\n",
    "vectores"
   ]
  },
  {
   "cell_type": "code",
   "execution_count": 71,
   "metadata": {},
   "outputs": [],
   "source": [
    "# Tamaño vector\n",
    "def tamano_vectores(lista):\n",
    "    try:\n",
    "        for i in range(len(lista)):\n",
    "            len(lista[0]) == len(lista[i])\n",
    "    except:\n",
    "        print(\"Los vectores no tienen el mismo número de entradas. Por favor, revise su documento.\")\n",
    "    else:\n",
    "        print(\"Todos los vectores tienen el mismo número de entradas. Por favor, continue.\")"
   ]
  },
  {
   "cell_type": "code",
   "execution_count": 72,
   "metadata": {},
   "outputs": [
    {
     "name": "stdout",
     "output_type": "stream",
     "text": [
      "Todos los vectores tienen el mismo número de entradas. Por favor, continue.\n"
     ]
    }
   ],
   "source": [
    "tamano_vectores(vectores)"
   ]
  },
  {
   "cell_type": "code",
   "execution_count": 73,
   "metadata": {},
   "outputs": [],
   "source": [
    "def suma_vect(lista):\n",
    "    suma_vect = []\n",
    "    for i in range(1):\n",
    "        a = lista[i]\n",
    "        b = lista[i+1]\n",
    "        for k in range(len(a)):\n",
    "            suma_vect.append(a[k]+b[k])\n",
    "    return suma_vect"
   ]
  },
  {
   "cell_type": "code",
   "execution_count": 74,
   "metadata": {},
   "outputs": [],
   "source": [
    "suma_vectores = suma_vect(vectores)"
   ]
  },
  {
   "cell_type": "code",
   "execution_count": 75,
   "metadata": {},
   "outputs": [
    {
     "name": "stdout",
     "output_type": "stream",
     "text": [
      "La suma de los vectores es\n",
      "[1.0, 2.0, -3.0, 4.0] + [2.0, -3.0, 4.0, 5.0] = [3.0, -1.0, 1.0, 9.0]\n"
     ]
    }
   ],
   "source": [
    "print(\"La suma de los vectores es\")\n",
    "print(str(vectores[0]) + ' + ' + str(vectores[1]) + ' = ' + str(suma_vectores))"
   ]
  },
  {
   "cell_type": "markdown",
   "metadata": {},
   "source": [
    "___\n",
    "**8.a** Calcular el producto interior (producto punto) de dos vectores en $ \\mathbb{R}^{3} $. El usuario debe insertar las entradas de los vectores."
   ]
  },
  {
   "cell_type": "code",
   "execution_count": 76,
   "metadata": {},
   "outputs": [
    {
     "name": "stdout",
     "output_type": "stream",
     "text": [
      "Esta celda calcula el producto interior de dos vectores en R³.\n",
      "Por favor, introduzca los valores de las entradas para cada vector.\n",
      "\n"
     ]
    }
   ],
   "source": [
    "print(\"Esta celda calcula el producto interior de dos vectores en R³.\")\n",
    "print(\"Por favor, introduzca los valores de las entradas para cada vector.\\n\")"
   ]
  },
  {
   "cell_type": "code",
   "execution_count": 77,
   "metadata": {},
   "outputs": [
    {
     "name": "stdout",
     "output_type": "stream",
     "text": [
      "---Vector 1 ---\n"
     ]
    },
    {
     "name": "stdin",
     "output_type": "stream",
     "text": [
      "Entrada 1:  3\n",
      "Entrada 2:  -2\n",
      "Entrada 3:  1\n"
     ]
    },
    {
     "name": "stdout",
     "output_type": "stream",
     "text": [
      "---Vector 2 ---\n"
     ]
    },
    {
     "name": "stdin",
     "output_type": "stream",
     "text": [
      "Entrada 1:  -4\n",
      "Entrada 2:  5\n",
      "Entrada 3:  -6\n"
     ]
    }
   ],
   "source": [
    "vectores = generador_vectores(2,3)"
   ]
  },
  {
   "cell_type": "code",
   "execution_count": 78,
   "metadata": {},
   "outputs": [
    {
     "name": "stdout",
     "output_type": "stream",
     "text": [
      "El valor introducido '3', es válido.\n",
      "Por favor, continue.\n",
      "El valor introducido '-2', es válido.\n",
      "Por favor, continue.\n",
      "El valor introducido '1', es válido.\n",
      "Por favor, continue.\n",
      "El valor introducido '-4', es válido.\n",
      "Por favor, continue.\n",
      "El valor introducido '5', es válido.\n",
      "Por favor, continue.\n",
      "El valor introducido '-6', es válido.\n",
      "Por favor, continue.\n"
     ]
    },
    {
     "data": {
      "text/plain": [
       "[[3.0, -2.0, 1.0], [-4.0, 5.0, -6.0]]"
      ]
     },
     "execution_count": 78,
     "metadata": {},
     "output_type": "execute_result"
    }
   ],
   "source": [
    "vectores = separar_matriz(vectores)\n",
    "vectores"
   ]
  },
  {
   "cell_type": "code",
   "execution_count": 145,
   "metadata": {},
   "outputs": [],
   "source": [
    "def prod_int(lista):\n",
    "    c = 0\n",
    "    for i in range(1):\n",
    "        a = lista[i]\n",
    "        b = lista[i+1]\n",
    "        for k in range(len(a)):\n",
    "            c = c + (a[k] * b[k])\n",
    "    return c"
   ]
  },
  {
   "cell_type": "code",
   "execution_count": 147,
   "metadata": {},
   "outputs": [],
   "source": [
    "prod_punto = prod_int(vectores)"
   ]
  },
  {
   "cell_type": "code",
   "execution_count": 148,
   "metadata": {},
   "outputs": [
    {
     "name": "stdout",
     "output_type": "stream",
     "text": [
      "El producto interno de los vectores es: \n"
     ]
    },
    {
     "data": {
      "text/plain": [
       "47.0"
      ]
     },
     "execution_count": 148,
     "metadata": {},
     "output_type": "execute_result"
    }
   ],
   "source": [
    "print(\"El producto interno de los vectores es: \")\n",
    "prod_punto"
   ]
  },
  {
   "cell_type": "markdown",
   "metadata": {},
   "source": [
    "___\n",
    "**8.b** Escribe un programa que realice el producto interior (producto punto) de dos vectores en $\\mathbb{R}^{n}$ las entradas de los vectores deben leerse de un archivo. (Recuerda nuevamente que esto solo tiene sentido si los vectores son de la misma dimensión)."
   ]
  },
  {
   "cell_type": "code",
   "execution_count": 81,
   "metadata": {},
   "outputs": [],
   "source": [
    "archivo = 'vectores_8b.txt'\n",
    "texto = leer_archivo(archivo)"
   ]
  },
  {
   "cell_type": "code",
   "execution_count": 82,
   "metadata": {},
   "outputs": [
    {
     "name": "stdout",
     "output_type": "stream",
     "text": [
      "El valor introducido '1', es válido.\n",
      "Por favor, continue.\n",
      "El valor introducido '-2', es válido.\n",
      "Por favor, continue.\n",
      "El valor introducido '3', es válido.\n",
      "Por favor, continue.\n",
      "El valor introducido '4', es válido.\n",
      "Por favor, continue.\n",
      "El valor introducido '1', es válido.\n",
      "Por favor, continue.\n",
      "El valor introducido '-2', es válido.\n",
      "Por favor, continue.\n",
      "El valor introducido '3', es válido.\n",
      "Por favor, continue.\n",
      "El valor introducido '4', es válido.\n",
      "Por favor, continue.\n",
      "El valor introducido '9', es válido.\n",
      "Por favor, continue.\n",
      "El valor introducido '-2', es válido.\n",
      "Por favor, continue.\n",
      "El valor introducido '2', es válido.\n",
      "Por favor, continue.\n",
      "El valor introducido '3', es válido.\n",
      "Por favor, continue.\n",
      "El valor introducido '-4', es válido.\n",
      "Por favor, continue.\n",
      "El valor introducido '5', es válido.\n",
      "Por favor, continue.\n",
      "El valor introducido '1', es válido.\n",
      "Por favor, continue.\n",
      "El valor introducido '-2', es válido.\n",
      "Por favor, continue.\n",
      "El valor introducido '3', es válido.\n",
      "Por favor, continue.\n",
      "El valor introducido '4', es válido.\n",
      "Por favor, continue.\n",
      "El valor introducido '1', es válido.\n",
      "Por favor, continue.\n",
      "El valor introducido '-2', es válido.\n",
      "Por favor, continue.\n"
     ]
    }
   ],
   "source": [
    "vectores = separar_matriz(texto);"
   ]
  },
  {
   "cell_type": "code",
   "execution_count": 83,
   "metadata": {},
   "outputs": [
    {
     "name": "stdout",
     "output_type": "stream",
     "text": [
      "El producto punto de los vectores es \n",
      "47.0\n"
     ]
    }
   ],
   "source": [
    "print(\"El producto punto de los vectores es \")\n",
    "prod_int(vectores)"
   ]
  },
  {
   "cell_type": "markdown",
   "metadata": {},
   "source": [
    "___\n",
    "**9.a** Sumar dos matrices en $\\mathbb{R}^{2 \\times 2}$. El usuario debe insertar las entradas de las matrices."
   ]
  },
  {
   "cell_type": "code",
   "execution_count": 84,
   "metadata": {},
   "outputs": [
    {
     "name": "stdout",
     "output_type": "stream",
     "text": [
      "Las celdas posteriores sumará dos matrices de 2 filas y dos columnas.\n",
      "\n"
     ]
    }
   ],
   "source": [
    "print(\"Las celdas posteriores sumará dos matrices de 2 filas y dos columnas.\\n\")"
   ]
  },
  {
   "cell_type": "code",
   "execution_count": 85,
   "metadata": {},
   "outputs": [],
   "source": [
    "def generador_matrices(no_matrices):\n",
    "    matrices = []\n",
    "    vectores = []\n",
    "    for i in range(int(no_matrices)):\n",
    "        print(\"------- MATRIZ \" + str(i+1) + \" -------\")\n",
    "        filas = int(input(\"Filas de matriz: \"))\n",
    "        columnas = int(input(\"Columnas de matriz: \"))\n",
    "        \n",
    "        vectores_temp = generador_vectores(filas,columnas)    \n",
    "        matrices.append(vectores_temp)\n",
    "        print('\\n')\n",
    "    \n",
    "    return matrices;"
   ]
  },
  {
   "cell_type": "code",
   "execution_count": 86,
   "metadata": {},
   "outputs": [
    {
     "name": "stdout",
     "output_type": "stream",
     "text": [
      "------- MATRIZ 1 -------\n"
     ]
    },
    {
     "name": "stdin",
     "output_type": "stream",
     "text": [
      "Filas de matriz:  2\n",
      "Columnas de matriz:  2\n"
     ]
    },
    {
     "name": "stdout",
     "output_type": "stream",
     "text": [
      "---Vector 1 ---\n"
     ]
    },
    {
     "name": "stdin",
     "output_type": "stream",
     "text": [
      "Entrada 1:  1\n",
      "Entrada 2:  4\n"
     ]
    },
    {
     "name": "stdout",
     "output_type": "stream",
     "text": [
      "---Vector 2 ---\n"
     ]
    },
    {
     "name": "stdin",
     "output_type": "stream",
     "text": [
      "Entrada 1:  2\n",
      "Entrada 2:  4\n"
     ]
    },
    {
     "name": "stdout",
     "output_type": "stream",
     "text": [
      "\n",
      "\n",
      "------- MATRIZ 2 -------\n"
     ]
    },
    {
     "name": "stdin",
     "output_type": "stream",
     "text": [
      "Filas de matriz:  2\n",
      "Columnas de matriz:  2\n"
     ]
    },
    {
     "name": "stdout",
     "output_type": "stream",
     "text": [
      "---Vector 1 ---\n"
     ]
    },
    {
     "name": "stdin",
     "output_type": "stream",
     "text": [
      "Entrada 1:  -1\n",
      "Entrada 2:  0.5\n"
     ]
    },
    {
     "name": "stdout",
     "output_type": "stream",
     "text": [
      "---Vector 2 ---\n"
     ]
    },
    {
     "name": "stdin",
     "output_type": "stream",
     "text": [
      "Entrada 1:  0\n",
      "Entrada 2:  6\n"
     ]
    },
    {
     "name": "stdout",
     "output_type": "stream",
     "text": [
      "\n",
      "\n"
     ]
    }
   ],
   "source": [
    "matrices = generador_matrices(2)"
   ]
  },
  {
   "cell_type": "code",
   "execution_count": 87,
   "metadata": {},
   "outputs": [],
   "source": [
    "def separar_matrices(matrices_inicial):    \n",
    "    if type(matrices_inicial) == list:\n",
    "        matrices = [separar_matriz(matrices_inicial[i]) for i in range(len(matrices_inicial))]        \n",
    "        return matrices\n",
    "    elif type(matrices_inicial) == str:\n",
    "        matrices_temp = matrices_inicial.split(';')\n",
    "        matrices = [separar_matriz(matrices_temp[i]) for i in range(len(matrices_temp))]        \n",
    "        return matrices\n",
    "    else:\n",
    "        print(\"El string o lista de matrices que está introduciendo es inválido.\")"
   ]
  },
  {
   "cell_type": "code",
   "execution_count": 88,
   "metadata": {},
   "outputs": [
    {
     "name": "stdout",
     "output_type": "stream",
     "text": [
      "El valor introducido '1', es válido.\n",
      "Por favor, continue.\n",
      "El valor introducido '4', es válido.\n",
      "Por favor, continue.\n",
      "El valor introducido '2', es válido.\n",
      "Por favor, continue.\n",
      "El valor introducido '4', es válido.\n",
      "Por favor, continue.\n",
      "El valor introducido '-1', es válido.\n",
      "Por favor, continue.\n",
      "El valor introducido '0.5', es válido.\n",
      "Por favor, continue.\n",
      "El valor introducido '0', es válido.\n",
      "Por favor, continue.\n",
      "El valor introducido '6', es válido.\n",
      "Por favor, continue.\n"
     ]
    },
    {
     "data": {
      "text/plain": [
       "[[[1.0, 4.0], [2.0, 4.0]], [[-1.0, 0.5], [0.0, 6.0]]]"
      ]
     },
     "execution_count": 88,
     "metadata": {},
     "output_type": "execute_result"
    }
   ],
   "source": [
    "matrices = separar_matrices(matrices)\n",
    "matrices"
   ]
  },
  {
   "cell_type": "code",
   "execution_count": 89,
   "metadata": {},
   "outputs": [],
   "source": [
    "# Verificar que las matrices sean de las mismas dimensiones\n",
    "def tamano_matriz(lista):\n",
    "    try:\n",
    "        for k in range(len(lista)):\n",
    "            print(\"--- Matriz \" + str(k+1) + \" ---\")\n",
    "            len(lista[0]) == len(lista[k])\n",
    "            vector = lista[k]\n",
    "            tamano_vectores(vector)\n",
    "    except:\n",
    "        print(\"Las matrices no tienen el mismo número de entradas. Por favor, revise su documento.\")\n",
    "    else:\n",
    "        print(\"\\n¡Excelente! Todos las matrices tienen el mismo número de vectores. Por favor, continue.\")"
   ]
  },
  {
   "cell_type": "code",
   "execution_count": 90,
   "metadata": {},
   "outputs": [
    {
     "name": "stdout",
     "output_type": "stream",
     "text": [
      "--- Matriz 1 ---\n",
      "Todos los vectores tienen el mismo número de entradas. Por favor, continue.\n",
      "--- Matriz 2 ---\n",
      "Todos los vectores tienen el mismo número de entradas. Por favor, continue.\n",
      "\n",
      "¡Excelente! Todos las matrices tienen el mismo número de vectores. Por favor, continue.\n"
     ]
    }
   ],
   "source": [
    "tamano_matriz(matrices)"
   ]
  },
  {
   "cell_type": "code",
   "execution_count": 91,
   "metadata": {},
   "outputs": [],
   "source": [
    "def suma_matrices(lista):\n",
    "    suma_mat = []\n",
    "    for i in range(1):\n",
    "        a = lista[i]\n",
    "        b = lista[i+1]\n",
    "        for k in range(len(a)):\n",
    "            v_temp = []\n",
    "            v_temp.append(a[k])\n",
    "            v_temp.append(b[k])\n",
    "            v = suma_vect(v_temp)\n",
    "            suma_mat.append(v)\n",
    "    return suma_mat"
   ]
  },
  {
   "cell_type": "code",
   "execution_count": 92,
   "metadata": {},
   "outputs": [],
   "source": [
    "matriz = suma_matrices(matrices)"
   ]
  },
  {
   "cell_type": "code",
   "execution_count": 93,
   "metadata": {},
   "outputs": [
    {
     "name": "stdout",
     "output_type": "stream",
     "text": [
      "\n",
      "La suma de las dos matrices es \n",
      "[[0.0, 4.5], [2.0, 10.0]]\n"
     ]
    }
   ],
   "source": [
    "print('\\nLa suma de las dos matrices es \\n' + str(matriz))"
   ]
  },
  {
   "cell_type": "markdown",
   "metadata": {},
   "source": [
    "___\n",
    "**9.b** Escribe un programa que sume dos matrices en $ \\mathbb{R}^{n \\times n} $, las entradas de las\n",
    "matrices deben leerse de un archivo (recuerda también que esto solo tiene\n",
    "sentido si las matrices a sumar son de la misma dimensión)."
   ]
  },
  {
   "cell_type": "code",
   "execution_count": 94,
   "metadata": {},
   "outputs": [],
   "source": [
    "archivo = 'matrices_9b.txt'\n",
    "texto = leer_archivo(archivo)"
   ]
  },
  {
   "cell_type": "code",
   "execution_count": 95,
   "metadata": {},
   "outputs": [
    {
     "data": {
      "text/plain": [
       "'1,2,3,4,5:1,1,1,1,1:1,1,1,1,1;6,7,8,9,1:1,1,1,1,1:1,1,1,1,1'"
      ]
     },
     "execution_count": 95,
     "metadata": {},
     "output_type": "execute_result"
    }
   ],
   "source": [
    "texto"
   ]
  },
  {
   "cell_type": "code",
   "execution_count": 96,
   "metadata": {},
   "outputs": [
    {
     "name": "stdout",
     "output_type": "stream",
     "text": [
      "El valor introducido '1', es válido.\n",
      "Por favor, continue.\n",
      "El valor introducido '2', es válido.\n",
      "Por favor, continue.\n",
      "El valor introducido '3', es válido.\n",
      "Por favor, continue.\n",
      "El valor introducido '4', es válido.\n",
      "Por favor, continue.\n",
      "El valor introducido '5', es válido.\n",
      "Por favor, continue.\n",
      "El valor introducido '1', es válido.\n",
      "Por favor, continue.\n",
      "El valor introducido '1', es válido.\n",
      "Por favor, continue.\n",
      "El valor introducido '1', es válido.\n",
      "Por favor, continue.\n",
      "El valor introducido '1', es válido.\n",
      "Por favor, continue.\n",
      "El valor introducido '1', es válido.\n",
      "Por favor, continue.\n",
      "El valor introducido '1', es válido.\n",
      "Por favor, continue.\n",
      "El valor introducido '1', es válido.\n",
      "Por favor, continue.\n",
      "El valor introducido '1', es válido.\n",
      "Por favor, continue.\n",
      "El valor introducido '1', es válido.\n",
      "Por favor, continue.\n",
      "El valor introducido '1', es válido.\n",
      "Por favor, continue.\n",
      "El valor introducido '6', es válido.\n",
      "Por favor, continue.\n",
      "El valor introducido '7', es válido.\n",
      "Por favor, continue.\n",
      "El valor introducido '8', es válido.\n",
      "Por favor, continue.\n",
      "El valor introducido '9', es válido.\n",
      "Por favor, continue.\n",
      "El valor introducido '1', es válido.\n",
      "Por favor, continue.\n",
      "El valor introducido '1', es válido.\n",
      "Por favor, continue.\n",
      "El valor introducido '1', es válido.\n",
      "Por favor, continue.\n",
      "El valor introducido '1', es válido.\n",
      "Por favor, continue.\n",
      "El valor introducido '1', es válido.\n",
      "Por favor, continue.\n",
      "El valor introducido '1', es válido.\n",
      "Por favor, continue.\n",
      "El valor introducido '1', es válido.\n",
      "Por favor, continue.\n",
      "El valor introducido '1', es válido.\n",
      "Por favor, continue.\n",
      "El valor introducido '1', es válido.\n",
      "Por favor, continue.\n",
      "El valor introducido '1', es válido.\n",
      "Por favor, continue.\n",
      "El valor introducido '1', es válido.\n",
      "Por favor, continue.\n"
     ]
    },
    {
     "data": {
      "text/plain": [
       "[[[1.0, 2.0, 3.0, 4.0, 5.0],\n",
       "  [1.0, 1.0, 1.0, 1.0, 1.0],\n",
       "  [1.0, 1.0, 1.0, 1.0, 1.0]],\n",
       " [[6.0, 7.0, 8.0, 9.0, 1.0],\n",
       "  [1.0, 1.0, 1.0, 1.0, 1.0],\n",
       "  [1.0, 1.0, 1.0, 1.0, 1.0]]]"
      ]
     },
     "execution_count": 96,
     "metadata": {},
     "output_type": "execute_result"
    }
   ],
   "source": [
    "matrices = separar_matrices(texto)\n",
    "matrices"
   ]
  },
  {
   "cell_type": "code",
   "execution_count": 97,
   "metadata": {},
   "outputs": [
    {
     "name": "stdout",
     "output_type": "stream",
     "text": [
      "--- Matriz 1 ---\n",
      "Todos los vectores tienen el mismo número de entradas. Por favor, continue.\n",
      "--- Matriz 2 ---\n",
      "Todos los vectores tienen el mismo número de entradas. Por favor, continue.\n",
      "\n",
      "¡Excelente! Todos las matrices tienen el mismo número de vectores. Por favor, continue.\n"
     ]
    }
   ],
   "source": [
    "tamano_matriz(matrices)"
   ]
  },
  {
   "cell_type": "code",
   "execution_count": 98,
   "metadata": {},
   "outputs": [],
   "source": [
    "matriz = suma_matrices(matrices)"
   ]
  },
  {
   "cell_type": "code",
   "execution_count": 99,
   "metadata": {},
   "outputs": [
    {
     "name": "stdout",
     "output_type": "stream",
     "text": [
      "La matriz que se obtiene de sumar las dos matrices es:\n",
      "\n",
      "[7.0, 9.0, 11.0, 13.0, 6.0]\n",
      "[2.0, 2.0, 2.0, 2.0, 2.0]\n",
      "[2.0, 2.0, 2.0, 2.0, 2.0]\n"
     ]
    }
   ],
   "source": [
    "print(\"La matriz que se obtiene de sumar las dos matrices es:\\n\")\n",
    "for i in matriz:\n",
    "    print(i)"
   ]
  },
  {
   "cell_type": "markdown",
   "metadata": {},
   "source": [
    "___\n",
    "**10.a** Escribe un programa que realice el producto de una matriz en $ \\mathbb{R}^{m \\times n} $ por un vector en $ \\mathbb{R}^{n} $. Las entradas tanto del vector como de la matriz deben leerse de un archivo."
   ]
  },
  {
   "cell_type": "markdown",
   "metadata": {},
   "source": [
    "**Recortario.** Dos matrices $A$ y $B$ son multiplicables si el número de columnas de $A$ coincide con el número de filas de $B$.\n",
    "\n",
    "$$ M_{m \\times n} \\times M_{n \\times p} = M_{m \\times p} $$"
   ]
  },
  {
   "cell_type": "markdown",
   "metadata": {},
   "source": [
    "*Nota aclaratoria:*\n",
    "- $ m $: número de filas\n",
    "- $ n $: número de columnas"
   ]
  },
  {
   "cell_type": "markdown",
   "metadata": {},
   "source": [
    "El vector $ \\mathbf{v} \\in \\mathbb{R}^{n} $ es un vector columna, es decir $ \\mathbf{v} \\in \\mathbb{R}^{n \\times 1} $"
   ]
  },
  {
   "cell_type": "markdown",
   "metadata": {},
   "source": [
    "**Recordatorio.** El elemento $ \\gamma_{ij} $ de la matriz producto se obtiene sacando el producto punto de la fila $i$ de la matriz $A$ y la columna $j$ de la matriz $B$."
   ]
  },
  {
   "cell_type": "markdown",
   "metadata": {},
   "source": [
    "En nuestro caso, nosotros tenemos una multiplicación de matrices de la siguiente forma\n",
    "\n",
    "$$\n",
    "\\left[\n",
    "  \\begin{array}{ccc}\n",
    "    \\alpha_{11} & \\alpha_{12} & \\dots & \\alpha_{1n} \\\\\n",
    "    \\alpha_{21} & \\alpha_{22} & \\dots & \\alpha_{2n} \\\\\n",
    "    \\vdots & \\vdots & \\ddots & \\vdots \\\\\n",
    "    \\alpha_{m1} & \\alpha_{m2} & \\dots & \\alpha_{mn} \\\\  \n",
    "  \\end{array}\n",
    "\\right]\n",
    "\\times\n",
    "\\begin{bmatrix}\n",
    "    \\beta_{11} \\\\\n",
    "    \\beta_{21} \\\\\n",
    "    \\vdots \\\\\n",
    "    \\beta_{n1}\n",
    "\\end{bmatrix}\n",
    "=\n",
    "\\left[\n",
    "  \\begin{array}{ccc}\n",
    "    \\alpha_{11}\\beta_{11} + \\alpha_{12}\\beta_{21} + \\dots + \\alpha_{1n}\\beta_{n1} \\\\\n",
    "    \\alpha_{21}\\beta_{11} + \\alpha_{22}\\beta_{21} + \\dots + \\alpha_{2n}\\beta_{n1} \\\\\n",
    "    \\vdots \\\\\n",
    "    \\alpha_{m1}\\beta_{11} + \\alpha_{m2}\\beta_{21} + \\dots + \\alpha_{mn}\\beta_{n1} \\\\  \n",
    "  \\end{array}\n",
    "\\right]\n",
    "$$"
   ]
  },
  {
   "cell_type": "code",
   "execution_count": 107,
   "metadata": {},
   "outputs": [],
   "source": [
    "archivo = 'matrices_10a.txt'\n",
    "texto = leer_archivo(archivo)"
   ]
  },
  {
   "cell_type": "code",
   "execution_count": 108,
   "metadata": {},
   "outputs": [
    {
     "name": "stdout",
     "output_type": "stream",
     "text": [
      "El valor introducido '1', es válido.\n",
      "Por favor, continue.\n",
      "El valor introducido '2', es válido.\n",
      "Por favor, continue.\n",
      "El valor introducido '3', es válido.\n",
      "Por favor, continue.\n",
      "El valor introducido '4', es válido.\n",
      "Por favor, continue.\n",
      "El valor introducido '5', es válido.\n",
      "Por favor, continue.\n",
      "El valor introducido '6', es válido.\n",
      "Por favor, continue.\n",
      "El valor introducido '7', es válido.\n",
      "Por favor, continue.\n",
      "El valor introducido '8', es válido.\n",
      "Por favor, continue.\n",
      "El valor introducido '9', es válido.\n",
      "Por favor, continue.\n",
      "El valor introducido '6', es válido.\n",
      "Por favor, continue.\n",
      "El valor introducido '5', es válido.\n",
      "Por favor, continue.\n",
      "El valor introducido '4', es válido.\n",
      "Por favor, continue.\n"
     ]
    },
    {
     "data": {
      "text/plain": [
       "[[[1.0, 2.0, 3.0], [4.0, 5.0, 6.0], [7.0, 8.0, 9.0]], [[6.0], [5.0], [4.0]]]"
      ]
     },
     "execution_count": 108,
     "metadata": {},
     "output_type": "execute_result"
    }
   ],
   "source": [
    "matrices = separar_matrices(texto)\n",
    "matrices"
   ]
  },
  {
   "cell_type": "code",
   "execution_count": 109,
   "metadata": {},
   "outputs": [
    {
     "name": "stdout",
     "output_type": "stream",
     "text": [
      "--- Matriz 1 ---\n",
      "Todos los vectores tienen el mismo número de entradas. Por favor, continue.\n",
      "--- Matriz 2 ---\n",
      "Todos los vectores tienen el mismo número de entradas. Por favor, continue.\n",
      "\n",
      "¡Excelente! Todos las matrices tienen el mismo número de vectores. Por favor, continue.\n"
     ]
    }
   ],
   "source": [
    "tamano_matriz(matrices)"
   ]
  },
  {
   "cell_type": "code",
   "execution_count": 153,
   "metadata": {},
   "outputs": [],
   "source": [
    "def mult_matrices(lista):\n",
    "    # Separamos las dos matrices\n",
    "    matriz_1 = lista[0]\n",
    "    matriz_2 = lista[1]\n",
    "    for i in matriz_1:\n",
    "        try:\n",
    "            # Verificamos que el número de columnas de matriz_1 coincida con el número de filas de matriz_2\n",
    "            len(matriz_2) == len(i)\n",
    "        except:\n",
    "            print(\"El número de columnas de la primer matriz no coincide con el número de filas de la segunda matriz\")\n",
    "    # columnas segunda matriz\n",
    "    columnas_m2 = []\n",
    "    # Tomamos el k-ésimo elemento de cada fila en matriz_2 y los agrupamos\n",
    "    for k in range(len(matriz_2[0])):\n",
    "        columna_temp = []\n",
    "        for i in range(len(matriz_2)):\n",
    "            columna_temp.append(matriz_2[i][k])\n",
    "        columnas_m2.append(columna_temp)\n",
    "    matriz = []\n",
    "    # Iteramos cada fila de matriz_1 y le hacemos producto punto con cada columna de matriz_2\n",
    "    for j in range(len(matriz_1)):\n",
    "        fila = []\n",
    "        for i in range(len(columnas_m2)):\n",
    "            mult = []\n",
    "            mult.append(matriz_1[j])\n",
    "            mult.append(columnas_m2[i])\n",
    "            fila.append(prod_int(mult))\n",
    "        matriz.append(fila)\n",
    "    return matriz"
   ]
  },
  {
   "cell_type": "code",
   "execution_count": 155,
   "metadata": {},
   "outputs": [],
   "source": [
    "mult = mult_matrices(matrices)"
   ]
  },
  {
   "cell_type": "code",
   "execution_count": 156,
   "metadata": {},
   "outputs": [
    {
     "name": "stdout",
     "output_type": "stream",
     "text": [
      "La multiplicación de las dos matrices es \n",
      "\n"
     ]
    },
    {
     "data": {
      "text/plain": [
       "[[28.0], [73.0], [118.0]]"
      ]
     },
     "execution_count": 156,
     "metadata": {},
     "output_type": "execute_result"
    }
   ],
   "source": [
    "print('La multiplicación de las dos matrices es \\n')\n",
    "mult"
   ]
  },
  {
   "cell_type": "markdown",
   "metadata": {},
   "source": [
    "___\n",
    "**10.b** Escribe un programa que realice el producto de dos matrices en $ \\mathbb{R}^{m \\times n} $, el usuario debe insertar las entradas de las matrices. Apóyate en tu programa anterior, pues es una generalización de este."
   ]
  },
  {
   "cell_type": "code",
   "execution_count": 157,
   "metadata": {},
   "outputs": [
    {
     "name": "stdout",
     "output_type": "stream",
     "text": [
      "------- MATRIZ 1 -------\n"
     ]
    },
    {
     "name": "stdin",
     "output_type": "stream",
     "text": [
      "Filas de matriz:  3\n",
      "Columnas de matriz:  2\n"
     ]
    },
    {
     "name": "stdout",
     "output_type": "stream",
     "text": [
      "---Vector 1 ---\n"
     ]
    },
    {
     "name": "stdin",
     "output_type": "stream",
     "text": [
      "Entrada 1:  -2\n",
      "Entrada 2:  1.67\n"
     ]
    },
    {
     "name": "stdout",
     "output_type": "stream",
     "text": [
      "---Vector 2 ---\n"
     ]
    },
    {
     "name": "stdin",
     "output_type": "stream",
     "text": [
      "Entrada 1:  9\n",
      "Entrada 2:  15.32\n"
     ]
    },
    {
     "name": "stdout",
     "output_type": "stream",
     "text": [
      "---Vector 3 ---\n"
     ]
    },
    {
     "name": "stdin",
     "output_type": "stream",
     "text": [
      "Entrada 1:  -33\n",
      "Entrada 2:  1\n"
     ]
    },
    {
     "name": "stdout",
     "output_type": "stream",
     "text": [
      "\n",
      "\n",
      "------- MATRIZ 2 -------\n"
     ]
    },
    {
     "name": "stdin",
     "output_type": "stream",
     "text": [
      "Filas de matriz:  2\n",
      "Columnas de matriz:  2\n"
     ]
    },
    {
     "name": "stdout",
     "output_type": "stream",
     "text": [
      "---Vector 1 ---\n"
     ]
    },
    {
     "name": "stdin",
     "output_type": "stream",
     "text": [
      "Entrada 1:  -3\n",
      "Entrada 2:  2\n"
     ]
    },
    {
     "name": "stdout",
     "output_type": "stream",
     "text": [
      "---Vector 2 ---\n"
     ]
    },
    {
     "name": "stdin",
     "output_type": "stream",
     "text": [
      "Entrada 1:  8\n",
      "Entrada 2:  -2.45\n"
     ]
    },
    {
     "name": "stdout",
     "output_type": "stream",
     "text": [
      "\n",
      "\n"
     ]
    }
   ],
   "source": [
    "matrices = generador_matrices(2)"
   ]
  },
  {
   "cell_type": "code",
   "execution_count": 158,
   "metadata": {},
   "outputs": [
    {
     "name": "stdout",
     "output_type": "stream",
     "text": [
      "El valor introducido '-2', es válido.\n",
      "Por favor, continue.\n",
      "El valor introducido '1.67', es válido.\n",
      "Por favor, continue.\n",
      "El valor introducido '9', es válido.\n",
      "Por favor, continue.\n",
      "El valor introducido '15.32', es válido.\n",
      "Por favor, continue.\n",
      "El valor introducido '-33', es válido.\n",
      "Por favor, continue.\n",
      "El valor introducido '1', es válido.\n",
      "Por favor, continue.\n",
      "El valor introducido '-3', es válido.\n",
      "Por favor, continue.\n",
      "El valor introducido '2', es válido.\n",
      "Por favor, continue.\n",
      "El valor introducido '8', es válido.\n",
      "Por favor, continue.\n",
      "El valor introducido '-2.45', es válido.\n",
      "Por favor, continue.\n"
     ]
    }
   ],
   "source": [
    "matrices = separar_matrices(matrices)"
   ]
  },
  {
   "cell_type": "code",
   "execution_count": 159,
   "metadata": {},
   "outputs": [
    {
     "name": "stdout",
     "output_type": "stream",
     "text": [
      "--- Matriz 1 ---\n",
      "Todos los vectores tienen el mismo número de entradas. Por favor, continue.\n",
      "--- Matriz 2 ---\n",
      "Todos los vectores tienen el mismo número de entradas. Por favor, continue.\n",
      "\n",
      "¡Excelente! Todos las matrices tienen el mismo número de vectores. Por favor, continue.\n"
     ]
    }
   ],
   "source": [
    "tamano_matriz(matrices)"
   ]
  },
  {
   "cell_type": "code",
   "execution_count": 161,
   "metadata": {},
   "outputs": [],
   "source": [
    "matriz = mult_matrices(matrices)"
   ]
  },
  {
   "cell_type": "code",
   "execution_count": 163,
   "metadata": {},
   "outputs": [
    {
     "name": "stdout",
     "output_type": "stream",
     "text": [
      "La multiplicación de las dos matrices es \n",
      "\n",
      "[19.36, -8.0915]\n",
      "[95.56, -19.534000000000006]\n",
      "[107.0, -68.45]\n"
     ]
    }
   ],
   "source": [
    "print('La multiplicación de las dos matrices es \\n')\n",
    "for i in matriz:\n",
    "    print(i)"
   ]
  },
  {
   "cell_type": "markdown",
   "metadata": {},
   "source": [
    "___\n",
    "**11.a** Escribe un programa para calcular una ***recta*** de valores ***Y*** en términos de valores ***X*** en cierto rango de ***X***, i.e. el programa debe arrojar como resultado un datos para graficar los puntos (x,y) de una recta. El usuario debe introducir los para metros de la recta (pendiente ***m*** y ordenada la origen ***b***), así como los valores inicial, final y de tamaño del intervalo para x."
   ]
  },
  {
   "cell_type": "code",
   "execution_count": 164,
   "metadata": {},
   "outputs": [],
   "source": [
    "import matplotlib.pyplot as plt\n",
    "import numpy as np"
   ]
  },
  {
   "cell_type": "code",
   "execution_count": 165,
   "metadata": {},
   "outputs": [
    {
     "name": "stdin",
     "output_type": "stream",
     "text": [
      "\n",
      "Introduzca un valor de 'm':  -3.1415\n"
     ]
    },
    {
     "name": "stdout",
     "output_type": "stream",
     "text": [
      "El valor introducido '-3.1415', es válido.\n",
      "Por favor, continue.\n"
     ]
    },
    {
     "name": "stdin",
     "output_type": "stream",
     "text": [
      "\n",
      "Introduzca un valor de 'b':  2.71828\n"
     ]
    },
    {
     "name": "stdout",
     "output_type": "stream",
     "text": [
      "El valor introducido '2.71828', es válido.\n",
      "Por favor, continue.\n"
     ]
    }
   ],
   "source": [
    "valor_m = real(input(\"\\nIntroduzca un valor de 'm': \"))\n",
    "valor_b = real(input(\"\\nIntroduzca un valor de 'b': \"))"
   ]
  },
  {
   "cell_type": "code",
   "execution_count": 166,
   "metadata": {},
   "outputs": [
    {
     "name": "stdin",
     "output_type": "stream",
     "text": [
      "\n",
      "El rango de x irá de:  -10\n"
     ]
    },
    {
     "name": "stdout",
     "output_type": "stream",
     "text": [
      "El valor introducido '-10', es válido.\n",
      "Por favor, continue.\n"
     ]
    },
    {
     "name": "stdin",
     "output_type": "stream",
     "text": [
      "hasta:  10\n"
     ]
    },
    {
     "name": "stdout",
     "output_type": "stream",
     "text": [
      "El valor introducido '10', es válido.\n",
      "Por favor, continue.\n"
     ]
    }
   ],
   "source": [
    "rango_x1 = real(input('\\nEl rango de x irá de: '))\n",
    "rango_x2 = real(input('hasta: '))"
   ]
  },
  {
   "cell_type": "code",
   "execution_count": 167,
   "metadata": {},
   "outputs": [],
   "source": [
    "# recta\n",
    "x = np.linspace(rango_x1,rango_x2,100)\n",
    "y = valor_m*x + valor_b"
   ]
  },
  {
   "cell_type": "code",
   "execution_count": 168,
   "metadata": {},
   "outputs": [],
   "source": [
    "label = 'y=' + str(valor_m) + 'x' + '+' + str(valor_b)"
   ]
  },
  {
   "cell_type": "code",
   "execution_count": 169,
   "metadata": {},
   "outputs": [
    {
     "data": {
      "text/plain": [
       "[<matplotlib.lines.Line2D at 0x7fa397753f40>]"
      ]
     },
     "execution_count": 169,
     "metadata": {},
     "output_type": "execute_result"
    },
    {
     "data": {
      "image/png": "[encoded data removed]",
      "text/plain": [
       "<Figure size 432x288 with 1 Axes>"
      ]
     },
     "metadata": {
      "needs_background": "light"
     },
     "output_type": "display_data"
    }
   ],
   "source": [
    "plt.title('Gráfica de ' + label)\n",
    "plt.plot(x, y, '-r', label=label) # recta"
   ]
  },
  {
   "cell_type": "markdown",
   "metadata": {},
   "source": [
    "____\n",
    "**11.b** Escribe un programa para calcular una parábola de valores Y en términos de valores X en cierto rango de X, i.e. el programa debe arrojar como resultado un archivo con los datos para graficar los puntos (x,y) de una parábola. El usuario debe introducir los parámetros de la ecuación cuadrática, así como los valores inicial, final y de tamaño del intervalo para x."
   ]
  },
  {
   "cell_type": "code",
   "execution_count": 170,
   "metadata": {},
   "outputs": [
    {
     "name": "stdin",
     "output_type": "stream",
     "text": [
      "\n",
      "Introduzca un valor de 'a':  -4\n"
     ]
    },
    {
     "name": "stdout",
     "output_type": "stream",
     "text": [
      "El valor introducido '-4', es válido.\n",
      "Por favor, continue.\n"
     ]
    },
    {
     "name": "stdin",
     "output_type": "stream",
     "text": [
      "\n",
      "Introduzca un valor de 'b':  7.53\n"
     ]
    },
    {
     "name": "stdout",
     "output_type": "stream",
     "text": [
      "El valor introducido '7.53', es válido.\n",
      "Por favor, continue.\n"
     ]
    },
    {
     "name": "stdin",
     "output_type": "stream",
     "text": [
      "\n",
      "Introduzca un valor de 'c':  0\n"
     ]
    },
    {
     "name": "stdout",
     "output_type": "stream",
     "text": [
      "El valor introducido '0', es válido.\n",
      "Por favor, continue.\n"
     ]
    }
   ],
   "source": [
    "valor_a = real(input(\"\\nIntroduzca un valor de 'a': \"))\n",
    "valor_b = real(input(\"\\nIntroduzca un valor de 'b': \"))\n",
    "valor_c = real(input(\"\\nIntroduzca un valor de 'c': \"))"
   ]
  },
  {
   "cell_type": "code",
   "execution_count": 171,
   "metadata": {},
   "outputs": [
    {
     "name": "stdin",
     "output_type": "stream",
     "text": [
      "\n",
      "El rango de x irá de:  -10\n"
     ]
    },
    {
     "name": "stdout",
     "output_type": "stream",
     "text": [
      "El valor introducido '-10', es válido.\n",
      "Por favor, continue.\n"
     ]
    },
    {
     "name": "stdin",
     "output_type": "stream",
     "text": [
      "hasta:  10\n"
     ]
    },
    {
     "name": "stdout",
     "output_type": "stream",
     "text": [
      "El valor introducido '10', es válido.\n",
      "Por favor, continue.\n"
     ]
    }
   ],
   "source": [
    "rango_x1 = real(input('\\nEl rango de x irá de: '))\n",
    "rango_x2 = real(input('hasta: '))"
   ]
  },
  {
   "cell_type": "code",
   "execution_count": 172,
   "metadata": {},
   "outputs": [],
   "source": [
    "x = np.linspace(rango_x1,rango_x2,100)\n",
    "y = valor_a*(x**2) + valor_b*x + valor_c"
   ]
  },
  {
   "cell_type": "code",
   "execution_count": 173,
   "metadata": {},
   "outputs": [],
   "source": [
    "label = 'y=' + str(valor_a) + 'x²+' + str(valor_b) + 'x+' + str(valor_c)"
   ]
  },
  {
   "cell_type": "code",
   "execution_count": 174,
   "metadata": {},
   "outputs": [
    {
     "data": {
      "text/plain": [
       "Text(0.5, 1.0, 'Gráfica de y=-4.0x²+7.53x+0.0')"
      ]
     },
     "execution_count": 174,
     "metadata": {},
     "output_type": "execute_result"
    },
    {
     "data": {
      "image/png": "[encoded data removed]",
      "text/plain": [
       "<Figure size 432x288 with 1 Axes>"
      ]
     },
     "metadata": {
      "needs_background": "light"
     },
     "output_type": "display_data"
    }
   ],
   "source": [
    "plt.plot(x, y, '-r', label=label) # recta\n",
    "plt.title('Gráfica de ' + label)"
   ]
  },
  {
   "cell_type": "markdown",
   "metadata": {},
   "source": [
    "___\n",
    "**12.a** Escribe un programa que arroje como resultado un archivo con los datos de un movimiento rectilíneo uniforme, en un intervalo de tiempo [$t_i , t_f$] definido por el usuario."
   ]
  },
  {
   "cell_type": "markdown",
   "metadata": {},
   "source": [
    "$$ x_f = x_i + v(t_f-t_i) $$"
   ]
  },
  {
   "cell_type": "code",
   "execution_count": 183,
   "metadata": {},
   "outputs": [
    {
     "name": "stdin",
     "output_type": "stream",
     "text": [
      "\n",
      "Introduzca un valor de 'x_i':  2.3\n"
     ]
    },
    {
     "name": "stdout",
     "output_type": "stream",
     "text": [
      "El valor introducido '2.3', es válido.\n",
      "Por favor, continue.\n"
     ]
    },
    {
     "name": "stdin",
     "output_type": "stream",
     "text": [
      "\n",
      "Introduzca un valor de 't_f':  78\n"
     ]
    },
    {
     "name": "stdout",
     "output_type": "stream",
     "text": [
      "El valor introducido '78', es válido.\n",
      "Por favor, continue.\n"
     ]
    },
    {
     "name": "stdin",
     "output_type": "stream",
     "text": [
      "\n",
      "Introduzca un valor de 't_i':  23\n"
     ]
    },
    {
     "name": "stdout",
     "output_type": "stream",
     "text": [
      "El valor introducido '23', es válido.\n",
      "Por favor, continue.\n"
     ]
    },
    {
     "name": "stdin",
     "output_type": "stream",
     "text": [
      "\n",
      "Introduzca un valor de 'v':  45\n"
     ]
    },
    {
     "name": "stdout",
     "output_type": "stream",
     "text": [
      "El valor introducido '45', es válido.\n",
      "Por favor, continue.\n"
     ]
    }
   ],
   "source": [
    "x_i = real(input(\"\\nIntroduzca un valor de 'x_i': \"))\n",
    "t_f = real(input(\"\\nIntroduzca un valor de 't_f': \"))\n",
    "t_i = real(input(\"\\nIntroduzca un valor de 't_i': \"))\n",
    "v = real(input(\"\\nIntroduzca un valor de 'v': \"))"
   ]
  },
  {
   "cell_type": "code",
   "execution_count": 184,
   "metadata": {},
   "outputs": [],
   "source": [
    "t = np.linspace(t_f,t_i,50)"
   ]
  },
  {
   "cell_type": "code",
   "execution_count": 185,
   "metadata": {},
   "outputs": [],
   "source": [
    "datos_mru = \"mru_posicion.txt\""
   ]
  },
  {
   "cell_type": "code",
   "execution_count": 186,
   "metadata": {},
   "outputs": [
    {
     "name": "stdout",
     "output_type": "stream",
     "text": [
      "Se ha generado correctamente un archivo en el directorio.\n"
     ]
    }
   ],
   "source": [
    "with open(datos_mru, \"w\") as handle:\n",
    "    for i in t:\n",
    "        x_f = x_i+v*(i)\n",
    "        texto = \"La posición en t=\" + str(i) + \" es \" + str(x_f)\n",
    "        print(texto, file=handle)\n",
    "print(\"Se ha generado correctamente un archivo en el directorio.\")"
   ]
  },
  {
   "cell_type": "markdown",
   "metadata": {},
   "source": [
    "<br>\n",
    "\n",
    "$$ v = \\frac{x_f-x_i}{t_f-t_i} $$"
   ]
  },
  {
   "cell_type": "code",
   "execution_count": 187,
   "metadata": {},
   "outputs": [
    {
     "name": "stdin",
     "output_type": "stream",
     "text": [
      "\n",
      "Introduzca un valor de 'x_f':  98\n"
     ]
    },
    {
     "name": "stdout",
     "output_type": "stream",
     "text": [
      "El valor introducido '98', es válido.\n",
      "Por favor, continue.\n"
     ]
    },
    {
     "name": "stdin",
     "output_type": "stream",
     "text": [
      "\n",
      "Introduzca un valor de 'x_i':  2\n"
     ]
    },
    {
     "name": "stdout",
     "output_type": "stream",
     "text": [
      "El valor introducido '2', es válido.\n",
      "Por favor, continue.\n"
     ]
    },
    {
     "name": "stdin",
     "output_type": "stream",
     "text": [
      "\n",
      "Introduzca un valor de 't_f':  32\n"
     ]
    },
    {
     "name": "stdout",
     "output_type": "stream",
     "text": [
      "El valor introducido '32', es válido.\n",
      "Por favor, continue.\n"
     ]
    },
    {
     "name": "stdin",
     "output_type": "stream",
     "text": [
      "\n",
      "Introduzca un valor de 't_i':  2\n"
     ]
    },
    {
     "name": "stdout",
     "output_type": "stream",
     "text": [
      "El valor introducido '2', es válido.\n",
      "Por favor, continue.\n"
     ]
    }
   ],
   "source": [
    "x_f = real(input(\"\\nIntroduzca un valor de 'x_f': \"))\n",
    "x_i = real(input(\"\\nIntroduzca un valor de 'x_i': \"))\n",
    "t_f = real(input(\"\\nIntroduzca un valor de 't_f': \"))\n",
    "t_i = real(input(\"\\nIntroduzca un valor de 't_i': \"))"
   ]
  },
  {
   "cell_type": "code",
   "execution_count": 188,
   "metadata": {},
   "outputs": [],
   "source": [
    "t = np.linspace(t_f,t_i,50)\n",
    "datos_mru = \"mru_velocidad.txt\""
   ]
  },
  {
   "cell_type": "code",
   "execution_count": 189,
   "metadata": {},
   "outputs": [
    {
     "name": "stdout",
     "output_type": "stream",
     "text": [
      "Se ha generado correctamente un archivo en el directorio.\n"
     ]
    }
   ],
   "source": [
    "with open(datos_mru, \"w\") as handle:\n",
    "    for i in t:\n",
    "        v = (x_f-x_i)/(i)\n",
    "        texto = \"La velocidad en t=\" + str(i) + \" es \" + str(v)\n",
    "        print(texto, file=handle)\n",
    "print(\"Se ha generado correctamente un archivo en el directorio.\")"
   ]
  },
  {
   "cell_type": "markdown",
   "metadata": {},
   "source": [
    "___\n",
    "**12.b** Escribe un programa que arroje como resultado un archivo con los datos de un movimiento uniformemente acelerado (o caída libre), en un intervalo de tiempo [$t_i , t_f$] definido por el usuario."
   ]
  },
  {
   "cell_type": "markdown",
   "metadata": {},
   "source": [
    "$$ x_f = x_i+v_0 (t_f - t_i) + \\frac{1}{2} a (t_f - t_i)^{2} $$"
   ]
  },
  {
   "cell_type": "code",
   "execution_count": 190,
   "metadata": {},
   "outputs": [
    {
     "name": "stdin",
     "output_type": "stream",
     "text": [
      "\n",
      "Introduzca un valor de 'x_i':  87\n"
     ]
    },
    {
     "name": "stdout",
     "output_type": "stream",
     "text": [
      "El valor introducido '87', es válido.\n",
      "Por favor, continue.\n"
     ]
    },
    {
     "name": "stdin",
     "output_type": "stream",
     "text": [
      "\n",
      "Introduzca un valor de 't_f':  1\n"
     ]
    },
    {
     "name": "stdout",
     "output_type": "stream",
     "text": [
      "El valor introducido '1', es válido.\n",
      "Por favor, continue.\n"
     ]
    },
    {
     "name": "stdin",
     "output_type": "stream",
     "text": [
      "\n",
      "Introduzca un valor de 't_i':  0.1\n"
     ]
    },
    {
     "name": "stdout",
     "output_type": "stream",
     "text": [
      "El valor introducido '0.1', es válido.\n",
      "Por favor, continue.\n"
     ]
    },
    {
     "name": "stdin",
     "output_type": "stream",
     "text": [
      "\n",
      "Introduzca un valor de 'v_0':  0.05\n"
     ]
    },
    {
     "name": "stdout",
     "output_type": "stream",
     "text": [
      "El valor introducido '0.05', es válido.\n",
      "Por favor, continue.\n"
     ]
    },
    {
     "name": "stdin",
     "output_type": "stream",
     "text": [
      "\n",
      "Introduzca un valor de 'a':  0.2\n"
     ]
    },
    {
     "name": "stdout",
     "output_type": "stream",
     "text": [
      "El valor introducido '0.2', es válido.\n",
      "Por favor, continue.\n"
     ]
    }
   ],
   "source": [
    "x_i = real(input(\"\\nIntroduzca un valor de 'x_i': \"))\n",
    "t_f = real(input(\"\\nIntroduzca un valor de 't_f': \"))\n",
    "t_i = real(input(\"\\nIntroduzca un valor de 't_i': \"))\n",
    "v_0 = real(input(\"\\nIntroduzca un valor de 'v_0': \"))\n",
    "a = real(input(\"\\nIntroduzca un valor de 'a': \"))"
   ]
  },
  {
   "cell_type": "code",
   "execution_count": 191,
   "metadata": {},
   "outputs": [],
   "source": [
    "t = np.linspace(t_f,t_i,50)\n",
    "datos_mru = \"mrua_posicion.txt\""
   ]
  },
  {
   "cell_type": "code",
   "execution_count": 193,
   "metadata": {},
   "outputs": [
    {
     "name": "stdout",
     "output_type": "stream",
     "text": [
      "Se ha generado correctamente un archivo en el directorio.\n"
     ]
    }
   ],
   "source": [
    "with open(datos_mru, \"w\") as handle:\n",
    "    for i in t:\n",
    "        x_f=x_i+v_0*(i)+(1/2)*a*((i)**2)\n",
    "        texto = \"La posición en t=\" + str(i) + \" es \" + str(x_f)\n",
    "        print(texto, file=handle)\n",
    "print(\"Se ha generado correctamente un archivo en el directorio.\")"
   ]
  },
  {
   "cell_type": "markdown",
   "metadata": {},
   "source": [
    "<br>\n",
    "\n",
    "$$ v_f = v_i + a(t_f - t_i) $$"
   ]
  },
  {
   "cell_type": "code",
   "execution_count": 194,
   "metadata": {},
   "outputs": [
    {
     "name": "stdin",
     "output_type": "stream",
     "text": [
      "\n",
      "Introduzca un valor de 'v_i':  34\n"
     ]
    },
    {
     "name": "stdout",
     "output_type": "stream",
     "text": [
      "El valor introducido '34', es válido.\n",
      "Por favor, continue.\n"
     ]
    },
    {
     "name": "stdin",
     "output_type": "stream",
     "text": [
      "\n",
      "Introduzca un valor de 'a':  9.8\n"
     ]
    },
    {
     "name": "stdout",
     "output_type": "stream",
     "text": [
      "El valor introducido '9.8', es válido.\n",
      "Por favor, continue.\n"
     ]
    },
    {
     "name": "stdin",
     "output_type": "stream",
     "text": [
      "\n",
      "Introduzca un valor de 't_f':  15\n"
     ]
    },
    {
     "name": "stdout",
     "output_type": "stream",
     "text": [
      "El valor introducido '15', es válido.\n",
      "Por favor, continue.\n"
     ]
    },
    {
     "name": "stdin",
     "output_type": "stream",
     "text": [
      "\n",
      "Introduzca un valor de 't_i':  0\n"
     ]
    },
    {
     "name": "stdout",
     "output_type": "stream",
     "text": [
      "El valor introducido '0', es válido.\n",
      "Por favor, continue.\n"
     ]
    }
   ],
   "source": [
    "v_i = real(input(\"\\nIntroduzca un valor de 'v_i': \"))\n",
    "a = real(input(\"\\nIntroduzca un valor de 'a': \"))\n",
    "t_f = real(input(\"\\nIntroduzca un valor de 't_f': \"))\n",
    "t_i = real(input(\"\\nIntroduzca un valor de 't_i': \"))"
   ]
  },
  {
   "cell_type": "code",
   "execution_count": 195,
   "metadata": {},
   "outputs": [],
   "source": [
    "t = np.linspace(t_f,t_i,50)\n",
    "datos_mru = \"mrua_velocidad-t.txt\""
   ]
  },
  {
   "cell_type": "code",
   "execution_count": 197,
   "metadata": {},
   "outputs": [
    {
     "name": "stdout",
     "output_type": "stream",
     "text": [
      "Se ha generado correctamente un archivo en el directorio.\n"
     ]
    }
   ],
   "source": [
    "with open(datos_mru, \"w\") as handle:\n",
    "    for i in t:\n",
    "        v_f=v_i+a*(i)\n",
    "        texto = \"La velocidad en t=\" + str(i) + \" es \" + str(v_f)\n",
    "        print(texto, file=handle)\n",
    "print(\"Se ha generado correctamente un archivo en el directorio.\")"
   ]
  },
  {
   "cell_type": "markdown",
   "metadata": {},
   "source": [
    "<br>\n",
    "\n",
    "$$ a = \\frac{v_f - v_i}{t_f - t_i)} $$"
   ]
  },
  {
   "cell_type": "code",
   "execution_count": 198,
   "metadata": {},
   "outputs": [
    {
     "name": "stdin",
     "output_type": "stream",
     "text": [
      "\n",
      "Introduzca un valor de 'v_f':  189\n"
     ]
    },
    {
     "name": "stdout",
     "output_type": "stream",
     "text": [
      "El valor introducido '189', es válido.\n",
      "Por favor, continue.\n"
     ]
    },
    {
     "name": "stdin",
     "output_type": "stream",
     "text": [
      "\n",
      "Introduzca un valor de 'v_i':  3\n"
     ]
    },
    {
     "name": "stdout",
     "output_type": "stream",
     "text": [
      "El valor introducido '3', es válido.\n",
      "Por favor, continue.\n"
     ]
    },
    {
     "name": "stdin",
     "output_type": "stream",
     "text": [
      "\n",
      "Introduzca un valor de 't_f':  20\n"
     ]
    },
    {
     "name": "stdout",
     "output_type": "stream",
     "text": [
      "El valor introducido '20', es válido.\n",
      "Por favor, continue.\n"
     ]
    },
    {
     "name": "stdin",
     "output_type": "stream",
     "text": [
      "\n",
      "Introduzca un valor de 't_i':  0\n"
     ]
    },
    {
     "name": "stdout",
     "output_type": "stream",
     "text": [
      "El valor introducido '0', es válido.\n",
      "Por favor, continue.\n"
     ]
    }
   ],
   "source": [
    "v_f = real(input(\"\\nIntroduzca un valor de 'v_f': \"))\n",
    "v_i = real(input(\"\\nIntroduzca un valor de 'v_i': \"))\n",
    "t_f = real(input(\"\\nIntroduzca un valor de 't_f': \"))\n",
    "t_i = real(input(\"\\nIntroduzca un valor de 't_i': \"))"
   ]
  },
  {
   "cell_type": "code",
   "execution_count": 200,
   "metadata": {},
   "outputs": [],
   "source": [
    "t = np.linspace(t_f,t_i,50)\n",
    "datos_mru = \"mrua_aceleracion.txt\""
   ]
  },
  {
   "cell_type": "code",
   "execution_count": 203,
   "metadata": {},
   "outputs": [
    {
     "name": "stdout",
     "output_type": "stream",
     "text": [
      "Se ha generado correctamente un archivo en el directorio.\n"
     ]
    },
    {
     "name": "stderr",
     "output_type": "stream",
     "text": [
      "<ipython-input-203-90fb55d7f1e7>:3: RuntimeWarning: divide by zero encountered in double_scalars\n",
      "  a=(v_f-v_i)/(i)\n"
     ]
    }
   ],
   "source": [
    "with open(datos_mru, \"w\") as handle:\n",
    "    for i in t:\n",
    "        a=(v_f-v_i)/(i)\n",
    "        texto = \"La aceleración en t=\" + str(i) + \" es \" + str(a)\n",
    "        print(texto, file=handle)\n",
    "print(\"Se ha generado correctamente un archivo en el directorio.\")"
   ]
  },
  {
   "cell_type": "markdown",
   "metadata": {},
   "source": [
    "___\n",
    "**12.c** Escribe un programa que arroje como resultado un archivo con los datos de un tiro parabólico, en un intervalo de tiempo [$t_i , t_f$] definido por el usuario."
   ]
  },
  {
   "cell_type": "markdown",
   "metadata": {},
   "source": [
    "$$ x_{max} = \\frac{v_i^{2}\\sin{2\\theta}}{g} $$"
   ]
  },
  {
   "cell_type": "code",
   "execution_count": 207,
   "metadata": {},
   "outputs": [],
   "source": [
    "import math"
   ]
  },
  {
   "cell_type": "code",
   "execution_count": 211,
   "metadata": {},
   "outputs": [],
   "source": [
    "g = 9.81"
   ]
  },
  {
   "cell_type": "code",
   "execution_count": 212,
   "metadata": {},
   "outputs": [
    {
     "name": "stdin",
     "output_type": "stream",
     "text": [
      "\n",
      "Introduzca un valor de 'v_0':  32\n"
     ]
    },
    {
     "name": "stdout",
     "output_type": "stream",
     "text": [
      "El valor introducido '32', es válido.\n",
      "Por favor, continue.\n"
     ]
    },
    {
     "name": "stdin",
     "output_type": "stream",
     "text": [
      "\n",
      "Introduzca un valor de 'θ' (en radianes):  0.5\n"
     ]
    },
    {
     "name": "stdout",
     "output_type": "stream",
     "text": [
      "El valor introducido '0.5', es válido.\n",
      "Por favor, continue.\n"
     ]
    }
   ],
   "source": [
    "v_0 = real(input(\"\\nIntroduzca un valor de 'v_0': \"))\n",
    "theta = real(input(\"\\nIntroduzca un valor de 'θ' (en radianes): \"))"
   ]
  },
  {
   "cell_type": "code",
   "execution_count": 213,
   "metadata": {},
   "outputs": [],
   "source": [
    "datos_mru = \"tp_alcance.txt\""
   ]
  },
  {
   "cell_type": "code",
   "execution_count": 215,
   "metadata": {},
   "outputs": [
    {
     "name": "stdout",
     "output_type": "stream",
     "text": [
      "Se ha generado correctamente un archivo en el directorio.\n"
     ]
    }
   ],
   "source": [
    "with open(datos_mru, \"w\") as handle:\n",
    "    x_max = (((v_0)**2)*math.sin(2*theta))/g\n",
    "    texto = \"El alcance máximo del proyectil es \" + str(x_max) + ' metros'\n",
    "    print(texto, file=handle)\n",
    "print(\"Se ha generado correctamente un archivo en el directorio.\")"
   ]
  },
  {
   "cell_type": "markdown",
   "metadata": {},
   "source": [
    "<br>\n",
    "\n",
    "$$ y_{max} = \\frac{v_i \\sin^{2}{\\theta}}{2g} $$"
   ]
  },
  {
   "cell_type": "code",
   "execution_count": 217,
   "metadata": {},
   "outputs": [
    {
     "name": "stdin",
     "output_type": "stream",
     "text": [
      "\n",
      "Introduzca un valor de 'v_i':  189\n"
     ]
    },
    {
     "name": "stdout",
     "output_type": "stream",
     "text": [
      "El valor introducido '189', es válido.\n",
      "Por favor, continue.\n"
     ]
    },
    {
     "name": "stdin",
     "output_type": "stream",
     "text": [
      "\n",
      "Introduzca un valor de 'θ':  0.7\n"
     ]
    },
    {
     "name": "stdout",
     "output_type": "stream",
     "text": [
      "El valor introducido '0.7', es válido.\n",
      "Por favor, continue.\n"
     ]
    }
   ],
   "source": [
    "v_i = real(input(\"\\nIntroduzca un valor de 'v_i': \"))\n",
    "theta = real(input(\"\\nIntroduzca un valor de 'θ': \"))"
   ]
  },
  {
   "cell_type": "code",
   "execution_count": 218,
   "metadata": {},
   "outputs": [],
   "source": [
    "datos_mru = \"tp_alturamax.txt\""
   ]
  },
  {
   "cell_type": "code",
   "execution_count": 219,
   "metadata": {},
   "outputs": [
    {
     "name": "stdout",
     "output_type": "stream",
     "text": [
      "Se ha generado correctamente un archivo en el directorio.\n"
     ]
    }
   ],
   "source": [
    "with open(datos_mru, \"w\") as handle:\n",
    "    y_max = (((v_i)**2)*(math.sin(theta)**2))/(2*g)\n",
    "    texto = \"La altura máxima que alcanza el proyectil es \" + str(y_max) + \" metros\"\n",
    "    print(texto, file=handle)\n",
    "print(\"Se ha generado correctamente un archivo en el directorio.\")"
   ]
  },
  {
   "cell_type": "code",
   "execution_count": null,
   "metadata": {},
   "outputs": [],
   "source": []
  }
 ],
 "metadata": {
  "kernelspec": {
   "display_name": "Python 3",
   "language": "python",
   "name": "python3"
  },
  "language_info": {
   "codemirror_mode": {
    "name": "ipython",
    "version": 3
   },
   "file_extension": ".py",
   "mimetype": "text/x-python",
   "name": "python",
   "nbconvert_exporter": "python",
   "pygments_lexer": "ipython3",
   "version": "3.8.5"
  }
 },
 "nbformat": 4,
 "nbformat_minor": 4
}
