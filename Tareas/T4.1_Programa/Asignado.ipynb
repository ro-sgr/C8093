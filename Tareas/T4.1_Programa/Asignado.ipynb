{
 "cells": [
  {
   "cell_type": "markdown",
   "metadata": {},
   "source": [
    "# Universidad Nacional Autónoma de México\n",
    "## Facultad de Ciencias\n",
    "### Computación 8093\n",
    "____"
   ]
  },
  {
   "cell_type": "markdown",
   "metadata": {},
   "source": [
    "Supongamos que tenemos una ecuación cuadrática de la manera: $ ax² +\n",
    "bx + c $ con valores cualesquiera para $ a, b, c $."
   ]
  },
  {
   "cell_type": "markdown",
   "metadata": {},
   "source": [
    "Imagina que proceso debes hacer en Python para obtener las dos posibles\n",
    "soluciones a la ecuación. Recuerda la fórmula general y empleala en tus procesos de programación.\n"
   ]
  },
  {
   "cell_type": "markdown",
   "metadata": {},
   "source": [
    "$$ \\text{Fórmula general: } x = \\frac{-b \\pm \\sqrt{b²-4ac}}{2a} $$\n",
    "___"
   ]
  },
  {
   "cell_type": "markdown",
   "metadata": {},
   "source": [
    "Observe que en el denominador de la fórmula general se tiene $2a$. Para que podamos enbcontrar valores de $x$ es necesario que $ a \\neq 0 $."
   ]
  },
  {
   "cell_type": "code",
   "execution_count": 1,
   "metadata": {},
   "outputs": [],
   "source": [
    "def cuadratica(a,b,c):\n",
    "    \n",
    "    # Nos aseguramos en que a≠0\n",
    "    if a == 0:\n",
    "        print(\"El valor de a no puede ser igual a cero.\")\n",
    "        \n",
    "    else:\n",
    "        # Se resuelve para los dos valores posibles de \"x\"\n",
    "        x_1 = (-b + (b**2-4*a*c)**(1/2) )/(2*a)\n",
    "        x_2 = (-b - (b**2-4*a*c)**(1/2) )/(2*a)\n",
    "        \n",
    "        # Imprimimos la ecuación que se resolvió\n",
    "        valor_a = \\\n",
    "            \"x²\" if a==1 \\\n",
    "            else \"-x²\" if a==-1 \\\n",
    "            else str(a) + \"x²\"\n",
    "        valor_b = \\\n",
    "            \"x\" if b==1 \\\n",
    "            else \"-x\" if b==-1 \\\n",
    "            else \"+\" + str(b) + \"x\" if b>0 \\\n",
    "            else str(b) + \"x\"\n",
    "        valor_c = \\\n",
    "            \"\" if c==0 \\\n",
    "            else \"+\" + str(c) if c>0 \\\n",
    "            else str(c)\n",
    "        \n",
    "        return (\"Las soluciones a la ecuación \" + valor_a + valor_b + valor_c + \" son: \" \\\n",
    "                + str(x_1) + \" y \" + str(x_2) )\n",
    "\n",
    "    return"
   ]
  },
  {
   "cell_type": "code",
   "execution_count": 2,
   "metadata": {},
   "outputs": [
    {
     "data": {
      "text/plain": [
       "'Las soluciones a la ecuación 3x²+5x+1 son: -0.2324081207560018 y -1.434258545910665'"
      ]
     },
     "execution_count": 2,
     "metadata": {},
     "output_type": "execute_result"
    }
   ],
   "source": [
    "cuadratica(3,5,1)"
   ]
  },
  {
   "cell_type": "code",
   "execution_count": null,
   "metadata": {},
   "outputs": [],
   "source": []
  }
 ],
 "metadata": {
  "kernelspec": {
   "display_name": "Python 3",
   "language": "python",
   "name": "python3"
  },
  "language_info": {
   "codemirror_mode": {
    "name": "ipython",
    "version": 3
   },
   "file_extension": ".py",
   "mimetype": "text/x-python",
   "name": "python",
   "nbconvert_exporter": "python",
   "pygments_lexer": "ipython3",
   "version": "3.8.5"
  }
 },
 "nbformat": 4,
 "nbformat_minor": 4
}
