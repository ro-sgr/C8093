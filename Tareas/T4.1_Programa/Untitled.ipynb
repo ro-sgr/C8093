{
 "cells": [
  {
   "cell_type": "markdown",
   "metadata": {},
   "source": [
    "# Universidad Nacional Autónoma de México\n",
    "## Facultad de Ciencias\n",
    "### Computación 8093\n",
    "____"
   ]
  },
  {
   "cell_type": "markdown",
   "metadata": {},
   "source": [
    "El script a desarrollar en Python deberá ser capaz de calcular el volumen de los siguientes sólidos platónicos\n",
    "- Tetraedro\n",
    "- Octaedro\n",
    "- Icosaedro"
   ]
  },
  {
   "cell_type": "markdown",
   "metadata": {},
   "source": [
    "Los sólidos platónicos tienen la peculiaridad que todas sus lados son iguales. En otras palabras, todas sus caras son iguales"
   ]
  },
  {
   "cell_type": "code",
   "execution_count": null,
   "metadata": {},
   "outputs": [],
   "source": []
  }
 ],
 "metadata": {
  "kernelspec": {
   "display_name": "Python 3",
   "language": "python",
   "name": "python3"
  },
  "language_info": {
   "codemirror_mode": {
    "name": "ipython",
    "version": 3
   },
   "file_extension": ".py",
   "mimetype": "text/x-python",
   "name": "python",
   "nbconvert_exporter": "python",
   "pygments_lexer": "ipython3",
   "version": "3.8.5"
  }
 },
 "nbformat": 4,
 "nbformat_minor": 4
}
