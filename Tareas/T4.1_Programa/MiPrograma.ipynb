{
 "cells": [
  {
   "cell_type": "markdown",
   "metadata": {},
   "source": [
    "# Universidad Nacional Autónoma de México\n",
    "## Facultad de Ciencias\n",
    "### Computación 8093\n",
    "____"
   ]
  },
  {
   "cell_type": "markdown",
   "metadata": {},
   "source": [
    "El script a desarrollar en Python deberá ser capaz de calcular el volumen de los siguientes sólidos platónicos\n",
    "- Tetraedro\n",
    "- Octaedro\n",
    "- Icosaedro"
   ]
  },
  {
   "cell_type": "markdown",
   "metadata": {},
   "source": [
    "Los sólidos platónicos tienen la peculiaridad que todas sus lados son iguales. En otras palabras, todas sus caras son iguales"
   ]
  },
  {
   "cell_type": "markdown",
   "metadata": {},
   "source": [
    "<img src='../T3.2_LaTeX/tetraedro.png'></img> &nbsp;&nbsp;&nbsp;&nbsp;&nbsp;&nbsp;&nbsp;&nbsp;&nbsp;&nbsp;&nbsp;&nbsp;&nbsp;&nbsp;&nbsp;&nbsp;&nbsp;&nbsp;&nbsp;&nbsp;&nbsp;&nbsp;&nbsp;&nbsp;&nbsp;&nbsp;\n",
    "<img src='../T3.2_LaTeX/octaedro.png'></img> &nbsp;&nbsp;&nbsp;&nbsp;&nbsp;&nbsp;&nbsp;&nbsp;&nbsp;&nbsp;&nbsp;&nbsp;&nbsp;&nbsp;&nbsp;&nbsp;&nbsp;&nbsp;&nbsp;&nbsp;&nbsp;&nbsp;&nbsp;&nbsp;&nbsp;&nbsp;\n",
    "<img src='../T3.2_LaTeX/icosaedro.png'></img>\n",
    "___"
   ]
  },
  {
   "cell_type": "markdown",
   "metadata": {},
   "source": [
    "<strong>Respuesta.</strong><br>\n",
    "Las fórmulas de los respectivos volúmenes son\n",
    "\n",
    "- <strong>Tetraedro:</strong> $ V = \\frac{\\sqrt{2}}{12} \\cdot L³ $\n",
    "\n",
    "- <strong>Octaedro:</strong> $ V = \\frac{\\sqrt{2}}{3} \\cdot L³ $\n",
    "\n",
    "- <strong>Icosaedro:</strong> $ V = \\frac{5}{12}(3 + \\sqrt{5}) L³ $\n",
    "\n",
    "Donde $L$ es la longitud de la arista."
   ]
  },
  {
   "cell_type": "code",
   "execution_count": 1,
   "metadata": {},
   "outputs": [],
   "source": [
    "def tetra(l):\n",
    "    v = ((2**(1/2))*(l)**3)/(12)\n",
    "    return (\"El volumen de un tetraedro regular con aristas de longitud \" \\\n",
    "            + str(l) + \" es \" + str(v) + \" u³\" )"
   ]
  },
  {
   "cell_type": "code",
   "execution_count": 2,
   "metadata": {},
   "outputs": [],
   "source": [
    "def octa(l):\n",
    "    v =  ((2**(1/2))*(l)**3)/(3)\n",
    "    return (\"El volumen de un octaedro regular con aristas de longitud \" + \\\n",
    "            str(l) + \" es \" + str(v) + \" u³\")"
   ]
  },
  {
   "cell_type": "code",
   "execution_count": 3,
   "metadata": {},
   "outputs": [],
   "source": [
    "def ico(l):\n",
    "    v = ((5)/(12))*(3+(5)**(1/2))*(l**3)\n",
    "    return (\"El volumen de un icosaedro regular con aristas de longitud \" + \\\n",
    "            str(l) + \" es \" + str(v) + \" u³\")"
   ]
  },
  {
   "cell_type": "code",
   "execution_count": 4,
   "metadata": {},
   "outputs": [
    {
     "data": {
      "text/plain": [
       "'El volumen de un tetraedro regular con aristas de longitud 3 es 3.1819805153394642 u³'"
      ]
     },
     "execution_count": 4,
     "metadata": {},
     "output_type": "execute_result"
    }
   ],
   "source": [
    "tetra(3)"
   ]
  },
  {
   "cell_type": "code",
   "execution_count": 5,
   "metadata": {},
   "outputs": [
    {
     "data": {
      "text/plain": [
       "'El volumen de un octaedro regular con aristas de longitud 5 es 58.92556509887896 u³'"
      ]
     },
     "execution_count": 5,
     "metadata": {},
     "output_type": "execute_result"
    }
   ],
   "source": [
    "octa(5)"
   ]
  },
  {
   "cell_type": "code",
   "execution_count": 6,
   "metadata": {},
   "outputs": [
    {
     "data": {
      "text/plain": [
       "'El volumen de un icosaedro regular con aristas de longitud 7 es 748.321381784345 u³'"
      ]
     },
     "execution_count": 6,
     "metadata": {},
     "output_type": "execute_result"
    }
   ],
   "source": [
    "ico(7)"
   ]
  },
  {
   "cell_type": "code",
   "execution_count": null,
   "metadata": {},
   "outputs": [],
   "source": []
  }
 ],
 "metadata": {
  "kernelspec": {
   "display_name": "Python 3",
   "language": "python",
   "name": "python3"
  },
  "language_info": {
   "codemirror_mode": {
    "name": "ipython",
    "version": 3
   },
   "file_extension": ".py",
   "mimetype": "text/x-python",
   "name": "python",
   "nbconvert_exporter": "python",
   "pygments_lexer": "ipython3",
   "version": "3.8.5"
  }
 },
 "nbformat": 4,
 "nbformat_minor": 4
}
