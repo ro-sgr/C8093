{
 "cells": [
  {
   "cell_type": "markdown",
   "metadata": {},
   "source": [
    "# Introducción a las herramientas del cómputo científico.\n",
    "\n",
    "Sergio A. Alcalá Corona <br>\n",
    "Sergio A. Sánchez Chávez\n",
    "\n",
    "---\n",
    "---"
   ]
  },
  {
   "cell_type": "markdown",
   "metadata": {},
   "source": [
    "## SISTEMA OPERATIVO LINUX\n",
    "\n",
    "### Elementos básicos de una cuenta de Linux y Primeros comandos \n",
    "\n",
    "A continuacón expondremos algunos de los comados más basicos de linux.\n",
    "Trata de probarlos en la terminal, del Jupyter Lab. \n",
    "\n",
    "---\n"
   ]
  },
  {
   "cell_type": "markdown",
   "metadata": {},
   "source": [
    "#### Elementos básicos de una cuenta de usuario\n",
    "\n",
    "Así como una cuenta de correo, una cuenta en Linux está basada en un **_usuario_** y un **_password_**, ésta se complementa con el nombre de la maquina (o servidor) y en su caso con el dominio en el cual se encuentra alojada dicha cuenta.\n",
    "\n",
    "El _usuario_ es el identificador dentro de la maquina, dicho nombre de usuario es único, es decir, no puede haber dos cuentas en el servidor con el mismo usuario ya que éste es el nombre con que se conoce a la persona dentro del servidor.\n",
    "\n",
    "<b>usuario@hp.fciencias.unam.mx</b>\n",
    "\n",
    "Aquí la cuenta de usuario se encuentra en el equipo llamado _hp_ que se localiza en la dependencia _Facultad de Ciencias_ que pertenece a la institución UNAM la cual se encuentra en México.\n",
    "\n",
    "El _password_ es la clave de acceso al sistema, sólo debe conocerla el dueño de la cuenta ya que permite el acceso a la maquina, a todos sus servicios disponibles y a la información del usuario.\n",
    "\n",
    "Cuando el sistema nos pide la contraseña y nosotros la tecleamos, **ésta no es impresa en el monitor por seguridad** para evitar que sea vista por otra persona.\n",
    "\n",
    "---"
   ]
  },
  {
   "cell_type": "markdown",
   "metadata": {},
   "source": [
    "__*whoami*__, me permite saber con que usuario estoy conectado dentro del equipo."
   ]
  },
  {
   "cell_type": "code",
   "execution_count": 1,
   "metadata": {},
   "outputs": [
    {
     "name": "stdout",
     "output_type": "stream",
     "text": [
      "sergio\n"
     ]
    }
   ],
   "source": [
    "whoami"
   ]
  },
  {
   "cell_type": "markdown",
   "metadata": {},
   "source": [
    "__*date*__ muestra la hora del sistema."
   ]
  },
  {
   "cell_type": "code",
   "execution_count": 2,
   "metadata": {},
   "outputs": [
    {
     "name": "stdout",
     "output_type": "stream",
     "text": [
      "Thu Oct  8 16:13:47 CDT 2020\n"
     ]
    }
   ],
   "source": [
    "date"
   ]
  },
  {
   "cell_type": "markdown",
   "metadata": {},
   "source": [
    "__*cal*__ <br>\n",
    "el sistema cuenta con un calendario el cual\n",
    "comprende desde el año 1 hasta el año 9999, por\n",
    "default el comando cal nos va a entregar el\n",
    "calendario del mes en curso."
   ]
  },
  {
   "cell_type": "code",
   "execution_count": 34,
   "metadata": {},
   "outputs": [
    {
     "name": "stdout",
     "output_type": "stream",
     "text": [
      "   September 2020     \n",
      "Su Mo Tu We Th Fr Sa  \n",
      "       1  2  3  4  5  \n",
      " 6  7  8  9 10 11 12  \n",
      "13 14 15 16 17 18 19  \n",
      "20 21 \u001b[7m22\u001b[27m 23 24 25 26  \n",
      "27 28 29 30           \n",
      "                      \n"
     ]
    }
   ],
   "source": [
    "cal"
   ]
  },
  {
   "cell_type": "markdown",
   "metadata": {},
   "source": [
    "__*cal 2005*__ <br>\n",
    "nos mostrará el calendario del año 2005\n",
    "\n",
    "__*cal 6 1975*__ <br>\n",
    " nos mostrará el calendario del sexto mes del año 1975\n",
    " \n",
    "Prueba con tu mes y año de nacimiento para saber en que día de la semana naciste ..."
   ]
  },
  {
   "cell_type": "code",
   "execution_count": null,
   "metadata": {},
   "outputs": [],
   "source": []
  },
  {
   "cell_type": "markdown",
   "metadata": {},
   "source": [
    "__*cal -y*__ <br> \n",
    "mostrará el calendario del año en curso.\n",
    "\n",
    "__*cal -j 2005*__ <br> \n",
    "nos mostrará la numeración de los 365 días del año 2005 en lugar de desplegarnos la numeración de cada uno de los meses.\n",
    "\n",
    "\n",
    "__*cal 9 1752*__ <br> \n",
    "Aquí se observará que falta la numeración entre los días 2 y 14 de Septiembre de 1752, esto es debido a que el Papa Gregorio XIII decretó en el año 1582 que se debían ajustar todos los calendarios debido al ajuste de los años bisiestos.\n",
    "\n",
    "Pruebalos ..."
   ]
  },
  {
   "cell_type": "code",
   "execution_count": 3,
   "metadata": {},
   "outputs": [
    {
     "name": "stdout",
     "output_type": "stream",
     "text": [
      "                            2020\n",
      "      January               February               March          \n",
      "Su Mo Tu We Th Fr Sa  Su Mo Tu We Th Fr Sa  Su Mo Tu We Th Fr Sa  \n",
      "          1  2  3  4                     1   1  2  3  4  5  6  7  \n",
      " 5  6  7  8  9 10 11   2  3  4  5  6  7  8   8  9 10 11 12 13 14  \n",
      "12 13 14 15 16 17 18   9 10 11 12 13 14 15  15 16 17 18 19 20 21  \n",
      "19 20 21 22 23 24 25  16 17 18 19 20 21 22  22 23 24 25 26 27 28  \n",
      "26 27 28 29 30 31     23 24 25 26 27 28 29  29 30 31              \n",
      "                                                                  \n",
      "\n",
      "       April                  May                   June          \n",
      "Su Mo Tu We Th Fr Sa  Su Mo Tu We Th Fr Sa  Su Mo Tu We Th Fr Sa  \n",
      "          1  2  3  4                  1  2      1  2  3  4  5  6  \n",
      " 5  6  7  8  9 10 11   3  4  5  6  7  8  9   7  8  9 10 11 12 13  \n",
      "12 13 14 15 16 17 18  10 11 12 13 14 15 16  14 15 16 17 18 19 20  \n",
      "19 20 21 22 23 24 25  17 18 19 20 21 22 23  21 22 23 24 25 26 27  \n",
      "26 27 28 29 30        24 25 26 27 28 29 30  28 29 30              \n",
      "                      31                                          \n",
      "\n",
      "        July                 August              September        \n",
      "Su Mo Tu We Th Fr Sa  Su Mo Tu We Th Fr Sa  Su Mo Tu We Th Fr Sa  \n",
      "          1  2  3  4                     1         1  2  3  4  5  \n",
      " 5  6  7  8  9 10 11   2  3  4  5  6  7  8   6  7  8  9 10 11 12  \n",
      "12 13 14 15 16 17 18   9 10 11 12 13 14 15  13 14 15 16 17 18 19  \n",
      "19 20 21 22 23 24 25  16 17 18 19 20 21 22  20 21 22 23 24 25 26  \n",
      "26 27 28 29 30 31     23 24 25 26 27 28 29  27 28 29 30           \n",
      "                      30 31                                       \n",
      "\n",
      "      October               November              December        \n",
      "Su Mo Tu We Th Fr Sa  Su Mo Tu We Th Fr Sa  Su Mo Tu We Th Fr Sa  \n",
      "             1  2  3   1  2  3  4  5  6  7         1  2  3  4  5  \n",
      " 4  5  6  7 \u001b[7m 8\u001b[27m  9 10   8  9 10 11 12 13 14   6  7  8  9 10 11 12  \n",
      "11 12 13 14 15 16 17  15 16 17 18 19 20 21  13 14 15 16 17 18 19  \n",
      "18 19 20 21 22 23 24  22 23 24 25 26 27 28  20 21 22 23 24 25 26  \n",
      "25 26 27 28 29 30 31  29 30                 27 28 29 30 31        \n",
      "                                                                  \n"
     ]
    }
   ],
   "source": [
    "cal -y"
   ]
  },
  {
   "cell_type": "code",
   "execution_count": 4,
   "metadata": {},
   "outputs": [
    {
     "name": "stdout",
     "output_type": "stream",
     "text": [
      "   September 1752     \n",
      "Su Mo Tu We Th Fr Sa  \n",
      "       1  2 14 15 16  \n",
      "17 18 19 20 21 22 23  \n",
      "24 25 26 27 28 29 30  \n",
      "                      \n",
      "                      \n",
      "                      \n"
     ]
    }
   ],
   "source": [
    "cal 9 1752"
   ]
  },
  {
   "cell_type": "code",
   "execution_count": null,
   "metadata": {},
   "outputs": [],
   "source": []
  },
  {
   "cell_type": "markdown",
   "metadata": {},
   "source": [
    "#### Estructura básica de los comandos. <br><br>\n",
    "\n",
    "**comando _-opciones_ argumento1 argumento2 ..** <br>\n",
    "\n",
    "La estructura de los comandos es muy rígida y generalmente siguen la misma sintaxis, es decir, siempre se escribe primero el comando, en seguida las opciones, si se requieren y al final los argumentos necesarios.Las opciones modifican el funcionamiento de un comando, generalmente se utilizan para agregar información a la salida de un comando o aumentar el potencial del uno a ejecutar.\n",
    "\n",
    "Las **opciones** no son necesarias para la ejecución del comando, siempre son antecedidas de un guión y se puede utilizar más de una opción.\n",
    "\n",
    "Los **argumentos** son requisito para la ejecución del comando, si no damos el argumento apropiado para la ejecución del comando, éste no se ejecutará y mandará un mensaje de error el sistema.\n",
    "\n",
    "---"
   ]
  },
  {
   "cell_type": "markdown",
   "metadata": {},
   "source": [
    "#### Versión de Linux\n",
    "\n",
    "**_uname_**\n",
    "Nos indica el tipo de LINUX que se esta utilizando.\n",
    "\n",
    "**_-n_** Indica el nombre del equipo\n",
    "\n",
    "**_-r_** Muestra la versión del kernel\n",
    "\n",
    "**_-m_** Indica la arquitectura del procesador\n",
    "\n",
    "**_-a_** Muestra todos los datos antes mencionado\n",
    "\n",
    "Pruebalo ..."
   ]
  },
  {
   "cell_type": "code",
   "execution_count": 6,
   "metadata": {},
   "outputs": [
    {
     "name": "stdout",
     "output_type": "stream",
     "text": [
      "chicagoua\n"
     ]
    }
   ],
   "source": [
    "uname -n"
   ]
  },
  {
   "cell_type": "code",
   "execution_count": 1,
   "metadata": {},
   "outputs": [
    {
     "name": "stdout",
     "output_type": "stream",
     "text": [
      "chicagoua 5.3.0-7648-generic x86_64\n"
     ]
    }
   ],
   "source": [
    "uname -nrm"
   ]
  },
  {
   "cell_type": "code",
   "execution_count": 3,
   "metadata": {},
   "outputs": [
    {
     "name": "stdout",
     "output_type": "stream",
     "text": [
      "Linux chicagoua 5.3.0-7648-generic #41~1586790036~18.04~600aeb5-Ubuntu SMP Mon Apr 13 17:47:15 UTC  x86_64 x86_64 x86_64 GNU/Linux\n"
     ]
    }
   ],
   "source": [
    "uname -a"
   ]
  },
  {
   "cell_type": "code",
   "execution_count": null,
   "metadata": {},
   "outputs": [],
   "source": []
  },
  {
   "cell_type": "markdown",
   "metadata": {},
   "source": [
    "Cómo interpretar los números de las versiones:\n",
    "\n",
    "Las versiones del kernel se numeran con 3 números, de la siguiente forma: XX.YY.ZZ\n",
    "\n",
    "**XX**: Indica la serie principal del kernel. Hasta el momento llega al numero 5. Este número cambia cuando la manera de funcionamiento del kernel ha sufrido\n",
    "un cambio muy importante.\n",
    "\n",
    "**YY**: Indica si la versión es de desarrollo o de producción. Un número impar, significa que es de desarrollo, uno par, que es de producción.\n",
    "\n",
    "**ZZ**: Indica nuevas revisiones dentro de una versión, en las que lo único que se ha modificado, son fallos de\n",
    "programación/bugs."
   ]
  },
  {
   "cell_type": "code",
   "execution_count": null,
   "metadata": {},
   "outputs": [],
   "source": []
  },
  {
   "cell_type": "code",
   "execution_count": null,
   "metadata": {},
   "outputs": [],
   "source": []
  },
  {
   "cell_type": "code",
   "execution_count": null,
   "metadata": {},
   "outputs": [],
   "source": []
  },
  {
   "cell_type": "code",
   "execution_count": null,
   "metadata": {},
   "outputs": [],
   "source": []
  }
 ],
 "metadata": {
  "kernelspec": {
   "display_name": "Bash",
   "language": "bash",
   "name": "bash"
  },
  "language_info": {
   "codemirror_mode": "shell",
   "file_extension": ".sh",
   "mimetype": "text/x-sh",
   "name": "bash"
  }
 },
 "nbformat": 4,
 "nbformat_minor": 2
}
