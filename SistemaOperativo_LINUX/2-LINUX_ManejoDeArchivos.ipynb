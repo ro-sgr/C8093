{
 "cells": [
  {
   "cell_type": "markdown",
   "metadata": {},
   "source": [
    "# Introducción a las herramientas del cómputo científico.\n",
    "\n",
    "Sergio A. Alcalá Corona <br>\n",
    "Sergio A. Sánchez Chávez\n",
    "\n",
    "---\n",
    "---"
   ]
  },
  {
   "cell_type": "markdown",
   "metadata": {},
   "source": [
    "# SISTEMA OPERATIVO LINUX\n",
    "\n",
    "## Trabajo con Archivos (redireccionamiento, búsqueda, filtros y permisos)\n",
    "\n",
    "En este *Notebook* expondremos algunos comandos relacionados con el manejo (leer y visualizar el contenido) de archivos en Linux. Asimsimo, veremos los permisos que se pueden otorgar a a los mismos.\n",
    "\n",
    "Recuerda que además de poder probar los comados en este *Notebook*, es recomendable que lo hagas una terminal *bash*.hazo en la terminal del Jupyter Lab. \n",
    "\n",
    "---\n"
   ]
  },
  {
   "cell_type": "markdown",
   "metadata": {},
   "source": [
    "## Trabajo con archivos"
   ]
  },
  {
   "cell_type": "markdown",
   "metadata": {},
   "source": [
    "#### **_cat_** (\"con**_cat_**enar\")\n",
    "\n",
    "Este comando nos permite ver el contenido de uno o más archivos, su función original es concatenar archivos.\n",
    "\n",
    "`cat archivo1 archivo2 ...` "
   ]
  },
  {
   "cell_type": "code",
   "execution_count": 1,
   "metadata": {},
   "outputs": [
    {
     "name": "stdout",
     "output_type": "stream",
     "text": [
      "cat: .bash_history: No such file or directory\n"
     ]
    },
    {
     "ename": "",
     "evalue": "1",
     "output_type": "error",
     "traceback": []
    }
   ],
   "source": [
    "cat .bash_history"
   ]
  },
  {
   "cell_type": "markdown",
   "metadata": {},
   "source": [
    " Utilizando la opción **–n** el comando imprime el contenido del o los archivos numerando las líneas en forma ascendente.\n",
    "\n",
    "`cat -n archivo1 archivo2 ...`\n",
    "\n",
    "Pruebalo ..."
   ]
  },
  {
   "cell_type": "code",
   "execution_count": null,
   "metadata": {},
   "outputs": [],
   "source": []
  },
  {
   "cell_type": "code",
   "execution_count": null,
   "metadata": {},
   "outputs": [],
   "source": []
  },
  {
   "cell_type": "markdown",
   "metadata": {},
   "source": [
    "#### **_more_** \n",
    "\n",
    "Este comando nos permite ver el contenido de uno o más archivos imprimiéndolos en pantalla, para avanzar una pantalla se presiona la barra espaciadora, para avanzar una línea se presiona la tecla de enter.\n",
    "\n",
    "`more archivo1 archivo2 ...`\n",
    "\n",
    "Pruebalo ..."
   ]
  },
  {
   "cell_type": "code",
   "execution_count": null,
   "metadata": {},
   "outputs": [],
   "source": []
  },
  {
   "cell_type": "markdown",
   "metadata": {},
   "source": [
    "#### **_less_** \n",
    "\n",
    "La orden more es bastante hábil, pero a menudo encontrarás que has adelantado más allá de la pantalla que querías. `more` no proporciona una manera de retroceder. El comando **`less`** proporciona esa función. Se usa de la misma forma que el comando `more` por lo que los ejemplos anteriores aplican aquí también. En resumen, *less es más que\n",
    "more*.\n",
    "\n",
    "`less archivo`\n",
    "\n",
    "Pruebalo ..."
   ]
  },
  {
   "cell_type": "code",
   "execution_count": null,
   "metadata": {},
   "outputs": [],
   "source": []
  },
  {
   "cell_type": "code",
   "execution_count": null,
   "metadata": {},
   "outputs": [],
   "source": []
  },
  {
   "cell_type": "markdown",
   "metadata": {},
   "source": [
    "#### **_head_** \n",
    "\n",
    "Nos muestra las primeras 10 líneas contenidas en un archivo\n",
    "\n",
    "`head nom_archivo`\n",
    "\n",
    "La opción **–n** le indica al comando que despliegue las primeras **_n_** número de líneas en lugar de 10.\n",
    "\n",
    "`head –20 nom_archivo`\n",
    "\n",
    "Pruebalo ..."
   ]
  },
  {
   "cell_type": "code",
   "execution_count": null,
   "metadata": {},
   "outputs": [],
   "source": []
  },
  {
   "cell_type": "code",
   "execution_count": null,
   "metadata": {},
   "outputs": [],
   "source": []
  },
  {
   "cell_type": "markdown",
   "metadata": {},
   "source": [
    "#### **_tail_** \n",
    "\n",
    "Nos muestra las últimas 10 líneas contenidas en un archivo\n",
    "\n",
    "`tail nom_archivo`\n",
    "\n",
    "La opción **–n** le indica al comando que despliegue las últimas **_n_**  número de líneas en lugar de 10.\n",
    "\n",
    "`tail –20 nom_archivo`\n",
    "\n",
    "Pruebalo ..."
   ]
  },
  {
   "cell_type": "code",
   "execution_count": null,
   "metadata": {},
   "outputs": [],
   "source": []
  },
  {
   "cell_type": "code",
   "execution_count": null,
   "metadata": {},
   "outputs": [],
   "source": []
  },
  {
   "cell_type": "markdown",
   "metadata": {},
   "source": [
    "## Redirecionamiento\n",
    "\n",
    "En LINUX existe una salida estándar que es el monitor, de igual manera hay una entrada estándar que es el teclado, de tal modo que todo lo que queramos hacer en forma convencional se lo debemos indicar al sistema operativo insertando las instrucciones desde el teclado, de la misma forma todo resultado de los comandos será impreso por\n",
    "default en la pantalla a no ser que se le indique otra cosa al sistema."
   ]
  },
  {
   "cell_type": "markdown",
   "metadata": {},
   "source": [
    "### Redireccionamiento de salida\n",
    "\n",
    "El carácter mayor que (**>**) nos permite redireccionar la salida de un programa hacia un archivo.\n",
    "\n",
    "`ls > milista`\n",
    "\n",
    "Manda la salida del comando **_ls_** a un archivo llamado **_milista_**, el resultado del comando *ls* no se\n",
    "imprime en pantalla, sino en el archivo indicado.\n",
    "\n",
    "Pruebalo ...\n",
    "\n",
    "**Ojo!!**\n",
    "Si el archivo milista no existe será creado automáticamente; y si el archivo existe será sobrescrito y su contenido se perderá."
   ]
  },
  {
   "cell_type": "code",
   "execution_count": null,
   "metadata": {},
   "outputs": [],
   "source": []
  },
  {
   "cell_type": "code",
   "execution_count": null,
   "metadata": {},
   "outputs": [],
   "source": []
  },
  {
   "cell_type": "markdown",
   "metadata": {},
   "source": [
    "### Redireccionamiento de entrada\n",
    "\n",
    "El carácter menor que (**<**) nos permite redireccionar un archivo hacia un programa:\n",
    "\n",
    "`programa.c < datos`\n",
    "\n",
    "Este comando manda el archivo datos hacia un programa escrito en _lenguaje **C**_.\n",
    "De la misma manera:\n",
    "\n",
    "`mail user < milista`\n",
    "\n",
    "manda el contenido del archivo *milista* por correo al destinatario usuario *user*."
   ]
  },
  {
   "cell_type": "code",
   "execution_count": null,
   "metadata": {},
   "outputs": [],
   "source": []
  },
  {
   "cell_type": "markdown",
   "metadata": {},
   "source": [
    "### Redireccionamiento de un programa a otro programa\n",
    "\n",
    "El carácter pipe (**|**) funciona como un filtro mandando la salida de un programa hacia la entrada de otro programa, enlazando la salida de un programa con la entrada de otro programa:\n",
    "\n",
    "`ls –la | more`\n",
    "\n",
    "Aquí se está enlazando la salida del comando **_ls_** con el programa **_more_**, el cual nos mostrará el resultado del comando ls por pantalla cada vez que presionemos la tecla espaciadora.\n",
    "\n",
    "Pruebalo ..."
   ]
  },
  {
   "cell_type": "code",
   "execution_count": 5,
   "metadata": {},
   "outputs": [
    {
     "name": "stdout",
     "output_type": "stream",
     "text": [
      "ls: cannot access '–la': No such file or directory\n"
     ]
    }
   ],
   "source": [
    "ls –la | more"
   ]
  },
  {
   "cell_type": "code",
   "execution_count": null,
   "metadata": {},
   "outputs": [],
   "source": []
  },
  {
   "cell_type": "markdown",
   "metadata": {},
   "source": [
    "### Redireccionamiento no destructivo o de adición.\n",
    "\n",
    "El doble mayor que (**>>**) nos permite *redireccionar* la salida de un programa hacia un archivo. Si el archivo no existe lo crea, **pero si el archivo existe el resultado del comando lo añade al final del archivo\n",
    "existente sin eliminar el contenido del archivo**.\n",
    "\n",
    "Pruebalo ..."
   ]
  },
  {
   "cell_type": "code",
   "execution_count": null,
   "metadata": {},
   "outputs": [],
   "source": [
    "ls >> milista"
   ]
  },
  {
   "cell_type": "code",
   "execution_count": null,
   "metadata": {},
   "outputs": [],
   "source": []
  },
  {
   "cell_type": "markdown",
   "metadata": {},
   "source": [
    "## Permisos de Archivos"
   ]
  },
  {
   "cell_type": "markdown",
   "metadata": {},
   "source": [
    "Existen tres tipos de permisos que se aplican tanto a los archivos como a los directorios, ellos son:\n",
    "\n",
    "**`r`** lectura\n",
    "\n",
    "**`w`** escritura\n",
    "\n",
    "**`x`** ejecución"
   ]
  },
  {
   "cell_type": "markdown",
   "metadata": {},
   "source": [
    "Debemos asignar los permisos a los archivos de acuerdo a la función que van a realizar dependiendo para lo que fueron creados.\n",
    "\n",
    "**`r`** El permiso de lectura permite que el archivo pueda ser leído o copiado.\n",
    "\n",
    "**`w`** Permite escribir en el archivo, hacer modificaciones o borrarlo si así lo desea.\n",
    "\n",
    "**`x`** Los archivos ejecutables son aquellos que pueden realizar un proceso."
   ]
  },
  {
   "cell_type": "markdown",
   "metadata": {},
   "source": [
    "Estos permisos se encuentran asignados en tres bloques, los cuales representan al usuario o dueño del elemento listado, al grupo al que pertenece el usuario y a los otros usuarios del sistema, de ello que los atributos se componen de *10 bits*, el primer bit indica el tipo de elemento que esta listado (archivo o directorio), los siguientes *9 bits* representan los tipos de permisos asignados a cada elemento listado.\n",
    "\n",
    "<img src=\"permisos.png\">"
   ]
  },
  {
   "cell_type": "markdown",
   "metadata": {},
   "source": [
    "#### **_chmod_**  (Cambiar permisos)\n",
    "\n",
    "Este comando nos permite modificar los permisos a los archivos y directorios, la asignación de permisos puede hacerse de dos formas, mediante el método simbólico o mediante el método octal."
   ]
  },
  {
   "cell_type": "markdown",
   "metadata": {},
   "source": [
    "#### Asignación de permisos\n",
    "\n",
    "**`chmod`** indica al sistema el cambio de permisos.\n",
    "\n",
    "`u` Indica que se modificarán los permisos del usuario dueño del elemento.\n",
    "\n",
    "`g` Indica que se modificarán los permisos asignados al grupo.\n",
    "\n",
    "`o` Indica que se modificarán los permisos de los otros usuarios que no pertenecen al grupo.\n",
    "\n",
    "`a` Indica que afectará los permisos para todoslos usuarios.\n",
    "\n",
    "`chmod u+r,g-rx,o+r archivo`\n",
    "\n",
    "Para modificar los permisos se pone el indicador de los permisos a afectar ya sea para el usuario, el grupo o los otros, seguido del signo **_+_** si se quiere agregar el permiso o de **_–_** si se quiere quitar el permiso separando con una coma los bloques de permisos, al final se indica el nombre del elemento a afectar."
   ]
  },
  {
   "cell_type": "markdown",
   "metadata": {},
   "source": [
    "#### Método octal\n",
    "\n",
    "Con el método octal se asignan directamente los permisos en base a una tabla de validación que va numerada de 0 a 7 dependiendo de los permisos que se deseen asignar, cada permiso adquiere un valor numérico:\n",
    "\n",
    "`X` vale 1\n",
    "`W` vale 2\n",
    "`R` vale 4\n",
    "\n",
    "quedando nuestra tabla de la siguiente fo rma:\n",
    "\n",
    "Asignación  /  Permisos\n",
    "\n",
    "0             `---` Ninguno\n",
    "\n",
    "1             `--x` Ejecución\n",
    "\n",
    "2             `-w-` Escritura\n",
    "\n",
    "3             `-wx` Escritura y ejecución\n",
    "\n",
    "4             `r--` Lectura\n",
    "\n",
    "5             `r-x` Lectura y ejecución\n",
    "\n",
    "6             `rw-` Lectura y escritura\n",
    "\n",
    "7             `rwx` Lectura, escritura y ejecución"
   ]
  },
  {
   "cell_type": "markdown",
   "metadata": {},
   "source": [
    "De tal forma que si deseamos poner todos los permisos para el usuario, permisos de lectura y ejecución para el grupo y ninguno para los otros el comando quedaría de la siguiente forma:\n",
    "\n",
    "`chmod 750 archivo`\n",
    "\n",
    "Sustituyendo el número correspondiente para cada bloque de permisos al usuario, al grupo y a los otros.\n",
    "\n",
    "Pruebalo ..."
   ]
  },
  {
   "cell_type": "code",
   "execution_count": null,
   "metadata": {},
   "outputs": [],
   "source": []
  },
  {
   "cell_type": "code",
   "execution_count": null,
   "metadata": {},
   "outputs": [],
   "source": []
  },
  {
   "cell_type": "code",
   "execution_count": null,
   "metadata": {},
   "outputs": [],
   "source": []
  },
  {
   "cell_type": "code",
   "execution_count": null,
   "metadata": {},
   "outputs": [],
   "source": []
  },
  {
   "cell_type": "markdown",
   "metadata": {},
   "source": [
    "## Búsqueda de archivos"
   ]
  },
  {
   "cell_type": "markdown",
   "metadata": {},
   "source": [
    "#### **_find_** \n",
    "\n",
    "Nos permite buscar un archivo por **nombre** o **permisos** en algún directorio\n",
    "\n",
    "`–name`  Nos permite buscar por nombre\n",
    "\n",
    "`find /home/usuario -name \"*.png\"`\n",
    "\n",
    "`–perm`  Nos permite buscar por permisos\n",
    "\n",
    "`find / -perm 777`\n",
    "\n",
    "Pruebalo ..."
   ]
  },
  {
   "cell_type": "code",
   "execution_count": null,
   "metadata": {},
   "outputs": [],
   "source": [
    "find /home/usuario -name \"*.png"
   ]
  },
  {
   "cell_type": "code",
   "execution_count": null,
   "metadata": {},
   "outputs": [],
   "source": [
    "find / -perm 777"
   ]
  },
  {
   "cell_type": "code",
   "execution_count": null,
   "metadata": {},
   "outputs": [],
   "source": []
  },
  {
   "cell_type": "code",
   "execution_count": null,
   "metadata": {},
   "outputs": [],
   "source": []
  },
  {
   "cell_type": "markdown",
   "metadata": {},
   "source": [
    "## Filtros"
   ]
  },
  {
   "cell_type": "markdown",
   "metadata": {},
   "source": [
    "#### **_grep_** \n",
    "\n",
    "Este comando busca patrones en archivos. Por defecto devuelve todas las líneas que contienen un patrón determinado en uno o varios archivos. Utilizando las opciones se puede variar mucho este comportamiento. Si no se le pasa ningún archivo como argumento hace la búsqueda en la entrada estándar.\n",
    "\n",
    "Sintaxis:\n",
    "\n",
    "`grep [opciones] <patrón> [archivos]`\n",
    "\n",
    "#### Algunas opciones:\n",
    "\n",
    "**`-c`**: devuelve sólo la cantidad de líneas que contienen al patrón.\n",
    "\n",
    "**`-i`**: ignora las diferencias entre mayúsculas y minúsculas.\n",
    "\n",
    "**`-H`**: imprime además de las líneas, el nombre del archivo donde se encontró el patrón. Es así por defecto cuando se hace la búsqueda en más de un archivo.\n",
    "\n",
    "**`-l`**: cuando son múltiples archivos sólo muestra los nombres de aquellos donde se encontró al patrón y no las líneas correspondientes.\n",
    "\n",
    "**`-v`**: devuelve las líneas que no contienen el patrón.\n",
    "\n",
    "**`-r`**: busca en un directorio de forma recursiva.\n",
    "\n",
    "**`-n`**: imprime el número de cada línea que contiene al patrón."
   ]
  },
  {
   "cell_type": "markdown",
   "metadata": {},
   "source": [
    "Ejemplos:\n",
    "\n",
    "`$ grep -H -r linux /usr/share/doc`\n",
    "\n",
    "`# grep -n error /var/log/messages`\n",
    "\n",
    "`$ grep -i ftp /etc/passwd`\n",
    "\n",
    "`$ grep -c root /etc/group`\n",
    "\n",
    "`$ grep -l -r -i img /var/www/icons/*`\n",
    "\n",
    "Pruebalo ..."
   ]
  },
  {
   "cell_type": "code",
   "execution_count": null,
   "metadata": {},
   "outputs": [],
   "source": [
    "grep -H -r linux /usr/share/doc"
   ]
  },
  {
   "cell_type": "code",
   "execution_count": null,
   "metadata": {},
   "outputs": [],
   "source": [
    "# ojo, se necesitan permisos de administrador\n",
    "\n",
    "grep -n error /var/log/messages"
   ]
  },
  {
   "cell_type": "code",
   "execution_count": null,
   "metadata": {},
   "outputs": [],
   "source": [
    "grep -i ftp /etc/passwd"
   ]
  },
  {
   "cell_type": "code",
   "execution_count": null,
   "metadata": {},
   "outputs": [],
   "source": [
    "grep -c root /etc/group"
   ]
  },
  {
   "cell_type": "code",
   "execution_count": null,
   "metadata": {},
   "outputs": [],
   "source": [
    "grep -l -r -i img /var/www/icons/*"
   ]
  },
  {
   "cell_type": "code",
   "execution_count": null,
   "metadata": {},
   "outputs": [],
   "source": []
  },
  {
   "cell_type": "code",
   "execution_count": null,
   "metadata": {},
   "outputs": [],
   "source": []
  },
  {
   "cell_type": "code",
   "execution_count": null,
   "metadata": {},
   "outputs": [],
   "source": []
  },
  {
   "cell_type": "code",
   "execution_count": null,
   "metadata": {},
   "outputs": [],
   "source": []
  }
 ],
 "metadata": {
  "kernelspec": {
   "display_name": "Bash",
   "language": "bash",
   "name": "bash"
  },
  "language_info": {
   "codemirror_mode": "shell",
   "file_extension": ".sh",
   "mimetype": "text/x-sh",
   "name": "bash"
  }
 },
 "nbformat": 4,
 "nbformat_minor": 2
}
