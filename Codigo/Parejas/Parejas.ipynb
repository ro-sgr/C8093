{
 "cells": [
  {
   "cell_type": "code",
   "execution_count": 1,
   "metadata": {
    "jupyter": {
     "source_hidden": true
    }
   },
   "outputs": [
    {
     "data": {
      "text/html": [
       "<table style='width: 100%''><colgroup><col span='1' style='width: 15%;'><col span='1' style='width: 70%;'><col span='1' style='width: 15%;'></colgroup><tr><td style='text-align:center'><img src='UNAM.svg' width='75%' height='75%'></td><td style='text-align:center'><h1>Universidad Nacional Autónoma de México</h1><h2>Facultad de Ciencias</h2><h2>Computación 8093</h2></td><td style='text-align:center'><img src='FC.png' width='82.5%' height='82.5%'></td></tr><tr><td style='text-align:center'></td><td style='text-align:center'>Dr. Sergio Antonio Alcalá Corona<br>Fis. Sergio Ángel Sánchez Chávez<br></td><td style='text-align:center'></td></tr><tr><td style='text-align:center'></td><td style='text-align:center'>Rodrigo Segura Moreno<br></td><td style='text-align:center'></td></tr></table>"
      ],
      "text/plain": [
       "<IPython.core.display.HTML object>"
      ]
     },
     "metadata": {},
     "output_type": "display_data"
    }
   ],
   "source": [
    "from IPython.display import HTML, display\n",
    "display(HTML(\n",
    "    \"<table style='width: 100%''>\"\n",
    "    \n",
    "        \"<colgroup>\"\n",
    "            \"<col span='1' style='width: 15%;'>\"\n",
    "            \"<col span='1' style='width: 70%;'>\"\n",
    "            \"<col span='1' style='width: 15%;'>\"\n",
    "        \"</colgroup>\"\n",
    "    \n",
    "        \"<tr>\"\n",
    "            \"<td style='text-align:center'>\"\n",
    "                \"<img src='UNAM.svg' width='75%' height='75%'>\"\n",
    "            \"</td>\"\n",
    "            \"<td style='text-align:center'>\"\n",
    "                \"<h1>Universidad Nacional Autónoma de México</h1>\"\n",
    "                \"<h2>Facultad de Ciencias</h2>\"\n",
    "                \"<h2>Computación 8093</h2>\"\n",
    "            \"</td>\"\n",
    "            \"<td style='text-align:center'>\"\n",
    "                \"<img src='FC.png' width='82.5%' height='82.5%'>\"\n",
    "            \"</td>\"\n",
    "        \"</tr>\"\n",
    "    \n",
    "        \"<tr>\"\n",
    "            \"<td style='text-align:center'></td>\"\n",
    "            \"<td style='text-align:center'>\"\n",
    "                \"Dr. Sergio Antonio Alcalá Corona<br>\"\n",
    "                \"Fis. Sergio Ángel Sánchez Chávez<br>\"\n",
    "            \"</td>\"\n",
    "            \"<td style='text-align:center'></td>\"\n",
    "        \"</tr>\"\n",
    "    \n",
    "        \"<tr>\"\n",
    "            \"<td style='text-align:center'></td>\"\n",
    "            \"<td style='text-align:center'>\"\n",
    "                \"Rodrigo Segura Moreno<br>\"\n",
    "            \"</td>\"\n",
    "            \"<td style='text-align:center'></td>\"\n",
    "        \"</tr>\"\n",
    "    \"</table>\"\n",
    "))"
   ]
  },
  {
   "cell_type": "markdown",
   "metadata": {},
   "source": [
    "___\n",
    "Este Jupyter Notebook fue creado para generar parejas aleatoriamente a partir de una lista de elementos pares. Se procurará explicar paso por paso el código de este mismo.\n",
    "___"
   ]
  },
  {
   "cell_type": "code",
   "execution_count": 2,
   "metadata": {},
   "outputs": [],
   "source": [
    "# Exportamos las bibliotecas necesarias\n",
    "import random\n",
    "import pandas as pd"
   ]
  },
  {
   "cell_type": "code",
   "execution_count": 3,
   "metadata": {},
   "outputs": [],
   "source": [
    "# Se lee el archivo de texto\n",
    "with open('clase.txt') as archivo:\n",
    "    alumnxs = archivo.readlines()"
   ]
  },
  {
   "cell_type": "code",
   "execution_count": 4,
   "metadata": {},
   "outputs": [
    {
     "data": {
      "text/plain": [
       "['Persona 1',\n",
       " 'Persona 2',\n",
       " 'Persona 3',\n",
       " 'Persona 4',\n",
       " 'Persona 5',\n",
       " 'Persona 6',\n",
       " 'Persona 7',\n",
       " 'Persona 8',\n",
       " 'Persona 9',\n",
       " 'Persona 10',\n",
       " 'Persona 11',\n",
       " 'Persona 12',\n",
       " 'Persona 13',\n",
       " 'Persona 14',\n",
       " 'Persona 15',\n",
       " 'Persona 16',\n",
       " 'Persona 17',\n",
       " 'Persona 18',\n",
       " 'Persona 19',\n",
       " 'Persona 20',\n",
       " 'Persona 21',\n",
       " 'Persona 22',\n",
       " 'Persona 23',\n",
       " 'Persona 24',\n",
       " 'Persona 25',\n",
       " 'Persona 26',\n",
       " 'Persona 27',\n",
       " 'Persona 28',\n",
       " 'Persona 29',\n",
       " 'Persona 30']"
      ]
     },
     "execution_count": 4,
     "metadata": {},
     "output_type": "execute_result"
    }
   ],
   "source": [
    "# Asigna cada linea como un elemento en la lista\n",
    "alumnxs = [x.strip() for x in alumnxs]\n",
    "alumnxs"
   ]
  },
  {
   "cell_type": "markdown",
   "metadata": {},
   "source": [
    "De forma general, buscamos asignar a cada elemento de la lista con otro diferente de sí mismo. Además, un elemento solamente puede aparecer una sola vez."
   ]
  },
  {
   "cell_type": "markdown",
   "metadata": {},
   "source": [
    "Coloquialmente, \"Todos los caminos llevan a Roma\" (a menos que estén mal programados). Nosotros optaremos por el siguiente procedimiento para programar la solución a este problema:\n",
    "<ol>\n",
    "    <li>Tomar un elemento $ x_1 $ de la lista de manera aleatoria y almacenarlo en algún lugar.</li>\n",
    "    <li>Remover $ x_1 $ de la lista.</li>\n",
    "    <li>Tomar un elemento $ x_2 $ de la lista de manera aleatoria y relacionarlo con $ x_1 $ de alguna manera.</li>\n",
    "    <li>Remover $ x_2 $ de la lista.</li>\n",
    "    <li>Repetir pasos 1 a 4 hasta que la lista quede vacía.</li>\n",
    "</ol>"
   ]
  },
  {
   "cell_type": "code",
   "execution_count": 5,
   "metadata": {},
   "outputs": [],
   "source": [
    "# (1.1) Eligimos un elemento de forma aleatoria\n",
    "a = random.choice(alumnxs)"
   ]
  },
  {
   "cell_type": "code",
   "execution_count": 6,
   "metadata": {},
   "outputs": [],
   "source": [
    "# (*) Obtenemos el índice de dicho elemento en la lista\n",
    "ind = alumnxs.index(a)"
   ]
  },
  {
   "cell_type": "code",
   "execution_count": 7,
   "metadata": {},
   "outputs": [
    {
     "name": "stdout",
     "output_type": "stream",
     "text": [
      "El elemento aleatorio seleccionado fue \"Persona 7\" con índice 6 en la lista\n"
     ]
    }
   ],
   "source": [
    "print('El elemento aleatorio seleccionado fue \"' + a + '\" con índice ' + str(ind) + ' en la lista' )"
   ]
  },
  {
   "cell_type": "code",
   "execution_count": 8,
   "metadata": {},
   "outputs": [
    {
     "data": {
      "text/plain": [
       "['Persona 7']"
      ]
     },
     "execution_count": 8,
     "metadata": {},
     "output_type": "execute_result"
    }
   ],
   "source": [
    "# (1.2) Almacenamos en algún otro lado el elemento aleatorio.\n",
    "# Nosotros crearemos una lista a la cual le agregaremos dicho elemento.\n",
    "lista_1 = []\n",
    "lista_1.append(a)\n",
    "lista_1"
   ]
  },
  {
   "cell_type": "code",
   "execution_count": 9,
   "metadata": {},
   "outputs": [
    {
     "data": {
      "text/plain": [
       "'Persona 7'"
      ]
     },
     "execution_count": 9,
     "metadata": {},
     "output_type": "execute_result"
    }
   ],
   "source": [
    "# (2) Removemos el elemento de la lista original\n",
    "alumnxs.pop(ind)"
   ]
  },
  {
   "cell_type": "code",
   "execution_count": 10,
   "metadata": {},
   "outputs": [
    {
     "data": {
      "text/plain": [
       "['Persona 1',\n",
       " 'Persona 2',\n",
       " 'Persona 3',\n",
       " 'Persona 4',\n",
       " 'Persona 5',\n",
       " 'Persona 6',\n",
       " 'Persona 8',\n",
       " 'Persona 9',\n",
       " 'Persona 10',\n",
       " 'Persona 11',\n",
       " 'Persona 12',\n",
       " 'Persona 13',\n",
       " 'Persona 14',\n",
       " 'Persona 15',\n",
       " 'Persona 16',\n",
       " 'Persona 17',\n",
       " 'Persona 18',\n",
       " 'Persona 19',\n",
       " 'Persona 20',\n",
       " 'Persona 21',\n",
       " 'Persona 22',\n",
       " 'Persona 23',\n",
       " 'Persona 24',\n",
       " 'Persona 25',\n",
       " 'Persona 26',\n",
       " 'Persona 27',\n",
       " 'Persona 28',\n",
       " 'Persona 29',\n",
       " 'Persona 30']"
      ]
     },
     "execution_count": 10,
     "metadata": {},
     "output_type": "execute_result"
    }
   ],
   "source": [
    "# Vamos a revisar la lista original para ilustrar que sí fue removido\n",
    "alumnxs"
   ]
  },
  {
   "cell_type": "markdown",
   "metadata": {},
   "source": [
    "Realizaremos un proceso análogo para el elemento de la lista que será la pareja del primero. Solamente que, a este segundo elemento lo agregaremos a una lista diferente la cual llamaremos \" lista_2 \"."
   ]
  },
  {
   "cell_type": "code",
   "execution_count": 11,
   "metadata": {},
   "outputs": [],
   "source": [
    "# (3.1) Eligimos un elemento de forma aleatoria\n",
    "a = random.choice(alumnxs)\n",
    "\n",
    "# (*) Obtenemos el índice de dicho elemento en la lista\n",
    "ind = alumnxs.index(a)\n",
    "\n",
    "# (3.2) Almacenamos otra lista el segundo elemento.\n",
    "lista_2 = []\n",
    "lista_2.append(a)\n",
    "lista_2\n",
    "\n",
    "# (4) Removemos el elemento de la lista original\n",
    "alumnxs.pop(ind);"
   ]
  },
  {
   "cell_type": "markdown",
   "metadata": {},
   "source": [
    "Ahora bien, lo que se hará es repetir este proceso. El siguiente elemento será agregado a \" lista_1 \" el siguiente a \" lista_2 \" y así sucesivamente... Al ser una iteración que se realizará hasta que la lista original quede vacía podemos hacer un ciclo <em>while</em> el cual se dentrá una vez que la lista original este vacía."
   ]
  },
  {
   "cell_type": "markdown",
   "metadata": {},
   "source": [
    "Volveremos a cargar el archivo para que esté limpio. Así como, limpiar las listas que habíamos creado anteriormente."
   ]
  },
  {
   "cell_type": "code",
   "execution_count": 12,
   "metadata": {},
   "outputs": [],
   "source": [
    "with open('clase.txt') as archivo:\n",
    "    alumnxs = archivo.readlines()\n",
    "alumnxs = [x.strip() for x in alumnxs]\n",
    "lista_1 = []\n",
    "lista_2 = []"
   ]
  },
  {
   "cell_type": "code",
   "execution_count": 13,
   "metadata": {},
   "outputs": [],
   "source": [
    "while len(alumnxs) > 0:\n",
    "    # Primera persona\n",
    "    a = random.choice(alumnxs)\n",
    "    ind = alumnxs.index(a)\n",
    "    lista_1.append(a)\n",
    "    alumnxs.pop(ind)\n",
    "    # Segunda persona\n",
    "    a = random.choice(alumnxs)\n",
    "    ind = alumnxs.index(a)\n",
    "    lista_2.append(a)\n",
    "    alumnxs.pop(ind)"
   ]
  },
  {
   "cell_type": "code",
   "execution_count": 14,
   "metadata": {},
   "outputs": [
    {
     "data": {
      "text/html": [
       "<div>\n",
       "<style scoped>\n",
       "    .dataframe tbody tr th:only-of-type {\n",
       "        vertical-align: middle;\n",
       "    }\n",
       "\n",
       "    .dataframe tbody tr th {\n",
       "        vertical-align: top;\n",
       "    }\n",
       "\n",
       "    .dataframe thead th {\n",
       "        text-align: right;\n",
       "    }\n",
       "</style>\n",
       "<table border=\"1\" class=\"dataframe\">\n",
       "  <thead>\n",
       "    <tr style=\"text-align: right;\">\n",
       "      <th></th>\n",
       "      <th>#1</th>\n",
       "      <th>#2</th>\n",
       "    </tr>\n",
       "  </thead>\n",
       "  <tbody>\n",
       "    <tr>\n",
       "      <th>0</th>\n",
       "      <td>Persona 6</td>\n",
       "      <td>Persona 10</td>\n",
       "    </tr>\n",
       "    <tr>\n",
       "      <th>1</th>\n",
       "      <td>Persona 16</td>\n",
       "      <td>Persona 9</td>\n",
       "    </tr>\n",
       "    <tr>\n",
       "      <th>2</th>\n",
       "      <td>Persona 8</td>\n",
       "      <td>Persona 26</td>\n",
       "    </tr>\n",
       "    <tr>\n",
       "      <th>3</th>\n",
       "      <td>Persona 4</td>\n",
       "      <td>Persona 28</td>\n",
       "    </tr>\n",
       "    <tr>\n",
       "      <th>4</th>\n",
       "      <td>Persona 1</td>\n",
       "      <td>Persona 3</td>\n",
       "    </tr>\n",
       "    <tr>\n",
       "      <th>5</th>\n",
       "      <td>Persona 15</td>\n",
       "      <td>Persona 20</td>\n",
       "    </tr>\n",
       "    <tr>\n",
       "      <th>6</th>\n",
       "      <td>Persona 29</td>\n",
       "      <td>Persona 25</td>\n",
       "    </tr>\n",
       "    <tr>\n",
       "      <th>7</th>\n",
       "      <td>Persona 23</td>\n",
       "      <td>Persona 22</td>\n",
       "    </tr>\n",
       "    <tr>\n",
       "      <th>8</th>\n",
       "      <td>Persona 17</td>\n",
       "      <td>Persona 11</td>\n",
       "    </tr>\n",
       "    <tr>\n",
       "      <th>9</th>\n",
       "      <td>Persona 24</td>\n",
       "      <td>Persona 12</td>\n",
       "    </tr>\n",
       "    <tr>\n",
       "      <th>10</th>\n",
       "      <td>Persona 14</td>\n",
       "      <td>Persona 18</td>\n",
       "    </tr>\n",
       "    <tr>\n",
       "      <th>11</th>\n",
       "      <td>Persona 7</td>\n",
       "      <td>Persona 2</td>\n",
       "    </tr>\n",
       "    <tr>\n",
       "      <th>12</th>\n",
       "      <td>Persona 30</td>\n",
       "      <td>Persona 21</td>\n",
       "    </tr>\n",
       "    <tr>\n",
       "      <th>13</th>\n",
       "      <td>Persona 19</td>\n",
       "      <td>Persona 13</td>\n",
       "    </tr>\n",
       "    <tr>\n",
       "      <th>14</th>\n",
       "      <td>Persona 5</td>\n",
       "      <td>Persona 27</td>\n",
       "    </tr>\n",
       "  </tbody>\n",
       "</table>\n",
       "</div>"
      ],
      "text/plain": [
       "            #1          #2\n",
       "0    Persona 6  Persona 10\n",
       "1   Persona 16   Persona 9\n",
       "2    Persona 8  Persona 26\n",
       "3    Persona 4  Persona 28\n",
       "4    Persona 1   Persona 3\n",
       "5   Persona 15  Persona 20\n",
       "6   Persona 29  Persona 25\n",
       "7   Persona 23  Persona 22\n",
       "8   Persona 17  Persona 11\n",
       "9   Persona 24  Persona 12\n",
       "10  Persona 14  Persona 18\n",
       "11   Persona 7   Persona 2\n",
       "12  Persona 30  Persona 21\n",
       "13  Persona 19  Persona 13\n",
       "14   Persona 5  Persona 27"
      ]
     },
     "execution_count": 14,
     "metadata": {},
     "output_type": "execute_result"
    }
   ],
   "source": [
    "# Empatamos ambas listas en un DataFrame de pandas para conocer las parejas\n",
    "parejas = pd.DataFrame({'#1': lista_1, '#2': lista_2})\n",
    "parejas"
   ]
  },
  {
   "cell_type": "code",
   "execution_count": null,
   "metadata": {},
   "outputs": [],
   "source": []
  }
 ],
 "metadata": {
  "kernelspec": {
   "display_name": "Python 3",
   "language": "python",
   "name": "python3"
  },
  "language_info": {
   "codemirror_mode": {
    "name": "ipython",
    "version": 3
   },
   "file_extension": ".py",
   "mimetype": "text/x-python",
   "name": "python",
   "nbconvert_exporter": "python",
   "pygments_lexer": "ipython3",
   "version": "3.8.5"
  }
 },
 "nbformat": 4,
 "nbformat_minor": 4
}
