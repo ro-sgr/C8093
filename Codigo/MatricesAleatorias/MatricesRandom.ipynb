{
 "cells": [
  {
   "cell_type": "markdown",
   "metadata": {},
   "source": [
    "Este programa fue hecho usando numpy para generar matrices de tamaño aleatorio y números aleatorios.\n",
    "___"
   ]
  },
  {
   "cell_type": "code",
   "execution_count": 1,
   "metadata": {},
   "outputs": [],
   "source": [
    "import random\n",
    "import numpy as np"
   ]
  },
  {
   "cell_type": "code",
   "execution_count": 2,
   "metadata": {},
   "outputs": [],
   "source": [
    "a = random.randint(0,1000)\n",
    "b = random.randint(0,1000)"
   ]
  },
  {
   "cell_type": "code",
   "execution_count": 3,
   "metadata": {},
   "outputs": [
    {
     "name": "stdout",
     "output_type": "stream",
     "text": [
      "El valor de a es 262\n",
      "El valor de b es 30\n"
     ]
    }
   ],
   "source": [
    "print(\"El valor de a es \" + str(a))\n",
    "print(\"El valor de b es \" + str(b))"
   ]
  },
  {
   "cell_type": "code",
   "execution_count": 4,
   "metadata": {},
   "outputs": [],
   "source": [
    "M = np.random.rand(a,b)"
   ]
  },
  {
   "cell_type": "code",
   "execution_count": 5,
   "metadata": {},
   "outputs": [
    {
     "data": {
      "text/plain": [
       "(262, 30)"
      ]
     },
     "execution_count": 5,
     "metadata": {},
     "output_type": "execute_result"
    }
   ],
   "source": [
    "M.shape"
   ]
  },
  {
   "cell_type": "code",
   "execution_count": 6,
   "metadata": {},
   "outputs": [
    {
     "data": {
      "text/plain": [
       "array([[0.51387959, 0.15059412, 0.92016247, ..., 0.90531681, 0.84663346,\n",
       "        0.60830629],\n",
       "       [0.88377675, 0.83097989, 0.56153645, ..., 0.18720201, 0.05600799,\n",
       "        0.36548558],\n",
       "       [0.34740931, 0.18925817, 0.36661987, ..., 0.03529752, 0.07708696,\n",
       "        0.55410988],\n",
       "       ...,\n",
       "       [0.06294147, 0.35170215, 0.61359063, ..., 0.85630718, 0.77993552,\n",
       "        0.49747158],\n",
       "       [0.56818171, 0.19302283, 0.23376263, ..., 0.2415267 , 0.60601901,\n",
       "        0.00293289],\n",
       "       [0.01272971, 0.35567938, 0.67583022, ..., 0.28303395, 0.67636077,\n",
       "        0.26143966]])"
      ]
     },
     "execution_count": 6,
     "metadata": {},
     "output_type": "execute_result"
    }
   ],
   "source": [
    "M"
   ]
  },
  {
   "cell_type": "code",
   "execution_count": null,
   "metadata": {},
   "outputs": [],
   "source": []
  }
 ],
 "metadata": {
  "kernelspec": {
   "display_name": "Python 3",
   "language": "python",
   "name": "python3"
  },
  "language_info": {
   "codemirror_mode": {
    "name": "ipython",
    "version": 3
   },
   "file_extension": ".py",
   "mimetype": "text/x-python",
   "name": "python",
   "nbconvert_exporter": "python",
   "pygments_lexer": "ipython3",
   "version": "3.8.5"
  }
 },
 "nbformat": 4,
 "nbformat_minor": 4
}
