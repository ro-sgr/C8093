{
 "cells": [
  {
   "cell_type": "markdown",
   "metadata": {},
   "source": [
    "# Práctica 1\n",
    "Esta práctica es para que empiezes a familiarizarte con algunos de los comandos de Bash y su sintaxis además de que aprendas a utilizar los cuadernos (notebook) de Jupyter.\n",
    "\n",
    "Tendrás que abrir tu Jupyterlab y en un cuaderno de Bash realizarás lo siguiente. Si tienes que colocar una respuesta hazlo en una celda 'Markdown' y no de código."
   ]
  },
  {
   "cell_type": "markdown",
   "metadata": {},
   "source": [
    "### Fechas y calendario"
   ]
  },
  {
   "cell_type": "markdown",
   "metadata": {},
   "source": [
    "- Escribe el comando *whoaim* y el comando date, cada uno en una celda diferente y ejecútalos.\n"
   ]
  },
  {
   "cell_type": "code",
   "execution_count": 1,
   "metadata": {},
   "outputs": [
    {
     "name": "stdout",
     "output_type": "stream",
     "text": [
      "ro_sgr\n"
     ]
    }
   ],
   "source": [
    "%%bash\n",
    "whoami"
   ]
  },
  {
   "cell_type": "code",
   "execution_count": 2,
   "metadata": {},
   "outputs": [
    {
     "name": "stdout",
     "output_type": "stream",
     "text": [
      "Sat Oct 17 01:28:00 CDT 2020\n"
     ]
    }
   ],
   "source": [
    "%%bash\n",
    "date"
   ]
  },
  {
   "cell_type": "markdown",
   "metadata": {},
   "source": [
    "- En la fecha que despliega el comando aparece CDT o UTC. ¿Qué significa cada una de ellas? "
   ]
  },
  {
   "cell_type": "markdown",
   "metadata": {},
   "source": [
    "<strong style=\"color:#FF0000\">Respuesta:</strong><br>\n",
    "<strong>CDT</strong> significa \"Coordinated Universal\"<br>\n",
    "<strong>UTC</strong> significa \"Universal Time Coordinated\"<br>"
   ]
  },
  {
   "cell_type": "markdown",
   "metadata": {},
   "source": [
    "Como viste en clase los comandos de linux pueden estar acompañados de opciones con distintas finalidades. Vamos a ver algunos de ellos a continuación"
   ]
  },
  {
   "cell_type": "markdown",
   "metadata": {},
   "source": [
    "- Ingresa de manera correcta día el 25 de Febrero de 1911 fecha de nacimiento de Carlos Graef. ¿En qué día de la semana cayo esa fecha?"
   ]
  },
  {
   "cell_type": "code",
   "execution_count": 3,
   "metadata": {},
   "outputs": [
    {
     "name": "stdout",
     "output_type": "stream",
     "text": [
      "   February 1991      \n",
      "Su Mo Tu We Th Fr Sa  \n",
      "                1  2  \n",
      " 3  4  5  6  7  8  9  \n",
      "10 11 12 13 14 15 16  \n",
      "17 18 19 20 21 22 23  \n",
      "24 25 26 27 28        \n",
      "                      \n"
     ]
    }
   ],
   "source": [
    "%%bash\n",
    "cal 2 1991"
   ]
  },
  {
   "cell_type": "markdown",
   "metadata": {},
   "source": [
    "<strong style=\"color:#FF0000\">Respuesta:</strong>\n",
    "<br>\n",
    "Carlos Graef nació un lunes"
   ]
  },
  {
   "cell_type": "markdown",
   "metadata": {},
   "source": [
    "- Si contamos los días como números naturales desde  el primer día del mes, i.e. el 1 de Febrero corresponde al día 32 mientras que el 31 de diciembre corresponde al 365 (en un año bisiesto). Por lo tanto usa el comando *cal* para encontrar a que día natural del año corresponde la fecha en que nació Alberto Barajas (17 de Julio de 1913) ¿Qué día de la semana fue?"
   ]
  },
  {
   "cell_type": "code",
   "execution_count": 4,
   "metadata": {},
   "outputs": [
    {
     "name": "stdout",
     "output_type": "stream",
     "text": [
      "     July 1913        \n",
      "Su Mo Tu We Th Fr Sa  \n",
      "       1  2  3  4  5  \n",
      " 6  7  8  9 10 11 12  \n",
      "13 14 15 16 17 18 19  \n",
      "20 21 22 23 24 25 26  \n",
      "27 28 29 30 31        \n",
      "                      \n"
     ]
    }
   ],
   "source": [
    "%%bash\n",
    "cal 7 1913"
   ]
  },
  {
   "cell_type": "code",
   "execution_count": 5,
   "metadata": {},
   "outputs": [
    {
     "name": "stdout",
     "output_type": "stream",
     "text": [
      "                         1913\n",
      "          January                     February            \n",
      " Su  Mo  Tu  We  Th  Fr  Sa   Su  Mo  Tu  We  Th  Fr  Sa  \n",
      "              1   2   3   4                           32  \n",
      "  5   6   7   8   9  10  11   33  34  35  36  37  38  39  \n",
      " 12  13  14  15  16  17  18   40  41  42  43  44  45  46  \n",
      " 19  20  21  22  23  24  25   47  48  49  50  51  52  53  \n",
      " 26  27  28  29  30  31       54  55  56  57  58  59      \n",
      "                                                          \n",
      "\n",
      "           March                        April             \n",
      " Su  Mo  Tu  We  Th  Fr  Sa   Su  Mo  Tu  We  Th  Fr  Sa  \n",
      "                         60           91  92  93  94  95  \n",
      " 61  62  63  64  65  66  67   96  97  98  99 100 101 102  \n",
      " 68  69  70  71  72  73  74  103 104 105 106 107 108 109  \n",
      " 75  76  77  78  79  80  81  110 111 112 113 114 115 116  \n",
      " 82  83  84  85  86  87  88  117 118 119 120              \n",
      " 89  90                                                   \n",
      "\n",
      "            May                         June              \n",
      " Su  Mo  Tu  We  Th  Fr  Sa   Su  Mo  Tu  We  Th  Fr  Sa  \n",
      "                121 122 123  152 153 154 155 156 157 158  \n",
      "124 125 126 127 128 129 130  159 160 161 162 163 164 165  \n",
      "131 132 133 134 135 136 137  166 167 168 169 170 171 172  \n",
      "138 139 140 141 142 143 144  173 174 175 176 177 178 179  \n",
      "145 146 147 148 149 150 151  180 181                      \n",
      "                                                          \n",
      "\n",
      "           July                        August             \n",
      " Su  Mo  Tu  We  Th  Fr  Sa   Su  Mo  Tu  We  Th  Fr  Sa  \n",
      "        182 183 184 185 186                      213 214  \n",
      "187 188 189 190 191 192 193  215 216 217 218 219 220 221  \n",
      "194 195 196 197 198 199 200  222 223 224 225 226 227 228  \n",
      "201 202 203 204 205 206 207  229 230 231 232 233 234 235  \n",
      "208 209 210 211 212          236 237 238 239 240 241 242  \n",
      "                             243                          \n",
      "\n",
      "         September                     October            \n",
      " Su  Mo  Tu  We  Th  Fr  Sa   Su  Mo  Tu  We  Th  Fr  Sa  \n",
      "    244 245 246 247 248 249              274 275 276 277  \n",
      "250 251 252 253 254 255 256  278 279 280 281 282 283 284  \n",
      "257 258 259 260 261 262 263  285 286 287 288 289 290 291  \n",
      "264 265 266 267 268 269 270  292 293 294 295 296 297 298  \n",
      "271 272 273                  299 300 301 302 303 304      \n",
      "                                                          \n",
      "\n",
      "         November                     December            \n",
      " Su  Mo  Tu  We  Th  Fr  Sa   Su  Mo  Tu  We  Th  Fr  Sa  \n",
      "                        305      335 336 337 338 339 340  \n",
      "306 307 308 309 310 311 312  341 342 343 344 345 346 347  \n",
      "313 314 315 316 317 318 319  348 349 350 351 352 353 354  \n",
      "320 321 322 323 324 325 326  355 356 357 358 359 360 361  \n",
      "327 328 329 330 331 332 333  362 363 364 365              \n",
      "334                                                       \n"
     ]
    }
   ],
   "source": [
    "%%bash\n",
    "cal -j 1913"
   ]
  },
  {
   "cell_type": "markdown",
   "metadata": {},
   "source": [
    "<strong style=\"color:#FF0000\">Respuesta:</strong>\n",
    "<br>\n",
    "Alberto Barajas nació un jueves, en el día natural 198 de 1913."
   ]
  },
  {
   "cell_type": "markdown",
   "metadata": {},
   "source": [
    "- Dejando de lado las fechas, el comando uname te muestra información del sistema. Ejecuta *uname -a* y podrás ver toda la información del kernel, procesador, SO del sistema, etc. De acuerdo con la información mostrada ¿cuál es tu versión del kernel?"
   ]
  },
  {
   "cell_type": "code",
   "execution_count": 6,
   "metadata": {},
   "outputs": [
    {
     "name": "stdout",
     "output_type": "stream",
     "text": [
      "Linux LAPTOP-9IA0RDDL 4.4.0-19041-Microsoft #488-Microsoft Mon Sep 01 13:43:00 PST 2020 x86_64 x86_64 x86_64 GNU/Linux\n"
     ]
    }
   ],
   "source": [
    "%%bash\n",
    "uname -a"
   ]
  },
  {
   "cell_type": "markdown",
   "metadata": {},
   "source": [
    "<strong style=\"color:#FF0000\">Respuesta:</strong>\n",
    "<br>\n",
    "Mi versión de kernel es 4.4.0-19041-Microsoft"
   ]
  },
  {
   "cell_type": "markdown",
   "metadata": {},
   "source": [
    "### Manejo e información de directorios y archivos"
   ]
  },
  {
   "cell_type": "markdown",
   "metadata": {},
   "source": [
    "- Lo primero que vas a hacer ejecutar el comando pwd para ver en que directorio te encuentras. Cada paso debe de estar indicado en un celda de notebook.\n"
   ]
  },
  {
   "cell_type": "code",
   "execution_count": 7,
   "metadata": {},
   "outputs": [
    {
     "name": "stdout",
     "output_type": "stream",
     "text": [
      "/mnt/c/Users/rodri/Google Drive/Classroom/Computacion 2020-1 Grupo 8093 (Sergio AlcalÃ¡)/crispy-eureka/Practicas\n"
     ]
    }
   ],
   "source": [
    "%%bash\n",
    "pwd"
   ]
  },
  {
   "cell_type": "markdown",
   "metadata": {},
   "source": [
    "- Lo siguiente que harás es crear un directorio nuevo con tu nombre y apellido sin espacios, acentos o carácteres especiales como la ñ, por ejemplo **Sergio**. "
   ]
  },
  {
   "cell_type": "code",
   "execution_count": 8,
   "metadata": {},
   "outputs": [],
   "source": [
    "%%bash\n",
    "mkdir RodrigoSeguraMoreno"
   ]
  },
  {
   "cell_type": "markdown",
   "metadata": {},
   "source": [
    "- Dentro de este directorio crearás otros dos cada uno con tu apellido respetando la regla de no llevar acentos, ni carácteres especiales. "
   ]
  },
  {
   "cell_type": "code",
   "execution_count": 9,
   "metadata": {},
   "outputs": [],
   "source": [
    "%%bash\n",
    "cd RodrigoSeguraMoreno\n",
    "mkdir Segura\n",
    "mkdir Moreno"
   ]
  },
  {
   "cell_type": "markdown",
   "metadata": {},
   "source": [
    "- Después dentro de cada directorio vas a crear un archivo con el comando *touch*.\n",
    "- Aquí es a tu elección el nombre del archivo, sin embargo uno de ellos debe de comenzar con un punto '.'"
   ]
  },
  {
   "cell_type": "code",
   "execution_count": 10,
   "metadata": {},
   "outputs": [],
   "source": [
    "%%bash\n",
    "cd RodrigoSeguraMoreno/Segura\n",
    "touch .test"
   ]
  },
  {
   "cell_type": "code",
   "execution_count": 11,
   "metadata": {},
   "outputs": [],
   "source": [
    "%%bash\n",
    "cd RodrigoSeguraMoreno/Moreno\n",
    "touch test"
   ]
  },
  {
   "cell_type": "markdown",
   "metadata": {},
   "source": [
    "- ¿Que pása si ejecutas *cd ~*?"
   ]
  },
  {
   "cell_type": "code",
   "execution_count": 14,
   "metadata": {},
   "outputs": [
    {
     "name": "stdout",
     "output_type": "stream",
     "text": [
      "/home/ro_sgr\n"
     ]
    }
   ],
   "source": [
    "%%bash\n",
    "cd ~\n",
    "pwd"
   ]
  },
  {
   "cell_type": "markdown",
   "metadata": {},
   "source": [
    "<strong style=\"color:#FF0000\">Respuesta:</strong>\n",
    "<br>\n",
    "Cambia el directorio al directorio home"
   ]
  },
  {
   "cell_type": "markdown",
   "metadata": {},
   "source": [
    "- Dentro de la carpeta con tu nombre ejecuta el comando *ls -R*."
   ]
  },
  {
   "cell_type": "code",
   "execution_count": 18,
   "metadata": {},
   "outputs": [
    {
     "name": "stdout",
     "output_type": "stream",
     "text": [
      ".:\n",
      "P1.ipynb\n",
      "RodrigoSeguraMoreno\n",
      "\n",
      "./RodrigoSeguraMoreno:\n",
      "Moreno\n",
      "Segura\n",
      "\n",
      "./RodrigoSeguraMoreno/Moreno:\n",
      "test\n",
      "\n",
      "./RodrigoSeguraMoreno/Segura:\n"
     ]
    },
    {
     "name": "stderr",
     "output_type": "stream",
     "text": [
      "/bin/bash: line 1: cd: /RodrigoSeguraMoreno: No such file or directory\n"
     ]
    }
   ],
   "source": [
    "%%bash\n",
    "cd /RodrigoSeguraMoreno\n",
    "ls -R"
   ]
  },
  {
   "cell_type": "markdown",
   "metadata": {},
   "source": [
    "- ¿Qué sucedió con el archivo que nombraste con un punto'.' inicial?"
   ]
  },
  {
   "cell_type": "markdown",
   "metadata": {},
   "source": [
    "No fue creado. Esto se debe a que \"touch .\" únicamente actualiza los \"timestaps\" de un archivo ya creado"
   ]
  },
  {
   "cell_type": "markdown",
   "metadata": {},
   "source": [
    "- ¿Qué opción deberías usar para ver el archivo que nombraste con '.' inicial?"
   ]
  },
  {
   "cell_type": "markdown",
   "metadata": {},
   "source": [
    "Primeramente debería de crear algún archivo, por ejemplo: <strong>touch prueba</strong>. Posteriormente podríamos correr <strong>touch .prueba</strong> y ver la modificación en el archivo."
   ]
  }
 ],
 "metadata": {
  "kernelspec": {
   "display_name": "Python 3",
   "language": "python",
   "name": "python3"
  },
  "language_info": {
   "codemirror_mode": {
    "name": "ipython",
    "version": 3
   },
   "file_extension": ".py",
   "mimetype": "text/x-python",
   "name": "python",
   "nbconvert_exporter": "python",
   "pygments_lexer": "ipython3",
   "version": "3.7.6"
  }
 },
 "nbformat": 4,
 "nbformat_minor": 4
}
