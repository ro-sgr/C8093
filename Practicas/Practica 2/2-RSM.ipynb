{
 "cells": [
  {
   "cell_type": "markdown",
   "metadata": {},
   "source": [
    "# COMPUTACIÓN\n",
    "## Práctica 2\n",
    "### Rodrigo Segura Moreno\n",
    "_____"
   ]
  },
  {
   "cell_type": "markdown",
   "metadata": {},
   "source": [
    "Descomprimimos la base de datos:"
   ]
  },
  {
   "cell_type": "code",
   "execution_count": 1,
   "metadata": {},
   "outputs": [
    {
     "name": "stdout",
     "output_type": "stream",
     "text": [
      "\n"
     ]
    }
   ],
   "source": [
    "tar -xzf base.tar.gz"
   ]
  },
  {
   "cell_type": "markdown",
   "metadata": {},
   "source": [
    "Creamos un directorio llamado __Resultados__"
   ]
  },
  {
   "cell_type": "code",
   "execution_count": 2,
   "metadata": {},
   "outputs": [
    {
     "name": "stdout",
     "output_type": "stream",
     "text": [
      "\n"
     ]
    }
   ],
   "source": [
    "mkdir Resultado"
   ]
  },
  {
   "cell_type": "markdown",
   "metadata": {},
   "source": [
    "___\n",
    "## cat,  head, tail"
   ]
  },
  {
   "cell_type": "markdown",
   "metadata": {},
   "source": [
    "__1.__ Copia el archivo (utilizando comandos de bash) que se encuentra en `directorio/TLALPAN/sectorH/names_2009-08-30.txt` a la carpeta `Resultado`.  \n",
    "\n",
    "Ahora colócate en el directorio `Resultado` y ejecuta los siguientes comandos, para responder a las siguientes preguntas:  \n",
    "    "
   ]
  },
  {
   "cell_type": "code",
   "execution_count": 3,
   "metadata": {},
   "outputs": [
    {
     "name": "stdout",
     "output_type": "stream",
     "text": [
      "bash: Resultados/names_2009-08-30.txt: No such file or directory\n",
      "\n"
     ]
    }
   ],
   "source": [
    "cat directorio/TLALPAN/sectorH/names_2009-08-30.txt > Resultados/names_2009-08-30.txt"
   ]
  },
  {
   "cell_type": "markdown",
   "metadata": {},
   "source": [
    "___\n",
    "__2.__ ¿Cuál es el resultado de ejecutar los siguientes comandos en la terminal? \n",
    "\n",
    "    a) `cat < names_2009-08-30.txt > names_cat.txt`\n",
    "    \n",
    "    b) `cat < names_2009-08-30.txt >> names_cat.txt`"
   ]
  },
  {
   "cell_type": "code",
   "execution_count": 4,
   "metadata": {},
   "outputs": [
    {
     "name": "stdout",
     "output_type": "stream",
     "text": [
      "/home/jovyan/SistemaOperativo_LINUX/Practica_2\n",
      "\n"
     ]
    }
   ],
   "source": [
    "pwd\n",
    "cd Resultado"
   ]
  },
  {
   "cell_type": "markdown",
   "metadata": {},
   "source": [
    "    a) El comando siguiente copia la información del archivo *names_2009-08-30.txt* a un nuevo documento *names_cat.txt*"
   ]
  },
  {
   "cell_type": "code",
   "execution_count": 5,
   "metadata": {},
   "outputs": [
    {
     "name": "stdout",
     "output_type": "stream",
     "text": [
      "bash: names_2009-08-30.txt: No such file or directory\n",
      "\n"
     ]
    }
   ],
   "source": [
    "cat < names_2009-08-30.txt > names_cat.txt"
   ]
  },
  {
   "cell_type": "markdown",
   "metadata": {},
   "source": [
    "    b) El comando siguiente concatena la información del archivo *names_2009-08-30.txt* a al archivo *names_cat.txt*"
   ]
  },
  {
   "cell_type": "code",
   "execution_count": 6,
   "metadata": {},
   "outputs": [
    {
     "name": "stdout",
     "output_type": "stream",
     "text": [
      "bash: names_2009-08-30.txt: No such file or directory\n",
      "\n"
     ]
    }
   ],
   "source": [
    "cat < names_2009-08-30.txt >> names_cat.txt"
   ]
  },
  {
   "cell_type": "markdown",
   "metadata": {},
   "source": [
    "___\n",
    "__3.__ ¿Cuál es la diferencia entre ambos? Explícalo con tus propias palabras. "
   ]
  },
  {
   "cell_type": "markdown",
   "metadata": {},
   "source": [
    "La diferencia entre el comando \"__cat__  _archivo1_ >  _archivo2_\" y el comando \"__cat__  _archivo1_ >>  _archivo2_\" radica en que, el primer comando copia la información del _archivo1_ al _archivo2_ sobreescribiendo lo que sea que este en el _archivo2_. El segundo comando concatena la información de _archivo1_ al final del _archivo2_."
   ]
  },
  {
   "cell_type": "markdown",
   "metadata": {},
   "source": [
    "___\n",
    "__4.__ ¿Cuál es la diferencia entre estos comandos?\n",
    " \n",
    "    a) `cat names.txt 2> err.dat`\n",
    "    \n",
    "    b) `cata names.txt 2> err.dat`\n",
    "    "
   ]
  },
  {
   "cell_type": "markdown",
   "metadata": {},
   "source": [
    "__La__ diferencia entre el comando __a)__ y el comando __b)__ es que, el comando __cat__ si existe y el comando __cata__ no es un comando existente (al menos no lo es en Binder)"
   ]
  },
  {
   "cell_type": "markdown",
   "metadata": {},
   "source": [
    "___\n",
    "__5.__ Por último ejecuta: `cat > feliz` enseguida escribe algo y luego ejecuta `Ctrl+D` dos veces. ¿qué fue lo que sucedio?"
   ]
  },
  {
   "cell_type": "markdown",
   "metadata": {},
   "source": [
    "Se genera un archivo __feliz__ dentro de la carpeta de _Resultados_ el cual contiene el texto que introdujimos."
   ]
  },
  {
   "cell_type": "markdown",
   "metadata": {},
   "source": [
    "___\n",
    "__6.__ ¿Existe algúna forma, con los comandos de bash, de mostrar el archivo de forma inversa? En caso de existir, utilízalo para ver el archivo `directorio/COYOACAN/sectorG/names_2005-09-27.dat` y guarda la salida en el archivo `catinverso.dat` "
   ]
  },
  {
   "cell_type": "markdown",
   "metadata": {},
   "source": [
    "Sí, la forma más sencilla es usando el comando __tac__."
   ]
  },
  {
   "cell_type": "code",
   "execution_count": 7,
   "metadata": {},
   "outputs": [
    {
     "name": "stdout",
     "output_type": "stream",
     "text": [
      "\n"
     ]
    }
   ],
   "source": [
    "tac ../directorio/COYOACAN/sectorG/names_2005-09-27.dat > catinverso.dat"
   ]
  },
  {
   "cell_type": "code",
   "execution_count": 8,
   "metadata": {},
   "outputs": [
    {
     "name": "stdout",
     "output_type": "stream",
     "text": [
      "\n",
      "Lopez Martin\t5270565437\n",
      "\n",
      "Penilla Emmanuel\t5990448441\n",
      "\n",
      "Catalan Martha Mariana\t5274177518\n",
      "\n",
      "Arredondo Jorge Alberto\t5944048778\n",
      "\n",
      "Galindo Rodrigo\t5292735418\n",
      "\n"
     ]
    }
   ],
   "source": [
    "head catinverso.dat"
   ]
  },
  {
   "cell_type": "markdown",
   "metadata": {},
   "source": [
    "___\n",
    "__7.__ Crea un solo archivo con el nombre _todosarchivos.txt_ que tenga el contenido de todos los archivos del directorio `directorio/CUAUHTEMOC/sectorE/` "
   ]
  },
  {
   "cell_type": "code",
   "execution_count": 9,
   "metadata": {},
   "outputs": [
    {
     "name": "stdout",
     "output_type": "stream",
     "text": [
      "\n"
     ]
    }
   ],
   "source": [
    "cat ../directorio/CUAUHTEMOC/sectorE/* >> todosarchivos.txt"
   ]
  },
  {
   "cell_type": "markdown",
   "metadata": {},
   "source": [
    "Fácilmente podemos corroborar si lo que se hizo fue correcto dirigiéndonos a la ruta `directorio/CUAUHTEMOC/sectorE/` y se verifican las primeras líneas de primer archivo y las últimas líneas del último archivo. Una vez hecho esto podemos hacer lo mismo para el archivo `Resultados/todosarchivos.txt` y corroborar si el procedimiento se hizo correctamente."
   ]
  },
  {
   "cell_type": "markdown",
   "metadata": {},
   "source": [
    "Primeras líneas del primer archivo en `directorio/CUAUHTEMOC/sectorE/`"
   ]
  },
  {
   "cell_type": "code",
   "execution_count": 10,
   "metadata": {},
   "outputs": [
    {
     "name": "stdout",
     "output_type": "stream",
     "text": [
      "Razo Pedro\t5078328708\n",
      "\n",
      "Zavala Oscar Enrique\t5349803565\n",
      "\n",
      "Arevalo Anabel\t5098283547\n",
      "\n",
      "Castillo Regina\t5585642291\n",
      "\n",
      "Muñoz Alexia\t5670317235\n",
      "\n",
      "\n"
     ]
    }
   ],
   "source": [
    "head ../directorio/CUAUHTEMOC/sectorE/names_2001-01-14.dat"
   ]
  },
  {
   "cell_type": "markdown",
   "metadata": {},
   "source": [
    "Últimas líneas del último archivo en `directorio/CUAUHTEMOC/sectorE/`"
   ]
  },
  {
   "cell_type": "code",
   "execution_count": 11,
   "metadata": {},
   "outputs": [
    {
     "name": "stdout",
     "output_type": "stream",
     "text": [
      "Prieto Ariana Joselyn\t5503241630\n",
      "\n",
      "Hernández Melanie Daniela\t5640530039\n",
      "\n",
      "Benitez Leonardo\t5188101544\n",
      "\n",
      "Torres Karla Mariell\t5267975011\n",
      "\n",
      "Solís Oscar Eduardo\t5808633499\n",
      "\n",
      "\n"
     ]
    }
   ],
   "source": [
    "tail ../directorio/CUAUHTEMOC/sectorE/names_2020-10-17.dat"
   ]
  },
  {
   "cell_type": "markdown",
   "metadata": {},
   "source": [
    "Primeras líneas del archivo `Resultados/todosarchivos.txt`"
   ]
  },
  {
   "cell_type": "code",
   "execution_count": 12,
   "metadata": {},
   "outputs": [
    {
     "name": "stdout",
     "output_type": "stream",
     "text": [
      "Razo Pedro\t5078328708\n",
      "\n",
      "Zavala Oscar Enrique\t5349803565\n",
      "\n",
      "Arevalo Anabel\t5098283547\n",
      "\n",
      "Castillo Regina\t5585642291\n",
      "\n",
      "Muñoz Alexia\t5670317235\n",
      "\n",
      "\n"
     ]
    }
   ],
   "source": [
    "head todosarchivos.txt"
   ]
  },
  {
   "cell_type": "code",
   "execution_count": 13,
   "metadata": {},
   "outputs": [
    {
     "name": "stdout",
     "output_type": "stream",
     "text": [
      "Prieto Ariana Joselyn\t5503241630\n",
      "\n",
      "Hernández Melanie Daniela\t5640530039\n",
      "\n",
      "Benitez Leonardo\t5188101544\n",
      "\n",
      "Torres Karla Mariell\t5267975011\n",
      "\n",
      "Solís Oscar Eduardo\t5808633499\n",
      "\n",
      "\n"
     ]
    }
   ],
   "source": [
    "tail todosarchivos.txt"
   ]
  },
  {
   "cell_type": "markdown",
   "metadata": {},
   "source": [
    "Así pues, podemos notar que las líneas coinciden. Podemos entonces asumir que el procedimiento fue el correcto."
   ]
  },
  {
   "cell_type": "markdown",
   "metadata": {},
   "source": [
    "___\n",
    "__8.__ Coloca en un archivo con el nombre `colacabeza` las primeras 23 líneas numeradas y las últimas 32 líneas numeradas del archivo `todosarchivos.txt`\n",
    "\n",
    "*Opcional*: Numera las líneas.  Genera un archivo donde se indiquen con numeros las líneas de este archivo."
   ]
  },
  {
   "cell_type": "markdown",
   "metadata": {},
   "source": [
    "Primeramente, se enumerará todo el archivo `todosarchivos.txt` y generaremos un archivo `borrrame.txt` con esa información. Posteriormente vamos a sobreescribir la información en `colacabeza.txt` con sus primeras 23 líneas y sus últimas 32."
   ]
  },
  {
   "cell_type": "code",
   "execution_count": 14,
   "metadata": {},
   "outputs": [
    {
     "name": "stdout",
     "output_type": "stream",
     "text": [
      "800 todosarchivos.txt\n",
      "\n"
     ]
    }
   ],
   "source": [
    "# Tenemos que saber cuántas líneas hay en el archivo para proceder\n",
    "wc -l  todosarchivos.txt"
   ]
  },
  {
   "cell_type": "code",
   "execution_count": 15,
   "metadata": {},
   "outputs": [
    {
     "name": "stdout",
     "output_type": "stream",
     "text": [
      "\n"
     ]
    }
   ],
   "source": [
    "head -800 todosarchivos.txt | nl -b a > borrame.txt"
   ]
  },
  {
   "cell_type": "code",
   "execution_count": 16,
   "metadata": {},
   "outputs": [
    {
     "name": "stdout",
     "output_type": "stream",
     "text": [
      "\n"
     ]
    }
   ],
   "source": [
    "head -24 borrame.txt > colacabeza.txt # Contamos 24 para poder añadir una línea en blanco como un \"espacio\"\n",
    "tail -32 borrame.txt >> colacabeza.txt"
   ]
  },
  {
   "cell_type": "code",
   "execution_count": 17,
   "metadata": {},
   "outputs": [
    {
     "name": "stdout",
     "output_type": "stream",
     "text": [
      "\n"
     ]
    }
   ],
   "source": [
    "# Se elimina borrame.txt, ya no es necesario\n",
    "rm borrame.txt"
   ]
  },
  {
   "cell_type": "code",
   "execution_count": 18,
   "metadata": {},
   "outputs": [
    {
     "name": "stdout",
     "output_type": "stream",
     "text": [
      "     1\tRazo Pedro\t5078328708\n",
      "     2\t\n",
      "     3\tZavala Oscar Enrique\t5349803565\n",
      "     4\t\n",
      "     5\tArevalo Anabel\t5098283547\n",
      "     6\t\n",
      "     7\tCastillo Regina\t5585642291\n",
      "     8\t\n",
      "     9\tMuñoz Alexia\t5670317235\n",
      "    10\t\n",
      "    11\tMolina Montserrat\t5506646832\n",
      "    12\t\n",
      "    13\tParedes Jose Manuel\t5683845245\n",
      "    14\t\n",
      "    15\tMeza Jovanna Sofia\t5197111714\n",
      "    16\t\n",
      "    17\tHernandez Ana Karen\t5000717497\n",
      "    18\t\n",
      "    19\tCejudo Elsy Daniela\t5571564174\n",
      "    20\t\n",
      "    21\tSarabia Ana Ximena\t5563916832\n",
      "    22\t\n",
      "    23\tCerezo Santiago Miguel\t5018574468\n",
      "    24\t\n",
      "   769\tMaya Ximena Itzel\t5187140592\n",
      "   770\t\n",
      "   771\tCazares Heriberto\t5591260956\n",
      "   772\t\n",
      "   773\tSaldaña Katia Mariana\t5297695281\n",
      "   774\t\n",
      "   775\tBalandra Mabel\t5346871896\n",
      "   776\t\n",
      "   777\tAguilar Maria Fernanda\t5620980938\n",
      "   778\t\n",
      "   779\tCazares Ximena\t5031790603\n",
      "   780\t\n",
      "   781\tNieto Oscar Enrique\t5529321728\n",
      "   782\t\n",
      "   783\tRuiz Alexis\t5330479468\n",
      "   784\t\n",
      "   785\tSerrano Luis Fernando\t5429722585\n",
      "   786\t\n",
      "   787\tAvila Monserrat\t5896435866\n",
      "   788\t\n",
      "   789\tRamos Martha\t5849299706\n",
      "   790\t\n",
      "   791\tPrieto Ariana Joselyn\t5503241630\n",
      "   792\t\n",
      "   793\tHernández Melanie Daniela\t5640530039\n",
      "   794\t\n",
      "   795\tBenitez Leonardo\t5188101544\n",
      "   796\t\n",
      "   797\tTorres Karla Mariell\t5267975011\n",
      "   798\t\n",
      "   799\tSolís Oscar Eduardo\t5808633499\n",
      "   800\t\n",
      "\n"
     ]
    }
   ],
   "source": [
    "# Se muestra el archivo colacabeza.txt\n",
    "cat colacabeza.txt"
   ]
  },
  {
   "cell_type": "markdown",
   "metadata": {},
   "source": [
    "___\n",
    "## Permisos"
   ]
  },
  {
   "cell_type": "markdown",
   "metadata": {},
   "source": [
    "__9.__ Explica que hace el comando `umask` y pon un ejemplo de su uso. "
   ]
  },
  {
   "cell_type": "code",
   "execution_count": 19,
   "metadata": {},
   "outputs": [
    {
     "name": "stdout",
     "output_type": "stream",
     "text": [
      "umask: umask [-p] [-S] [mode]\n",
      "    Display or set file mode mask.\n",
      "    \n",
      "    Sets the user file-creation mask to MODE.  If MODE is omitted, prints\n",
      "    the current value of the mask.\n",
      "    \n",
      "    If MODE begins with a digit, it is interpreted as an octal number;\n",
      "    otherwise it is a symbolic mode string like that accepted by chmod(1).\n",
      "    \n",
      "    Options:\n",
      "      -p\tif MODE is omitted, output in a form that may be reused as input\n",
      "      -S\tmakes the output symbolic; otherwise an octal number is output\n",
      "    \n",
      "    Exit Status:\n",
      "    Returns success unless MODE is invalid or an invalid option is given.\n",
      "\n"
     ]
    }
   ],
   "source": [
    "umask --help"
   ]
  },
  {
   "cell_type": "markdown",
   "metadata": {},
   "source": [
    "Como sugiere la ayuda de dicho comando, `umask` asinga permisos de archivo predeterminados para carpetas y archivos recién creados."
   ]
  },
  {
   "cell_type": "markdown",
   "metadata": {},
   "source": [
    "___\n",
    "__10.__ Copia la carpeta `CUAUHTEMOC` dentro de `Resultados/` y cambia los permisos de todos los archivos de la siguiente manera sólo lectura y escritura para el dueño, sólo ejecución para el grupo y sólo lectura para los demás."
   ]
  },
  {
   "cell_type": "code",
   "execution_count": 20,
   "metadata": {},
   "outputs": [
    {
     "name": "stdout",
     "output_type": "stream",
     "text": [
      "\n"
     ]
    }
   ],
   "source": [
    "# Creamos el directorio\n",
    "mkdir -p CUAUHTEMOC\n",
    "# Generamos la copia dentro del directorio\n",
    "cp -R ../directorio/CUAUHTEMOC/* CUAUHTEMOC/"
   ]
  },
  {
   "cell_type": "code",
   "execution_count": 21,
   "metadata": {},
   "outputs": [
    {
     "name": "stdout",
     "output_type": "stream",
     "text": [
      "\n"
     ]
    }
   ],
   "source": [
    "# Quitamos todos los permisos a todos para asegurarnos para que al asignar permisos sean exactamento los que queremos\n",
    "chmod a-rwx CUAUHTEMOC/*/*"
   ]
  },
  {
   "cell_type": "code",
   "execution_count": 22,
   "metadata": {},
   "outputs": [
    {
     "name": "stdout",
     "output_type": "stream",
     "text": [
      "\n"
     ]
    }
   ],
   "source": [
    "# Asignamos los permisos correspondientes\n",
    "chmod u+rw CUAUHTEMOC/*/*\n",
    "chmod g+x CUAUHTEMOC/*/*\n",
    "chmod o+r CUAUHTEMOC/*/*"
   ]
  },
  {
   "cell_type": "markdown",
   "metadata": {},
   "source": [
    "Revisaremos los permisos de los primeros y los últimos archivos de la carpeta para corroborar que sí se le asignaron los permisos de forma correcta."
   ]
  },
  {
   "cell_type": "code",
   "execution_count": 23,
   "metadata": {},
   "outputs": [
    {
     "name": "stdout",
     "output_type": "stream",
     "text": [
      "CUAUHTEMOC/sectorA:\n",
      "total 80\n",
      "-rw---xr-- 1 jovyan root 618 Nov  7 06:37 names_2000-07-13.txt\n",
      "-rw---xr-- 1 jovyan root 627 Nov  7 06:37 names_2001-04-24.txt\n",
      "-rw---xr-- 1 jovyan root 634 Nov  7 06:37 names_2002-12-26.dat\n",
      "-rw---xr-- 1 jovyan root 583 Nov  7 06:37 names_2004-01-19.dat\n",
      "-rw---xr-- 1 jovyan root 671 Nov  7 06:37 names_2006-03-04.dat\n",
      "-rw---xr-- 1 jovyan root 617 Nov  7 06:37 names_2006-06-28.dat\n",
      "-rw---xr-- 1 jovyan root 589 Nov  7 06:37 names_2006-07-15.txt\n",
      "-rw---xr-- 1 jovyan root 613 Nov  7 06:37 names_2006-08-22.txt\n",
      "ls: write error: Broken pipe\n",
      "\n"
     ]
    }
   ],
   "source": [
    "# Primeros archivos\n",
    "ls -l CUAUHTEMOC/* | head -10"
   ]
  },
  {
   "cell_type": "code",
   "execution_count": 24,
   "metadata": {},
   "outputs": [
    {
     "name": "stdout",
     "output_type": "stream",
     "text": [
      "-rw---xr-- 1 jovyan root 613 Nov  7 06:37 names_2009-03-12.dat\n",
      "-rw---xr-- 1 jovyan root 622 Nov  7 06:37 names_2009-04-20.dat\n",
      "-rw---xr-- 1 jovyan root 631 Nov  7 06:37 names_2010-06-20.txt\n",
      "-rw---xr-- 1 jovyan root 615 Nov  7 06:37 names_2012-07-10.dat\n",
      "-rw---xr-- 1 jovyan root 652 Nov  7 06:37 names_2012-08-11.txt\n",
      "-rw---xr-- 1 jovyan root 637 Nov  7 06:37 names_2012-08-31.txt\n",
      "-rw---xr-- 1 jovyan root 638 Nov  7 06:37 names_2013-06-11.dat\n",
      "-rw---xr-- 1 jovyan root 637 Nov  7 06:37 names_2013-10-31.txt\n",
      "-rw---xr-- 1 jovyan root 644 Nov  7 06:37 names_2014-01-19.txt\n",
      "-rw---xr-- 1 jovyan root 608 Nov  7 06:37 names_2016-11-29.dat\n",
      "\n"
     ]
    }
   ],
   "source": [
    "# Últimos archivos\n",
    "ls -l CUAUHTEMOC/* | tail -10"
   ]
  },
  {
   "cell_type": "markdown",
   "metadata": {},
   "source": [
    "Podemos ver que, en efecto, los permisos fueron asignados correctamente."
   ]
  },
  {
   "cell_type": "markdown",
   "metadata": {},
   "source": [
    "___\n",
    "__11.__ Cambia los permisos (por el método octal) de todos los archivos con terminación __.txt__ dentro de la carpeta `CUAUHTEMOC/sectorG/`, de tal manera que el dueño tenga lectura, escritura y ejecución, sólo lectura para el grupo y ningún permiso para los demás."
   ]
  },
  {
   "cell_type": "code",
   "execution_count": 25,
   "metadata": {},
   "outputs": [
    {
     "name": "stdout",
     "output_type": "stream",
     "text": [
      "-rwxr----- 1 jovyan root 623 Nov  7 06:37 CUAUHTEMOC/sectorG/names_2000-04-14.txt\n",
      "-rwxr----- 1 jovyan root 626 Nov  7 06:37 CUAUHTEMOC/sectorG/names_2001-10-21.txt\n",
      "-rwxr----- 1 jovyan root 626 Nov  7 06:37 CUAUHTEMOC/sectorG/names_2002-01-07.txt\n",
      "-rwxr----- 1 jovyan root 658 Nov  7 06:37 CUAUHTEMOC/sectorG/names_2002-06-03.txt\n",
      "-rwxr----- 1 jovyan root 611 Nov  7 06:37 CUAUHTEMOC/sectorG/names_2002-07-31.txt\n",
      "-rwxr----- 1 jovyan root 608 Nov  7 06:37 CUAUHTEMOC/sectorG/names_2002-12-03.txt\n",
      "-rwxr----- 1 jovyan root 641 Nov  7 06:37 CUAUHTEMOC/sectorG/names_2003-06-06.txt\n",
      "-rwxr----- 1 jovyan root 609 Nov  7 06:37 CUAUHTEMOC/sectorG/names_2005-02-27.txt\n",
      "-rwxr----- 1 jovyan root 628 Nov  7 06:37 CUAUHTEMOC/sectorG/names_2005-06-11.txt\n",
      "-rwxr----- 1 jovyan root 640 Nov  7 06:37 CUAUHTEMOC/sectorG/names_2006-08-15.txt\n",
      "-rwxr----- 1 jovyan root 654 Nov  7 06:37 CUAUHTEMOC/sectorG/names_2006-10-26.txt\n",
      "-rwxr----- 1 jovyan root 633 Nov  7 06:37 CUAUHTEMOC/sectorG/names_2007-12-11.txt\n",
      "-rwxr----- 1 jovyan root 639 Nov  7 06:37 CUAUHTEMOC/sectorG/names_2008-06-05.txt\n",
      "-rwxr----- 1 jovyan root 631 Nov  7 06:37 CUAUHTEMOC/sectorG/names_2009-08-31.txt\n",
      "-rwxr----- 1 jovyan root 640 Nov  7 06:37 CUAUHTEMOC/sectorG/names_2014-02-20.txt\n",
      "-rwxr----- 1 jovyan root 652 Nov  7 06:37 CUAUHTEMOC/sectorG/names_2014-09-01.txt\n",
      "-rwxr----- 1 jovyan root 644 Nov  7 06:37 CUAUHTEMOC/sectorG/names_2015-08-06.txt\n",
      "-rwxr----- 1 jovyan root 656 Nov  7 06:37 CUAUHTEMOC/sectorG/names_2016-06-09.txt\n",
      "-rwxr----- 1 jovyan root 620 Nov  7 06:37 CUAUHTEMOC/sectorG/names_2017-07-17.txt\n",
      "-rwxr----- 1 jovyan root 632 Nov  7 06:37 CUAUHTEMOC/sectorG/names_2017-11-25.txt\n",
      "-rwxr----- 1 jovyan root 590 Nov  7 06:37 CUAUHTEMOC/sectorG/names_2018-04-03.txt\n",
      "-rwxr----- 1 jovyan root 623 Nov  7 06:37 CUAUHTEMOC/sectorG/names_2018-04-29.txt\n",
      "-rwxr----- 1 jovyan root 632 Nov  7 06:37 CUAUHTEMOC/sectorG/names_2020-05-02.txt\n",
      "\n"
     ]
    }
   ],
   "source": [
    "chmod 740 CUAUHTEMOC/sectorG/*.txt # Asignamos permisos\n",
    "ls -l CUAUHTEMOC/sectorG/*txt # Verificamos permisos"
   ]
  },
  {
   "cell_type": "markdown",
   "metadata": {},
   "source": [
    "___\n",
    "__12.__ Cambia los permisos de todos los archivos con terminación __.dat__ dentro de la carpeta `CUAUHTEMOC/sectorP/`, de tal manera que el dueño tenga todos los permisos, sólo ejecución para el grupo y sólo lectura  para los demás. Aplica un `ls -l` para ver el resultado y guarda eso en un archivo con nombre `permisos.dat`"
   ]
  },
  {
   "cell_type": "code",
   "execution_count": 26,
   "metadata": {},
   "outputs": [
    {
     "name": "stdout",
     "output_type": "stream",
     "text": [
      "\n"
     ]
    }
   ],
   "source": [
    "chmod 714 CUAUHTEMOC/sectorP/*.dat # Asignamos permisos\n",
    "ls -l CUAUHTEMOC/sectorP/*dat > permisos.dat # Verificamos permisos y agregamos al archivo permisos.dat"
   ]
  },
  {
   "cell_type": "code",
   "execution_count": 27,
   "metadata": {},
   "outputs": [
    {
     "name": "stdout",
     "output_type": "stream",
     "text": [
      "-rwx--xr-- 1 jovyan root 643 Nov  7 06:37 CUAUHTEMOC/sectorP/names_2000-03-28.dat\n",
      "-rwx--xr-- 1 jovyan root 613 Nov  7 06:37 CUAUHTEMOC/sectorP/names_2000-06-06.dat\n",
      "-rwx--xr-- 1 jovyan root 620 Nov  7 06:37 CUAUHTEMOC/sectorP/names_2000-10-02.dat\n",
      "-rwx--xr-- 1 jovyan root 596 Nov  7 06:37 CUAUHTEMOC/sectorP/names_2000-11-24.dat\n",
      "-rwx--xr-- 1 jovyan root 605 Nov  7 06:37 CUAUHTEMOC/sectorP/names_2000-11-27.dat\n",
      "-rwx--xr-- 1 jovyan root 660 Nov  7 06:37 CUAUHTEMOC/sectorP/names_2001-02-27.dat\n",
      "-rwx--xr-- 1 jovyan root 632 Nov  7 06:37 CUAUHTEMOC/sectorP/names_2002-02-05.dat\n",
      "-rwx--xr-- 1 jovyan root 612 Nov  7 06:37 CUAUHTEMOC/sectorP/names_2002-08-11.dat\n",
      "-rwx--xr-- 1 jovyan root 612 Nov  7 06:37 CUAUHTEMOC/sectorP/names_2004-09-20.dat\n",
      "-rwx--xr-- 1 jovyan root 638 Nov  7 06:37 CUAUHTEMOC/sectorP/names_2006-09-19.dat\n",
      "\n"
     ]
    }
   ],
   "source": [
    "head permisos.dat"
   ]
  },
  {
   "cell_type": "markdown",
   "metadata": {},
   "source": [
    "___\n",
    "__13.__ Utiliza el método (númerico o simbólico) que quieras para cambiar los permisos de todos los archivos en cuyo nombre este la fecha de mayo (05) que están dentro de la carpetas `CUAUHTEMOC/sectorP/` y `CUAUHTEMOC/sectorO/`. Los permisos deberán quedar de la siguiente manera todos los permisos para el dueño y ningún permiso para el grupo y los demás usuarios."
   ]
  },
  {
   "cell_type": "code",
   "execution_count": 28,
   "metadata": {},
   "outputs": [
    {
     "name": "stdout",
     "output_type": "stream",
     "text": [
      "\n"
     ]
    }
   ],
   "source": [
    "chmod 700 CUAUHTEMOC/sectorP/*-05-*\n",
    "chmod 700 CUAUHTEMOC/sectorO/*-05-*"
   ]
  },
  {
   "cell_type": "code",
   "execution_count": 29,
   "metadata": {},
   "outputs": [
    {
     "name": "stdout",
     "output_type": "stream",
     "text": [
      "-rwx------ 1 jovyan root 623 Nov  7 06:37 CUAUHTEMOC/sectorP/names_2017-05-17.dat\n",
      "-rwx------ 1 jovyan root 621 Nov  7 06:37 CUAUHTEMOC/sectorP/names_2018-05-09.txt\n",
      "\n"
     ]
    }
   ],
   "source": [
    "ls -l CUAUHTEMOC/sectorP/*-05-*"
   ]
  },
  {
   "cell_type": "code",
   "execution_count": 30,
   "metadata": {},
   "outputs": [
    {
     "name": "stdout",
     "output_type": "stream",
     "text": [
      "-rwx------ 1 jovyan root 618 Nov  7 06:37 CUAUHTEMOC/sectorO/names_2003-05-04.dat\n",
      "-rwx------ 1 jovyan root 627 Nov  7 06:37 CUAUHTEMOC/sectorO/names_2009-05-06.dat\n",
      "\n"
     ]
    }
   ],
   "source": [
    "ls -l CUAUHTEMOC/sectorO/*-05-*"
   ]
  },
  {
   "cell_type": "markdown",
   "metadata": {},
   "source": [
    "___\n",
    "## find y grep"
   ]
  },
  {
   "cell_type": "markdown",
   "metadata": {},
   "source": [
    "__14.__ ¿Cuántos archivos tienen una extensión de `.txt` y cuántos tienen una extension `.dat`?"
   ]
  },
  {
   "cell_type": "code",
   "execution_count": 31,
   "metadata": {},
   "outputs": [
    {
     "name": "stdout",
     "output_type": "stream",
     "text": [
      "2036\n",
      "\n"
     ]
    }
   ],
   "source": [
    "find ../directorio/*/*/. -name '*.txt' | wc -l"
   ]
  },
  {
   "cell_type": "code",
   "execution_count": 32,
   "metadata": {},
   "outputs": [
    {
     "name": "stdout",
     "output_type": "stream",
     "text": [
      "2121\n",
      "\n"
     ]
    }
   ],
   "source": [
    "find ../directorio/*/*/* -name '*.dat' | wc -l"
   ]
  },
  {
   "cell_type": "markdown",
   "metadata": {},
   "source": [
    "2036 archivos tienen la extensión `.txt` y 2121 archivos tienen la extensión `.dat`"
   ]
  },
  {
   "cell_type": "markdown",
   "metadata": {},
   "source": [
    "____\n",
    "__15.__ ¿Cuántos veces aparece _tu nombre_ (sin apellido) en todos los archivos? \n"
   ]
  },
  {
   "cell_type": "code",
   "execution_count": 33,
   "metadata": {},
   "outputs": [
    {
     "name": "stdout",
     "output_type": "stream",
     "text": [
      "519\n",
      "\n"
     ]
    }
   ],
   "source": [
    "grep -o Rodrigo ../directorio/*/*/* | wc -l"
   ]
  },
  {
   "cell_type": "markdown",
   "metadata": {},
   "source": [
    "El nombre __Rodrigo__ aparece un total de 519 veces en todos los archivos."
   ]
  },
  {
   "cell_type": "markdown",
   "metadata": {},
   "source": [
    "____\n",
    "__16.__ ¿En cuántos archivos __NO__ aparecen tus nombres?"
   ]
  },
  {
   "cell_type": "code",
   "execution_count": 34,
   "metadata": {},
   "outputs": [
    {
     "name": "stdout",
     "output_type": "stream",
     "text": [
      "3668\n",
      "\n"
     ]
    }
   ],
   "source": [
    "grep -L Rodrigo ../directorio/*/*/* | wc -l"
   ]
  },
  {
   "cell_type": "markdown",
   "metadata": {},
   "source": [
    "El __3668__ archivos no aparece el nombre __Rodrigo__"
   ]
  },
  {
   "cell_type": "markdown",
   "metadata": {},
   "source": [
    "____\n",
    "__17.__ ¿Cuántos veces coincide tus nombres con un archivo que tenga el año de tu nacimiento?"
   ]
  },
  {
   "cell_type": "code",
   "execution_count": 35,
   "metadata": {},
   "outputs": [
    {
     "name": "stdout",
     "output_type": "stream",
     "text": [
      "0\n",
      "\n"
     ]
    }
   ],
   "source": [
    "find ../directorio/*/*/names_2000* -type f | grep -H 'Rodrigo' | wc -l"
   ]
  },
  {
   "cell_type": "markdown",
   "metadata": {},
   "source": [
    "Al aplicar la búsqueda con el filtro del año en que nací (__2000__) a los archivos y aplicar la búsqueda dentro de los archivos filtrados mi nombre (__Rodrigo__) obtenemos que aparece 0 veces."
   ]
  },
  {
   "cell_type": "markdown",
   "metadata": {},
   "source": [
    "____\n",
    "__18.__ ¿De cuántos directorios y subdirectorios está compuesta la base de datos?"
   ]
  },
  {
   "cell_type": "code",
   "execution_count": 36,
   "metadata": {},
   "outputs": [
    {
     "name": "stdout",
     "output_type": "stream",
     "text": [
      "16\n",
      "\n"
     ]
    }
   ],
   "source": [
    "find ../directorio/* -maxdepth 0 -type d | wc -l"
   ]
  },
  {
   "cell_type": "code",
   "execution_count": 37,
   "metadata": {},
   "outputs": [
    {
     "name": "stdout",
     "output_type": "stream",
     "text": [
      "170\n",
      "\n"
     ]
    }
   ],
   "source": [
    "find ../directorio/* -mindepth 1 -type d | wc -l"
   ]
  },
  {
   "cell_type": "code",
   "execution_count": 38,
   "metadata": {},
   "outputs": [
    {
     "name": "stdout",
     "output_type": "stream",
     "text": [
      "4157\n",
      "\n"
     ]
    }
   ],
   "source": [
    "find ../directorio/ -mindepth 1 -type f | wc -l"
   ]
  },
  {
   "cell_type": "markdown",
   "metadata": {},
   "source": [
    "La base de datos está compuesta de __16__ directorios principales, __170__ subdirectorios y __4157__ archivos."
   ]
  },
  {
   "cell_type": "markdown",
   "metadata": {},
   "source": [
    "____\n",
    "__19.__ ¿Cuántos archivos tienen un tamaño menor a 1150 bytes?"
   ]
  },
  {
   "cell_type": "code",
   "execution_count": 39,
   "metadata": {},
   "outputs": [
    {
     "name": "stdout",
     "output_type": "stream",
     "text": [
      "4157\n",
      "\n"
     ]
    }
   ],
   "source": [
    "find ../directorio/ -type f -size -1150c | wc -l"
   ]
  },
  {
   "cell_type": "markdown",
   "metadata": {},
   "source": [
    "__Todos__ los 4157 archivos que se encuentran en la base tienen un tamaño menor a 1150 bytes."
   ]
  },
  {
   "cell_type": "markdown",
   "metadata": {},
   "source": [
    "____\n",
    "__20.__ ¿Cuántos archivos coinciden con el año 2020 en su nombre y además pertencen al `sectorS`?"
   ]
  },
  {
   "cell_type": "code",
   "execution_count": 40,
   "metadata": {},
   "outputs": [
    {
     "name": "stdout",
     "output_type": "stream",
     "text": [
      "8\n",
      "\n"
     ]
    }
   ],
   "source": [
    "find ../directorio/*/sectorS/names_2020* | wc -l"
   ]
  },
  {
   "cell_type": "markdown",
   "metadata": {},
   "source": [
    "Son __8__ archivos que pertenecen a algún subdirectorio `sectorS` y que coinciden con el año 2020 en su nombre"
   ]
  },
  {
   "cell_type": "markdown",
   "metadata": {},
   "source": [
    "____\n",
    "Finalmente, comprimimos el directorio __Resultados__ con el comando especificado en el archivo de la Práctica 2: `tar czfv resultado.tar.gz Resultado/`"
   ]
  },
  {
   "cell_type": "code",
   "execution_count": 54,
   "metadata": {},
   "outputs": [
    {
     "name": "stdout",
     "output_type": "stream",
     "text": [
      "Resultado/\n",
      "Resultado/v\n",
      "Resultado/todosarchivos.txt\n",
      "Resultado/CUAUHTEMOC/\n",
      "Resultado/CUAUHTEMOC/sectorJ/\n",
      "Resultado/CUAUHTEMOC/sectorJ/names_2002-10-12.txt\n",
      "Resultado/CUAUHTEMOC/sectorJ/names_2010-05-18.dat\n",
      "Resultado/CUAUHTEMOC/sectorJ/names_2002-01-16.txt\n",
      "Resultado/CUAUHTEMOC/sectorJ/names_2000-05-20.txt\n",
      "Resultado/CUAUHTEMOC/sectorJ/names_2002-03-25.txt\n",
      "Resultado/CUAUHTEMOC/sectorJ/names_2005-08-24.dat\n",
      "Resultado/CUAUHTEMOC/sectorJ/names_2007-03-13.txt\n",
      "Resultado/CUAUHTEMOC/sectorJ/names_2005-10-03.dat\n",
      "Resultado/CUAUHTEMOC/sectorJ/names_2007-06-04.dat\n",
      "Resultado/CUAUHTEMOC/sectorJ/names_2013-05-22.dat\n",
      "Resultado/CUAUHTEMOC/sectorJ/names_2018-05-23.dat\n",
      "Resultado/CUAUHTEMOC/sectorJ/names_2002-12-04.txt\n",
      "Resultado/CUAUHTEMOC/sectorJ/names_2009-10-03.txt\n",
      "Resultado/CUAUHTEMOC/sectorJ/names_2011-04-12.dat\n",
      "Resultado/CUAUHTEMOC/sectorJ/names_2003-07-18.dat\n",
      "Resultado/CUAUHTEMOC/sectorJ/names_2009-04-11.dat\n",
      "Resultado/CUAUHTEMOC/sectorJ/names_2015-10-30.txt\n",
      "Resultado/CUAUHTEMOC/sectorJ/names_2001-08-26.txt\n",
      "Resultado/CUAUHTEMOC/sectorJ/names_2019-01-06.txt\n",
      "Resultado/CUAUHTEMOC/sectorJ/names_2014-05-09.dat\n",
      "Resultado/CUAUHTEMOC/sectorN/\n",
      "Resultado/CUAUHTEMOC/sectorN/names_2004-03-31.dat\n",
      "Resultado/CUAUHTEMOC/sectorN/names_2020-04-26.dat\n",
      "Resultado/CUAUHTEMOC/sectorN/names_2017-03-01.dat\n",
      "Resultado/CUAUHTEMOC/sectorN/names_2019-05-27.txt\n",
      "Resultado/CUAUHTEMOC/sectorN/names_2012-03-23.txt\n",
      "Resultado/CUAUHTEMOC/sectorN/names_2011-04-04.dat\n",
      "Resultado/CUAUHTEMOC/sectorN/names_2011-06-01.dat\n",
      "Resultado/CUAUHTEMOC/sectorN/names_2011-08-05.dat\n",
      "Resultado/CUAUHTEMOC/sectorN/names_2018-11-19.txt\n",
      "Resultado/CUAUHTEMOC/sectorN/names_2002-08-12.dat\n",
      "Resultado/CUAUHTEMOC/sectorN/names_2003-09-04.txt\n",
      "Resultado/CUAUHTEMOC/sectorN/names_2011-10-24.dat\n",
      "Resultado/CUAUHTEMOC/sectorN/names_2007-11-22.txt\n",
      "Resultado/CUAUHTEMOC/sectorN/names_2008-07-01.dat\n",
      "Resultado/CUAUHTEMOC/sectorN/names_2017-05-18.dat\n",
      "Resultado/CUAUHTEMOC/sectorN/names_2006-02-17.dat\n",
      "Resultado/CUAUHTEMOC/sectorN/names_2019-10-23.txt\n",
      "Resultado/CUAUHTEMOC/sectorN/names_2006-08-03.dat\n",
      "Resultado/CUAUHTEMOC/sectorN/names_2019-03-11.dat\n",
      "Resultado/CUAUHTEMOC/sectorN/names_2001-09-08.dat\n",
      "Resultado/CUAUHTEMOC/sectorO/\n",
      "Resultado/CUAUHTEMOC/sectorO/names_2009-01-12.txt\n",
      "Resultado/CUAUHTEMOC/sectorO/names_2006-02-22.txt\n",
      "Resultado/CUAUHTEMOC/sectorO/names_2019-04-20.txt\n",
      "Resultado/CUAUHTEMOC/sectorO/names_2005-10-07.dat\n",
      "Resultado/CUAUHTEMOC/sectorO/names_2000-08-09.dat\n",
      "Resultado/CUAUHTEMOC/sectorO/names_2002-01-15.dat\n",
      "Resultado/CUAUHTEMOC/sectorO/names_2009-05-06.dat\n",
      "Resultado/CUAUHTEMOC/sectorO/names_2011-10-02.dat\n",
      "Resultado/CUAUHTEMOC/sectorO/names_2004-10-29.dat\n",
      "Resultado/CUAUHTEMOC/sectorO/names_2015-01-31.dat\n",
      "Resultado/CUAUHTEMOC/sectorO/names_2014-09-19.dat\n",
      "Resultado/CUAUHTEMOC/sectorO/names_2010-01-14.txt\n",
      "Resultado/CUAUHTEMOC/sectorO/names_2010-08-05.txt\n",
      "Resultado/CUAUHTEMOC/sectorO/names_2004-04-19.dat\n",
      "Resultado/CUAUHTEMOC/sectorO/names_2004-03-16.txt\n",
      "Resultado/CUAUHTEMOC/sectorO/names_2018-07-13.txt\n",
      "Resultado/CUAUHTEMOC/sectorO/names_2006-02-09.txt\n",
      "Resultado/CUAUHTEMOC/sectorO/names_2013-10-08.dat\n",
      "Resultado/CUAUHTEMOC/sectorO/names_2003-05-04.dat\n",
      "Resultado/CUAUHTEMOC/sectorO/names_2019-02-10.txt\n",
      "Resultado/CUAUHTEMOC/sectorU/\n",
      "Resultado/CUAUHTEMOC/sectorU/names_2010-04-24.dat\n",
      "Resultado/CUAUHTEMOC/sectorU/names_2016-06-28.txt\n",
      "Resultado/CUAUHTEMOC/sectorU/names_2018-09-05.txt\n",
      "Resultado/CUAUHTEMOC/sectorU/names_2008-05-19.txt\n",
      "Resultado/CUAUHTEMOC/sectorU/names_2016-06-23.txt\n",
      "Resultado/CUAUHTEMOC/sectorU/names_2005-05-27.txt\n",
      "Resultado/CUAUHTEMOC/sectorU/names_2004-12-31.dat\n",
      "Resultado/CUAUHTEMOC/sectorU/names_2007-01-14.dat\n",
      "Resultado/CUAUHTEMOC/sectorU/names_2013-06-15.txt\n",
      "Resultado/CUAUHTEMOC/sectorU/names_2016-04-17.txt\n",
      "Resultado/CUAUHTEMOC/sectorU/names_2003-06-13.txt\n",
      "Resultado/CUAUHTEMOC/sectorU/names_2019-01-31.txt\n",
      "Resultado/CUAUHTEMOC/sectorU/names_2001-01-20.txt\n",
      "Resultado/CUAUHTEMOC/sectorU/names_2001-12-31.dat\n",
      "Resultado/CUAUHTEMOC/sectorU/names_2018-12-03.txt\n",
      "Resultado/CUAUHTEMOC/sectorU/names_2007-11-18.dat\n",
      "Resultado/CUAUHTEMOC/sectorU/names_2011-10-30.dat\n",
      "Resultado/CUAUHTEMOC/sectorU/names_2000-11-18.txt\n",
      "Resultado/CUAUHTEMOC/sectorU/names_2008-12-28.txt\n",
      "Resultado/CUAUHTEMOC/sectorU/names_2013-01-28.dat\n",
      "Resultado/CUAUHTEMOC/sectorV/\n",
      "Resultado/CUAUHTEMOC/sectorV/names_2000-08-23.dat\n",
      "Resultado/CUAUHTEMOC/sectorV/names_2006-06-21.dat\n",
      "Resultado/CUAUHTEMOC/sectorV/names_2012-08-31.txt\n",
      "Resultado/CUAUHTEMOC/sectorV/names_2013-10-31.txt\n",
      "Resultado/CUAUHTEMOC/sectorV/names_2008-02-16.dat\n",
      "Resultado/CUAUHTEMOC/sectorV/names_2006-11-30.dat\n",
      "Resultado/CUAUHTEMOC/sectorV/names_2009-04-20.dat\n",
      "Resultado/CUAUHTEMOC/sectorV/names_2006-05-02.dat\n",
      "Resultado/CUAUHTEMOC/sectorV/names_2013-06-11.dat\n",
      "Resultado/CUAUHTEMOC/sectorV/names_2004-12-10.txt\n",
      "Resultado/CUAUHTEMOC/sectorV/names_2009-02-21.dat\n",
      "Resultado/CUAUHTEMOC/sectorV/names_2005-03-27.dat\n",
      "Resultado/CUAUHTEMOC/sectorV/names_2007-12-04.dat\n",
      "Resultado/CUAUHTEMOC/sectorV/names_2009-03-12.dat\n",
      "Resultado/CUAUHTEMOC/sectorV/names_2012-07-10.dat\n",
      "Resultado/CUAUHTEMOC/sectorV/names_2016-11-29.dat\n",
      "Resultado/CUAUHTEMOC/sectorV/names_2010-06-20.txt\n",
      "Resultado/CUAUHTEMOC/sectorV/names_2012-08-11.txt\n",
      "Resultado/CUAUHTEMOC/sectorV/names_2014-01-19.txt\n",
      "Resultado/CUAUHTEMOC/sectorV/names_2003-03-04.dat\n",
      "Resultado/CUAUHTEMOC/sectorG/\n",
      "Resultado/CUAUHTEMOC/sectorG/names_2018-04-29.txt\n",
      "Resultado/CUAUHTEMOC/sectorG/names_2020-05-02.txt\n",
      "Resultado/CUAUHTEMOC/sectorG/names_2008-06-05.txt\n",
      "Resultado/CUAUHTEMOC/sectorG/names_2001-03-03.dat\n",
      "Resultado/CUAUHTEMOC/sectorG/names_2011-05-21.dat\n",
      "Resultado/CUAUHTEMOC/sectorG/names_2006-10-26.txt\n",
      "Resultado/CUAUHTEMOC/sectorG/names_2005-06-11.txt\n",
      "Resultado/CUAUHTEMOC/sectorG/names_2017-01-23.dat\n",
      "Resultado/CUAUHTEMOC/sectorG/names_2018-04-03.txt\n",
      "Resultado/CUAUHTEMOC/sectorG/names_2002-01-07.txt\n",
      "Resultado/CUAUHTEMOC/sectorG/names_2007-09-06.dat\n",
      "Resultado/CUAUHTEMOC/sectorG/names_2015-08-06.txt\n",
      "Resultado/CUAUHTEMOC/sectorG/names_2003-06-06.txt\n",
      "Resultado/CUAUHTEMOC/sectorG/names_2007-12-11.txt\n",
      "Resultado/CUAUHTEMOC/sectorG/names_2017-11-25.txt\n",
      "Resultado/CUAUHTEMOC/sectorG/names_2006-08-15.txt\n",
      "Resultado/CUAUHTEMOC/sectorG/names_2009-08-31.txt\n",
      "Resultado/CUAUHTEMOC/sectorG/names_2008-08-10.dat\n",
      "Resultado/CUAUHTEMOC/sectorG/names_2014-09-01.txt\n",
      "Resultado/CUAUHTEMOC/sectorG/names_2002-07-31.txt\n",
      "Resultado/CUAUHTEMOC/sectorG/names_2018-04-23.dat\n",
      "Resultado/CUAUHTEMOC/sectorG/names_2002-06-03.txt\n",
      "Resultado/CUAUHTEMOC/sectorG/names_2005-02-27.txt\n",
      "Resultado/CUAUHTEMOC/sectorG/names_2008-12-24.dat\n",
      "Resultado/CUAUHTEMOC/sectorG/names_2009-03-25.dat\n",
      "Resultado/CUAUHTEMOC/sectorG/names_2000-04-14.txt\n",
      "Resultado/CUAUHTEMOC/sectorG/names_2012-06-21.dat\n",
      "Resultado/CUAUHTEMOC/sectorG/names_2016-06-09.txt\n",
      "Resultado/CUAUHTEMOC/sectorG/names_2009-10-14.dat\n",
      "Resultado/CUAUHTEMOC/sectorG/names_2014-02-20.txt\n",
      "Resultado/CUAUHTEMOC/sectorG/names_2002-12-03.txt\n",
      "Resultado/CUAUHTEMOC/sectorG/names_2017-07-17.txt\n",
      "Resultado/CUAUHTEMOC/sectorG/names_2020-06-03.dat\n",
      "Resultado/CUAUHTEMOC/sectorG/names_2003-09-09.dat\n",
      "Resultado/CUAUHTEMOC/sectorG/names_2020-10-06.dat\n",
      "Resultado/CUAUHTEMOC/sectorG/names_2013-11-26.dat\n",
      "Resultado/CUAUHTEMOC/sectorG/names_2019-09-03.dat\n",
      "Resultado/CUAUHTEMOC/sectorG/names_2017-04-20.dat\n",
      "Resultado/CUAUHTEMOC/sectorG/names_2020-08-08.dat\n",
      "Resultado/CUAUHTEMOC/sectorG/names_2001-10-21.txt\n",
      "Resultado/CUAUHTEMOC/sectorR/\n",
      "Resultado/CUAUHTEMOC/sectorR/names_2002-05-28.dat\n",
      "Resultado/CUAUHTEMOC/sectorR/names_2007-06-07.txt\n",
      "Resultado/CUAUHTEMOC/sectorR/names_2007-07-06.txt\n",
      "Resultado/CUAUHTEMOC/sectorR/names_2012-07-12.txt\n",
      "Resultado/CUAUHTEMOC/sectorR/names_2019-02-14.dat\n",
      "Resultado/CUAUHTEMOC/sectorR/names_2002-09-16.dat\n",
      "Resultado/CUAUHTEMOC/sectorR/names_2011-06-01.txt\n",
      "Resultado/CUAUHTEMOC/sectorR/names_2015-07-25.dat\n",
      "Resultado/CUAUHTEMOC/sectorR/names_2008-04-12.dat\n",
      "Resultado/CUAUHTEMOC/sectorR/names_2017-02-03.dat\n",
      "Resultado/CUAUHTEMOC/sectorR/names_2017-12-01.dat\n",
      "Resultado/CUAUHTEMOC/sectorR/names_2016-09-21.dat\n",
      "Resultado/CUAUHTEMOC/sectorR/names_2008-08-16.txt\n",
      "Resultado/CUAUHTEMOC/sectorR/names_2006-09-06.dat\n",
      "Resultado/CUAUHTEMOC/sectorR/names_2007-04-21.txt\n",
      "Resultado/CUAUHTEMOC/sectorR/names_2017-09-07.txt\n",
      "Resultado/CUAUHTEMOC/sectorR/names_2002-12-09.txt\n",
      "Resultado/CUAUHTEMOC/sectorR/names_2020-07-15.dat\n",
      "Resultado/CUAUHTEMOC/sectorR/names_2013-06-28.dat\n",
      "Resultado/CUAUHTEMOC/sectorR/names_2019-01-03.txt\n",
      "Resultado/CUAUHTEMOC/sectorM/\n",
      "Resultado/CUAUHTEMOC/sectorM/names_2007-04-23.dat\n",
      "Resultado/CUAUHTEMOC/sectorM/names_2011-06-21.dat\n",
      "Resultado/CUAUHTEMOC/sectorM/names_2007-04-24.txt\n",
      "Resultado/CUAUHTEMOC/sectorM/names_2020-09-09.dat\n",
      "Resultado/CUAUHTEMOC/sectorM/names_2005-09-03.txt\n",
      "Resultado/CUAUHTEMOC/sectorM/names_2001-08-06.dat\n",
      "Resultado/CUAUHTEMOC/sectorM/names_2016-12-14.txt\n",
      "Resultado/CUAUHTEMOC/sectorM/names_2001-08-12.dat\n",
      "Resultado/CUAUHTEMOC/sectorM/names_2014-10-13.dat\n",
      "Resultado/CUAUHTEMOC/sectorM/names_2020-03-19.txt\n",
      "Resultado/CUAUHTEMOC/sectorM/names_2019-01-07.txt\n",
      "Resultado/CUAUHTEMOC/sectorM/names_2007-11-22.txt\n",
      "Resultado/CUAUHTEMOC/sectorM/names_2002-12-22.dat\n",
      "Resultado/CUAUHTEMOC/sectorM/names_2012-02-26.txt\n",
      "Resultado/CUAUHTEMOC/sectorM/names_2002-11-03.txt\n",
      "Resultado/CUAUHTEMOC/sectorM/names_2020-05-09.dat\n",
      "Resultado/CUAUHTEMOC/sectorM/names_2008-12-12.txt\n",
      "Resultado/CUAUHTEMOC/sectorM/names_2019-03-01.dat\n",
      "Resultado/CUAUHTEMOC/sectorM/names_2018-11-06.dat\n",
      "Resultado/CUAUHTEMOC/sectorM/names_2017-06-29.txt\n",
      "Resultado/CUAUHTEMOC/sectorA/\n",
      "Resultado/CUAUHTEMOC/sectorA/names_2007-07-01.txt\n",
      "Resultado/CUAUHTEMOC/sectorA/names_2019-08-03.txt\n",
      "Resultado/CUAUHTEMOC/sectorA/names_2008-02-13.txt\n",
      "Resultado/CUAUHTEMOC/sectorA/names_2006-07-15.txt\n",
      "Resultado/CUAUHTEMOC/sectorA/names_2011-02-18.dat\n",
      "Resultado/CUAUHTEMOC/sectorA/names_2015-07-16.txt\n",
      "Resultado/CUAUHTEMOC/sectorA/names_2008-01-24.txt\n",
      "Resultado/CUAUHTEMOC/sectorA/names_2018-06-14.dat\n",
      "Resultado/CUAUHTEMOC/sectorA/names_2004-01-19.dat\n",
      "Resultado/CUAUHTEMOC/sectorA/names_2002-12-26.dat\n",
      "Resultado/CUAUHTEMOC/sectorA/names_2006-08-22.txt\n",
      "Resultado/CUAUHTEMOC/sectorA/names_2006-03-04.dat\n",
      "Resultado/CUAUHTEMOC/sectorA/names_2019-02-02.txt\n",
      "Resultado/CUAUHTEMOC/sectorA/names_2000-07-13.txt\n",
      "Resultado/CUAUHTEMOC/sectorA/names_2018-02-09.txt\n",
      "Resultado/CUAUHTEMOC/sectorA/names_2015-08-05.txt\n",
      "Resultado/CUAUHTEMOC/sectorA/names_2018-07-14.txt\n",
      "Resultado/CUAUHTEMOC/sectorA/names_2001-04-24.txt\n",
      "Resultado/CUAUHTEMOC/sectorA/names_2008-12-25.dat\n",
      "Resultado/CUAUHTEMOC/sectorA/names_2006-06-28.dat\n",
      "Resultado/CUAUHTEMOC/sectorE/\n",
      "Resultado/CUAUHTEMOC/sectorE/names_2012-02-07.txt\n",
      "Resultado/CUAUHTEMOC/sectorE/names_2002-04-21.dat\n",
      "Resultado/CUAUHTEMOC/sectorE/names_2016-06-13.txt\n",
      "Resultado/CUAUHTEMOC/sectorE/names_2018-11-21.txt\n",
      "Resultado/CUAUHTEMOC/sectorE/names_2003-04-06.txt\n",
      "Resultado/CUAUHTEMOC/sectorE/names_2020-10-17.dat\n",
      "Resultado/CUAUHTEMOC/sectorE/names_2005-11-20.dat\n",
      "Resultado/CUAUHTEMOC/sectorE/names_2001-07-03.txt\n",
      "Resultado/CUAUHTEMOC/sectorE/names_2018-06-18.txt\n",
      "Resultado/CUAUHTEMOC/sectorE/names_2014-01-09.txt\n",
      "Resultado/CUAUHTEMOC/sectorE/names_2010-06-13.dat\n",
      "Resultado/CUAUHTEMOC/sectorE/names_2017-07-23.txt\n",
      "Resultado/CUAUHTEMOC/sectorE/names_2012-10-13.dat\n",
      "Resultado/CUAUHTEMOC/sectorE/names_2012-05-12.dat\n",
      "Resultado/CUAUHTEMOC/sectorE/names_2005-04-09.txt\n",
      "Resultado/CUAUHTEMOC/sectorE/names_2020-03-07.dat\n",
      "Resultado/CUAUHTEMOC/sectorE/names_2006-07-18.txt\n",
      "Resultado/CUAUHTEMOC/sectorE/names_2001-01-14.dat\n",
      "Resultado/CUAUHTEMOC/sectorE/names_2013-12-27.dat\n",
      "Resultado/CUAUHTEMOC/sectorE/names_2009-01-19.txt\n",
      "Resultado/CUAUHTEMOC/sectorP/\n",
      "Resultado/CUAUHTEMOC/sectorP/names_2001-02-27.dat\n",
      "Resultado/CUAUHTEMOC/sectorP/names_2000-06-06.dat\n",
      "Resultado/CUAUHTEMOC/sectorP/names_2007-10-30.txt\n",
      "Resultado/CUAUHTEMOC/sectorP/names_2012-08-06.dat\n",
      "Resultado/CUAUHTEMOC/sectorP/names_2011-04-05.dat\n",
      "Resultado/CUAUHTEMOC/sectorP/names_2016-01-31.txt\n",
      "Resultado/CUAUHTEMOC/sectorP/names_2000-10-02.dat\n",
      "Resultado/CUAUHTEMOC/sectorP/names_2004-09-20.dat\n",
      "Resultado/CUAUHTEMOC/sectorP/names_2000-11-27.dat\n",
      "Resultado/CUAUHTEMOC/sectorP/names_2011-03-27.dat\n",
      "Resultado/CUAUHTEMOC/sectorP/names_2000-03-28.dat\n",
      "Resultado/CUAUHTEMOC/sectorP/names_2012-01-11.txt\n",
      "Resultado/CUAUHTEMOC/sectorP/names_2012-01-23.dat\n",
      "Resultado/CUAUHTEMOC/sectorP/names_2002-02-05.dat\n",
      "Resultado/CUAUHTEMOC/sectorP/names_2016-03-18.txt\n",
      "Resultado/CUAUHTEMOC/sectorP/names_2020-02-28.txt\n",
      "Resultado/CUAUHTEMOC/sectorP/names_2001-12-09.txt\n",
      "Resultado/CUAUHTEMOC/sectorP/names_2016-09-02.dat\n",
      "Resultado/CUAUHTEMOC/sectorP/names_2010-10-12.dat\n",
      "Resultado/CUAUHTEMOC/sectorP/names_2018-05-09.txt\n",
      "Resultado/CUAUHTEMOC/sectorP/names_2008-12-05.txt\n",
      "Resultado/CUAUHTEMOC/sectorP/names_2007-03-03.txt\n",
      "Resultado/CUAUHTEMOC/sectorP/names_2007-12-08.dat\n",
      "Resultado/CUAUHTEMOC/sectorP/names_2008-09-27.dat\n",
      "Resultado/CUAUHTEMOC/sectorP/names_2009-01-06.dat\n",
      "Resultado/CUAUHTEMOC/sectorP/names_2012-08-15.txt\n",
      "Resultado/CUAUHTEMOC/sectorP/names_2011-09-21.txt\n",
      "Resultado/CUAUHTEMOC/sectorP/names_2016-02-22.txt\n",
      "Resultado/CUAUHTEMOC/sectorP/names_2000-11-24.dat\n",
      "Resultado/CUAUHTEMOC/sectorP/names_2011-06-07.dat\n",
      "Resultado/CUAUHTEMOC/sectorP/names_2009-08-13.txt\n",
      "Resultado/CUAUHTEMOC/sectorP/names_2007-07-30.txt\n",
      "Resultado/CUAUHTEMOC/sectorP/names_2006-09-19.dat\n",
      "Resultado/CUAUHTEMOC/sectorP/names_2002-08-11.dat\n",
      "Resultado/CUAUHTEMOC/sectorP/names_2018-10-10.dat\n",
      "Resultado/CUAUHTEMOC/sectorP/names_2017-08-19.dat\n",
      "Resultado/CUAUHTEMOC/sectorP/names_2012-07-14.dat\n",
      "Resultado/CUAUHTEMOC/sectorP/names_2010-06-22.dat\n",
      "Resultado/CUAUHTEMOC/sectorP/names_2017-05-17.dat\n",
      "Resultado/CUAUHTEMOC/sectorP/names_2012-11-28.txt\n",
      "Resultado/feliz\n",
      "Resultado/colacabeza.txt\n",
      "Resultado/catinverso.dat\n",
      "Resultado/permisos.dat\n",
      "\n"
     ]
    }
   ],
   "source": [
    "cd ..\n",
    "tar czfv resultado.tar.gz Resultado/"
   ]
  }
 ],
 "metadata": {
  "kernelspec": {
   "display_name": "Calysto Bash",
   "language": "bash",
   "name": "calysto_bash"
  },
  "language_info": {
   "file_extension": ".sh",
   "help_links": [
    {
     "text": "MetaKernel Magics",
     "url": "https://metakernel.readthedocs.io/en/latest/source/README.html"
    }
   ],
   "mimetype": "text/x-sh",
   "name": "bash",
   "version": "0.2.2"
  }
 },
 "nbformat": 4,
 "nbformat_minor": 4
}
